{
  "cells": [
    {
      "cell_type": "markdown",
      "metadata": {
        "id": "ZEh5ihcgUZRT"
      },
      "source": [
        "# Tutorial 2: Introduction to PyTorch\n",
        "\n",
        "![Status](https://img.shields.io/static/v1.svg?label=Status&message=Finished&color=green)\n",
        "\n",
        "**Filled notebook:**\n",
        "[![View filled on Github](https://img.shields.io/static/v1.svg?logo=github&label=Repo&message=View%20On%20Github&color=lightgrey)](https://github.com/phlippe/uvadlc_notebooks/blob/master/docs/tutorial_notebooks/tutorial2/Introduction_to_PyTorch.ipynb)\n"
      ]
    },
    {
      "cell_type": "markdown",
      "metadata": {
        "id": "2YGQ6mKNUZRW"
      },
      "source": [
        "Welcome to our PyTorch tutorial for the Deep Learning course 2023 at the University of Amsterdam! The following notebook is meant to give a short introduction to PyTorch basics, and get you setup for writing your own neural networks. PyTorch is an open source machine learning framework that allows you to write your own neural networks and optimize them efficiently. However, PyTorch is not the only framework of its kind. Alternatives to PyTorch include [TensorFlow](https://www.tensorflow.org/), [JAX](https://github.com/google/jax#quickstart-colab-in-the-cloud) and [Caffe](http://caffe.berkeleyvision.org/). We choose to teach PyTorch at the University of Amsterdam because it is well established, has a huge developer community (originally developed by Facebook), is very flexible and especially used in research. Many current papers publish their code in PyTorch, and thus it is good to be familiar with PyTorch as well.\n",
        "Meanwhile, TensorFlow (developed by Google) is usually known for being a production-grade deep learning library. Still, if you know one machine learning framework in depth, it is very easy to learn another one because many of them use the same concepts and ideas. For instance, TensorFlow's version 2 was heavily inspired by the most popular features of PyTorch, making the frameworks even more similar.\n",
        "If you are already familiar with PyTorch and have created your own neural network projects, feel free to just skim this notebook.\n",
        "\n",
        "We are of course not the first ones to create a PyTorch tutorial. There are many great tutorials online, including the [\"60-min blitz\"](https://pytorch.org/tutorials/beginner/deep_learning_60min_blitz.html) on the official [PyTorch website](https://pytorch.org/tutorials/). Yet, we choose to create our own tutorial which is designed to give you the basics particularly necessary for the practicals, but still understand how PyTorch works under the hood. Over the next few weeks, we will also keep exploring new PyTorch features in the series of Jupyter notebook tutorials about deep learning.\n",
        "\n",
        "We will use a set of standard libraries that are often used in machine learning projects. If you are running this notebook on Google Colab, all libraries should be pre-installed. If you are running this notebook locally, make sure you have installed our `dl2023` environment and have activated it."
      ]
    },
    {
      "cell_type": "code",
      "execution_count": 1,
      "metadata": {
        "id": "yiyvuSDfUZRX",
        "outputId": "3ba1c455-6c81-4425-c63f-204a29b7418f"
      },
      "outputs": [
        {
          "name": "stderr",
          "output_type": "stream",
          "text": [
            "c:\\Users\\anatali\\Anaconda3\\lib\\site-packages\\ipykernel_launcher.py:11: DeprecationWarning: `set_matplotlib_formats` is deprecated since IPython 7.23, directly use `matplotlib_inline.backend_inline.set_matplotlib_formats()`\n",
            "  # This is added back by InteractiveShellApp.init_path()\n"
          ]
        }
      ],
      "source": [
        "## Standard libraries\n",
        "import os\n",
        "import math\n",
        "import numpy as np\n",
        "import time\n",
        "\n",
        "## Imports for plotting\n",
        "import matplotlib.pyplot as plt\n",
        "%matplotlib inline\n",
        "from IPython.display import set_matplotlib_formats\n",
        "set_matplotlib_formats('svg', 'pdf') # For export\n",
        "from matplotlib.colors import to_rgba\n",
        "import seaborn as sns\n",
        "sns.set()\n",
        "\n",
        "## Progress bar\n",
        "from tqdm.notebook import tqdm"
      ]
    },
    {
      "cell_type": "markdown",
      "metadata": {
        "id": "kHFNft71UZRZ"
      },
      "source": [
        "## The Basics of PyTorch\n",
        "\n",
        "We will start with reviewing the very basic concepts of PyTorch. As a prerequisite, we recommend to be familiar with the `numpy` package as most machine learning frameworks are based on very similar concepts. If you are not familiar with numpy yet, don't worry: here is a [tutorial](https://numpy.org/devdocs/user/quickstart.html) to go through.\n",
        "\n",
        "So, let's start with importing PyTorch. The package is called `torch`, based on its original framework [Torch](http://torch.ch/). As a first step, we can check its version:"
      ]
    },
    {
      "cell_type": "code",
      "execution_count": 2,
      "metadata": {
        "id": "7NvT1R0HUZRZ",
        "outputId": "48e1e53a-af6d-4cdd-8d90-3714d2cc5c42"
      },
      "outputs": [
        {
          "name": "stdout",
          "output_type": "stream",
          "text": [
            "Using torch 1.9.0+cu111\n"
          ]
        }
      ],
      "source": [
        "import torch\n",
        "print(\"Using torch\", torch.__version__)"
      ]
    },
    {
      "cell_type": "markdown",
      "metadata": {
        "id": "20ie2IluUZRZ"
      },
      "source": [
        "At the time of writing this tutorial (end of October 2023), the current stable version is 2.1. You should therefore see the output `Using torch 2.1.0` or `Using torch 2.0.0`, eventually with some extension for the CUDA version on Colab. In case you use the `dl2023` environment, you should see `Using torch 2.1.0`. In general, it is recommended to keep the PyTorch version updated to the newest one. If you see a lower version number than 2.0, make sure you have installed the correct environment, or ask one of your TAs. In case PyTorch 2.2 or newer will be published during the time of the course, don't worry. The interface between PyTorch versions doesn't change too much, and hence all code should also be runnable with newer versions.\n",
        "\n",
        "As in every machine learning framework, PyTorch provides functions that are stochastic like generating random numbers. However, a very good practice is to setup your code to be reproducible with the exact same random numbers. This is why we set a seed below."
      ]
    },
    {
      "cell_type": "code",
      "execution_count": 3,
      "metadata": {
        "id": "QmMS3oayUZRa",
        "outputId": "50adae5b-980e-4f0e-ffd9-3d97b9dd2524"
      },
      "outputs": [
        {
          "data": {
            "text/plain": [
              "<torch._C.Generator at 0x1e283e4ae90>"
            ]
          },
          "execution_count": 3,
          "metadata": {},
          "output_type": "execute_result"
        }
      ],
      "source": [
        "torch.manual_seed(42) # Setting the seed"
      ]
    },
    {
      "cell_type": "markdown",
      "metadata": {
        "id": "EGuua9m9UZRa"
      },
      "source": [
        "### Tensors\n",
        "\n",
        "Tensors are the PyTorch equivalent to Numpy arrays, with the addition to also have support for GPU acceleration (more on that later).\n",
        "The name \"tensor\" is a generalization of concepts you already know. For instance, a vector is a 1-D tensor, and a matrix a 2-D tensor. When working with neural networks, we will use tensors of various shapes and number of dimensions.\n",
        "\n",
        "Most common functions you know from numpy can be used on tensors as well. Actually, since numpy arrays are so similar to tensors, we can convert most tensors to numpy arrays (and back) but we don't need it too often.\n",
        "\n",
        "#### Initialization\n",
        "\n",
        "Let's first start by looking at different ways of creating a tensor. There are many possible options, the simplest one is to call `torch.Tensor` passing the desired shape as input argument:"
      ]
    },
    {
      "cell_type": "code",
      "execution_count": 4,
      "metadata": {
        "id": "vXdBPmgCUZRb",
        "outputId": "d6af9412-ff0d-419a-94e1-779e5599e7a6"
      },
      "outputs": [
        {
          "name": "stdout",
          "output_type": "stream",
          "text": [
            "tensor([[[9.2755e-39, 1.0561e-38, 8.9082e-39, 8.9082e-39],\n",
            "         [8.9082e-39, 9.6429e-39, 5.9694e-39, 8.9082e-39],\n",
            "         [1.0194e-38, 9.1837e-39, 4.6837e-39, 9.9184e-39]],\n",
            "\n",
            "        [[9.0000e-39, 1.0561e-38, 1.0653e-38, 4.1327e-39],\n",
            "         [8.9082e-39, 9.8265e-39, 9.4592e-39, 1.0561e-38],\n",
            "         [1.0653e-38, 1.0469e-38, 8.9082e-39, 1.0194e-38]]])\n"
          ]
        }
      ],
      "source": [
        "x = torch.Tensor(2, 3, 4) \n",
        "print(x)"
      ]
    },
    {
      "cell_type": "markdown",
      "metadata": {
        "id": "wRGQgn4SUZRb"
      },
      "source": [
        "The function `torch.Tensor` allocates memory for the desired tensor, but reuses any values that have already been in the memory. To directly assign values to the tensor during initialization, there are many alternatives including:\n",
        "\n",
        "* `torch.zeros`: Creates a tensor filled with zeros\n",
        "* `torch.ones`: Creates a tensor filled with ones\n",
        "* `torch.rand`: Creates a tensor with random values uniformly sampled between 0 and 1\n",
        "* `torch.randn`: Creates a tensor with random values sampled from a normal distribution with mean 0 and variance 1\n",
        "* `torch.arange`: Creates a tensor containing the values $N,N+1,N+2,...,M$\n",
        "* `torch.Tensor` (input list): Creates a tensor from the list elements you provide"
      ]
    },
    {
      "cell_type": "code",
      "execution_count": 5,
      "metadata": {
        "id": "9ltAxBp1UZRb",
        "outputId": "3cb4d833-084c-44d1-85b8-9140beaceebe"
      },
      "outputs": [
        {
          "name": "stdout",
          "output_type": "stream",
          "text": [
            "tensor([[1., 2.],\n",
            "        [3., 4.]])\n"
          ]
        }
      ],
      "source": [
        "# Create a tensor from a (nested) list\n",
        "x = torch.Tensor([[1, 2], [3, 4]])\n",
        "print(x)"
      ]
    },
    {
      "cell_type": "code",
      "execution_count": 6,
      "metadata": {
        "id": "BeaJYOaVUZRb",
        "outputId": "b422d7a9-7495-4573-bfe1-2f8d89c250ca"
      },
      "outputs": [
        {
          "name": "stdout",
          "output_type": "stream",
          "text": [
            "tensor([[[0.8823, 0.9150, 0.3829, 0.9593],\n",
            "         [0.3904, 0.6009, 0.2566, 0.7936],\n",
            "         [0.9408, 0.1332, 0.9346, 0.5936]],\n",
            "\n",
            "        [[0.8694, 0.5677, 0.7411, 0.4294],\n",
            "         [0.8854, 0.5739, 0.2666, 0.6274],\n",
            "         [0.2696, 0.4414, 0.2969, 0.8317]]])\n"
          ]
        }
      ],
      "source": [
        "# Create a tensor with random values between 0 and 1 with the shape [2, 3, 4]\n",
        "x = torch.rand(2, 3, 4)\n",
        "print(x)"
      ]
    },
    {
      "cell_type": "markdown",
      "metadata": {
        "id": "LDkCG2rmUZRc"
      },
      "source": [
        "You can obtain the shape of a tensor in the same way as in numpy (`x.shape`), or using the `.size` method:"
      ]
    },
    {
      "cell_type": "code",
      "execution_count": 7,
      "metadata": {
        "id": "Psl2mYWmUZRc",
        "outputId": "47199d85-3973-4450-ff5e-717eba8ec47c"
      },
      "outputs": [
        {
          "name": "stdout",
          "output_type": "stream",
          "text": [
            "Shape: torch.Size([2, 3, 4])\n",
            "Size: torch.Size([2, 3, 4])\n",
            "Size: 2 3 4\n"
          ]
        }
      ],
      "source": [
        "shape = x.shape\n",
        "print(\"Shape:\", x.shape)\n",
        "\n",
        "size = x.size()\n",
        "print(\"Size:\", size)\n",
        "\n",
        "dim1, dim2, dim3 = x.size()\n",
        "print(\"Size:\", dim1, dim2, dim3)"
      ]
    },
    {
      "cell_type": "markdown",
      "metadata": {
        "id": "bGYpJ3pyUZRc"
      },
      "source": [
        "#### Tensor to Numpy, and Numpy to Tensor\n",
        "\n",
        "Tensors can be converted to numpy arrays, and numpy arrays back to tensors. To transform a numpy array into a tensor, we can use the function `torch.from_numpy`:"
      ]
    },
    {
      "cell_type": "code",
      "execution_count": 8,
      "metadata": {
        "id": "8nGImBOyUZRc",
        "outputId": "5f36b020-6a7b-48ad-8065-3159837543c3"
      },
      "outputs": [
        {
          "name": "stdout",
          "output_type": "stream",
          "text": [
            "Numpy array: [[1 2]\n",
            " [3 4]]\n",
            "PyTorch tensor: tensor([[1, 2],\n",
            "        [3, 4]], dtype=torch.int32)\n"
          ]
        }
      ],
      "source": [
        "np_arr = np.array([[1, 2], [3, 4]])\n",
        "tensor = torch.from_numpy(np_arr)\n",
        "\n",
        "print(\"Numpy array:\", np_arr)\n",
        "print(\"PyTorch tensor:\", tensor)"
      ]
    },
    {
      "cell_type": "markdown",
      "metadata": {
        "id": "_aybCXfqUZRd"
      },
      "source": [
        "To transform a PyTorch tensor back to a numpy array, we can use the function `.numpy()` on tensors:"
      ]
    },
    {
      "cell_type": "code",
      "execution_count": 9,
      "metadata": {
        "id": "lHUX4TFdUZRd",
        "outputId": "1c17908e-74cd-4103-f0b1-6490a6be8508"
      },
      "outputs": [
        {
          "name": "stdout",
          "output_type": "stream",
          "text": [
            "PyTorch tensor: tensor([0, 1, 2, 3])\n",
            "Numpy array: [0 1 2 3]\n"
          ]
        }
      ],
      "source": [
        "tensor = torch.arange(4)\n",
        "np_arr = tensor.numpy()\n",
        "\n",
        "print(\"PyTorch tensor:\", tensor)\n",
        "print(\"Numpy array:\", np_arr)"
      ]
    },
    {
      "cell_type": "markdown",
      "metadata": {
        "id": "P9nhheUgUZRd"
      },
      "source": [
        "The conversion of tensors to numpy require the tensor to be on the CPU, and not the GPU (more on GPU support in a later section). In case you have a tensor on GPU, you need to call `.cpu()` on the tensor beforehand. Hence, you get a line like `np_arr = tensor.cpu().numpy()`."
      ]
    },
    {
      "cell_type": "markdown",
      "metadata": {
        "id": "wLKr-catUZRd"
      },
      "source": [
        "#### Operations\n",
        "\n",
        "Most operations that exist in numpy, also exist in PyTorch. A full list of operations can be found in the [PyTorch documentation](https://pytorch.org/docs/stable/tensors.html#), but we will review the most important ones here.\n",
        "\n",
        "The simplest operation is to add two tensors:"
      ]
    },
    {
      "cell_type": "code",
      "execution_count": 10,
      "metadata": {
        "id": "wuhmcF9QUZRd",
        "outputId": "deaceeee-d1c2-4ca9-ab01-8ebe64e82d74"
      },
      "outputs": [
        {
          "name": "stdout",
          "output_type": "stream",
          "text": [
            "X1 tensor([[0.1053, 0.2695, 0.3588],\n",
            "        [0.1994, 0.5472, 0.0062]])\n",
            "X2 tensor([[0.9516, 0.0753, 0.8860],\n",
            "        [0.5832, 0.3376, 0.8090]])\n",
            "Y tensor([[1.0569, 0.3448, 1.2448],\n",
            "        [0.7826, 0.8848, 0.8151]])\n"
          ]
        }
      ],
      "source": [
        "x1 = torch.rand(2, 3)\n",
        "x2 = torch.rand(2, 3)\n",
        "y = x1 + x2\n",
        "\n",
        "print(\"X1\", x1)\n",
        "print(\"X2\", x2)\n",
        "print(\"Y\", y)"
      ]
    },
    {
      "cell_type": "markdown",
      "metadata": {},
      "source": [
        "## Intermezzo on tensor history"
      ]
    },
    {
      "cell_type": "markdown",
      "metadata": {},
      "source": [
        "Notice that Pytorch does not save the history of operation on tensors by default in order to efficientize and save memory. It only keeps track of the tensors for which `requires_grad` is set to `True`, so only for the tensors for which it is necessary to compute the gradients."
      ]
    },
    {
      "cell_type": "code",
      "execution_count": 11,
      "metadata": {},
      "outputs": [
        {
          "name": "stdout",
          "output_type": "stream",
          "text": [
            "None\n"
          ]
        }
      ],
      "source": [
        "a = y.grad_fn # Get the function that generated the tensor\n",
        "print(a)\n"
      ]
    },
    {
      "cell_type": "code",
      "execution_count": 12,
      "metadata": {},
      "outputs": [],
      "source": [
        "x1 = torch.rand(2, 3).requires_grad_()  # Create a tensor and set requires_grad=True in-place\n",
        "x2 = torch.rand(2, 3).requires_grad_()\n",
        "y = x1 + x2"
      ]
    },
    {
      "cell_type": "code",
      "execution_count": 13,
      "metadata": {},
      "outputs": [
        {
          "data": {
            "text/plain": [
              "<AddBackward0 at 0x1e2899251c8>"
            ]
          },
          "execution_count": 13,
          "metadata": {},
          "output_type": "execute_result"
        }
      ],
      "source": [
        "y.grad_fn"
      ]
    },
    {
      "cell_type": "markdown",
      "metadata": {},
      "source": [
        "Another important aspect is that Pytorch releases the gradients after the backward computations, unless it is a leaf tensor (i.e. the initial tensors of the computational graph). So in this case, only x will be retained. If you want to keep also the gradients of the intermediate tensors, for instance because of debugging or exploratory things, you need to use the method `.retain_grad()` on such tensors, or you can call `backward(retain_graph = True)`"
      ]
    },
    {
      "cell_type": "code",
      "execution_count": 14,
      "metadata": {},
      "outputs": [
        {
          "name": "stdout",
          "output_type": "stream",
          "text": [
            "tensor([[ 0.0938,  0.0187,  0.1742],\n",
            "        [-0.0795, -0.0166,  0.1754]])\n",
            "None\n",
            "None\n"
          ]
        }
      ],
      "source": [
        "# Create a tensor and perform some operations\n",
        "x = torch.randn(2, 3, requires_grad=True)\n",
        "y = x ** 2\n",
        "z = y.mean()\n",
        "\n",
        "# Perform backward pass to compute gradients\n",
        "z.backward()\n",
        "\n",
        "# Ignore warnings\n",
        "import warnings\n",
        "warnings.filterwarnings(\"ignore\")\n",
        "\n",
        "print(x.grad)\n",
        "print(y.grad)\n",
        "print(z.grad)\n",
        "\n"
      ]
    },
    {
      "cell_type": "code",
      "execution_count": 15,
      "metadata": {},
      "outputs": [
        {
          "name": "stdout",
          "output_type": "stream",
          "text": [
            "tensor([[-0.0028,  0.2430,  0.0444],\n",
            "        [ 0.2880, -0.3386, -0.2962]])\n",
            "tensor([[0.1667, 0.1667, 0.1667],\n",
            "        [0.1667, 0.1667, 0.1667]])\n",
            "tensor(1.)\n"
          ]
        }
      ],
      "source": [
        "# Create a tensor and perform some operations\n",
        "x = torch.randn(2, 3, requires_grad=True)\n",
        "y = x ** 2\n",
        "z = y.mean()\n",
        "\n",
        "# Retain the gradients of the non leaf nodes\n",
        "y.retain_grad()\n",
        "z.retain_grad()\n",
        "\n",
        "# Perform backward pass to compute gradients\n",
        "z.backward()\n",
        "\n",
        "# Ignore warnings\n",
        "import warnings\n",
        "warnings.filterwarnings(\"ignore\")\n",
        "\n",
        "print(x.grad)\n",
        "print(y.grad)\n",
        "print(z.grad)"
      ]
    },
    {
      "cell_type": "markdown",
      "metadata": {},
      "source": [
        "## Fine intermezzo"
      ]
    },
    {
      "cell_type": "markdown",
      "metadata": {
        "id": "wqZsh2FQUZRd"
      },
      "source": [
        "Calling `x1 + x2` creates a new tensor containing the sum of the two inputs. However, we can also use in-place operations that are applied directly on the memory of a tensor. We therefore change the values of `x2` without the chance to re-accessing the values of `x2` before the operation. An example is shown below:"
      ]
    },
    {
      "cell_type": "code",
      "execution_count": 16,
      "metadata": {
        "id": "n9003JxOUZRd",
        "outputId": "905d8f04-1c21-4d6b-94dc-1f04133e43dd"
      },
      "outputs": [
        {
          "name": "stdout",
          "output_type": "stream",
          "text": [
            "X1 (before) tensor([[0.9811, 0.0874, 0.0041],\n",
            "        [0.1088, 0.1637, 0.7025]])\n",
            "X2 (before) tensor([[0.6790, 0.9155, 0.2418],\n",
            "        [0.1591, 0.7653, 0.2979]])\n",
            "X1 (after) tensor([[0.9811, 0.0874, 0.0041],\n",
            "        [0.1088, 0.1637, 0.7025]])\n",
            "X2 (after) tensor([[1.6602, 1.0028, 0.2458],\n",
            "        [0.2680, 0.9289, 1.0004]])\n"
          ]
        }
      ],
      "source": [
        "x1 = torch.rand(2, 3)\n",
        "x2 = torch.rand(2, 3)\n",
        "print(\"X1 (before)\", x1)\n",
        "print(\"X2 (before)\", x2)\n",
        "\n",
        "x2.add_(x1)\n",
        "print(\"X1 (after)\", x1)\n",
        "print(\"X2 (after)\", x2)"
      ]
    },
    {
      "cell_type": "markdown",
      "metadata": {
        "id": "j_AbF3MXUZRe"
      },
      "source": [
        "In-place operations are usually marked with a underscore postfix (e.g. \"add_\" instead of \"add\").\n",
        "\n",
        "Another common operation aims at changing the shape of a tensor. A tensor of size (2,3) can be re-organized to any other shape with the same number of elements (e.g. a tensor of size (6), or (3,2), ...). In PyTorch, this operation is called `view`:"
      ]
    },
    {
      "cell_type": "code",
      "execution_count": 17,
      "metadata": {
        "id": "fGl1jENqUZRe",
        "outputId": "6516bede-e544-4e7e-ed8d-66867e08e7a6"
      },
      "outputs": [
        {
          "name": "stdout",
          "output_type": "stream",
          "text": [
            "X tensor([0, 1, 2, 3, 4, 5])\n"
          ]
        }
      ],
      "source": [
        "x = torch.arange(6)\n",
        "print(\"X\", x)"
      ]
    },
    {
      "cell_type": "code",
      "execution_count": 18,
      "metadata": {
        "id": "K7BXJV19UZRe",
        "outputId": "67d4e3c2-773c-44c1-8cb5-d1cb533fd128"
      },
      "outputs": [
        {
          "name": "stdout",
          "output_type": "stream",
          "text": [
            "X tensor([[0, 1, 2],\n",
            "        [3, 4, 5]])\n"
          ]
        }
      ],
      "source": [
        "x = x.view(2, 3)\n",
        "print(\"X\", x)"
      ]
    },
    {
      "cell_type": "code",
      "execution_count": 19,
      "metadata": {
        "id": "Z-rgXcRDUZRe",
        "outputId": "c0c9756a-cfd2-4c9d-8f8c-63c21ab8c2ab"
      },
      "outputs": [
        {
          "name": "stdout",
          "output_type": "stream",
          "text": [
            "X tensor([[0, 3],\n",
            "        [1, 4],\n",
            "        [2, 5]])\n"
          ]
        }
      ],
      "source": [
        "x = x.permute(1, 0) # Swapping dimension 0 and 1\n",
        "print(\"X\", x)"
      ]
    },
    {
      "cell_type": "markdown",
      "metadata": {
        "id": "kFK0Y5ErUZRf"
      },
      "source": [
        "Other commonly used operations include matrix multiplications, which are essential for neural networks. Quite often, we have an input vector $\\mathbf{x}$, which is transformed using a learned weight matrix $\\mathbf{W}$. There are multiple ways and functions to perform matrix multiplication, some of which we list below:\n",
        "\n",
        "* `torch.matmul`: Performs the matrix product over two tensors, where the specific behavior depends on the dimensions. If both inputs are matrices (2-dimensional tensors), it performs the standard matrix product. For higher dimensional inputs, the function supports broadcasting (for details see the [documentation](https://pytorch.org/docs/stable/generated/torch.matmul.html?highlight=matmul#torch.matmul)). Can also be written as `a @ b`, similar to numpy.\n",
        "* `torch.mm`: Performs the matrix product over two matrices, but doesn't support broadcasting (see [documentation](https://pytorch.org/docs/stable/generated/torch.mm.html?highlight=torch%20mm#torch.mm))\n",
        "* `torch.bmm`: Performs the matrix product with a support batch dimension. If the first tensor $T$ is of shape ($b\\times n\\times m$), and the second tensor $R$ ($b\\times m\\times p$), the output $O$ is of shape ($b\\times n\\times p$), and has been calculated by performing $b$ matrix multiplications of the submatrices of $T$ and $R$: $O_i = T_i @ R_i$\n",
        "* `torch.einsum`: Performs matrix multiplications and more (i.e. sums of products) using the Einstein summation convention. Explanation of the Einstein sum can be found in assignment 1.\n",
        "\n",
        "Usually, we use `torch.matmul` or `torch.bmm`. We can try a matrix multiplication with `torch.matmul` below."
      ]
    },
    {
      "cell_type": "code",
      "execution_count": 20,
      "metadata": {
        "id": "NFceMEnPUZRf",
        "outputId": "48b88bf0-6a7d-47e0-e975-dc675555ccff"
      },
      "outputs": [
        {
          "name": "stdout",
          "output_type": "stream",
          "text": [
            "X tensor([[0, 1],\n",
            "        [2, 3],\n",
            "        [4, 5]])\n"
          ]
        }
      ],
      "source": [
        "x = torch.arange(6)\n",
        "x = x.view(3, 2)\n",
        "print(\"X\", x)"
      ]
    },
    {
      "cell_type": "code",
      "execution_count": 21,
      "metadata": {
        "id": "LJTe_AKIUZRf",
        "outputId": "f31767b0-6aaa-455c-b7dd-0f1bd6d48d97"
      },
      "outputs": [
        {
          "name": "stdout",
          "output_type": "stream",
          "text": [
            "W tensor([[0, 1, 2],\n",
            "        [3, 4, 5],\n",
            "        [6, 7, 8]])\n"
          ]
        }
      ],
      "source": [
        "W = torch.arange(9).view(3, 3) # We can also stack multiple operations in a single line\n",
        "print(\"W\", W)"
      ]
    },
    {
      "cell_type": "code",
      "execution_count": 22,
      "metadata": {
        "id": "xoOTaSgOUZRg",
        "outputId": "77cabec5-b16a-4bf9-a12a-dd6499e767aa"
      },
      "outputs": [
        {
          "name": "stdout",
          "output_type": "stream",
          "text": [
            "h tensor([[10, 13],\n",
            "        [28, 40],\n",
            "        [46, 67]])\n"
          ]
        }
      ],
      "source": [
        "h = torch.matmul(W,x) # Verify the result by calculating it by hand too!\n",
        "print(\"h\", h)"
      ]
    },
    {
      "cell_type": "code",
      "execution_count": 23,
      "metadata": {},
      "outputs": [
        {
          "name": "stdout",
          "output_type": "stream",
          "text": [
            "tensor([[10, 13],\n",
            "        [28, 40],\n",
            "        [46, 67]])\n"
          ]
        }
      ],
      "source": [
        "print(W@x)"
      ]
    },
    {
      "cell_type": "markdown",
      "metadata": {
        "id": "hNzWv0JuUZRg"
      },
      "source": [
        "#### Indexing\n",
        "\n",
        "We often have the situation where we need to select a part of a tensor. Indexing works just like in numpy, so let's try it:"
      ]
    },
    {
      "cell_type": "code",
      "execution_count": 24,
      "metadata": {
        "id": "g_VkBSufUZRg",
        "outputId": "0d4ae306-5e6e-45d1-8fcf-c3fe8567bd2a"
      },
      "outputs": [
        {
          "name": "stdout",
          "output_type": "stream",
          "text": [
            "X tensor([[ 0,  1,  2,  3],\n",
            "        [ 4,  5,  6,  7],\n",
            "        [ 8,  9, 10, 11]])\n"
          ]
        }
      ],
      "source": [
        "x = torch.arange(12).view(3, 4)\n",
        "print(\"X\", x)"
      ]
    },
    {
      "cell_type": "code",
      "execution_count": 25,
      "metadata": {
        "id": "BjtDYk7mUZRh",
        "outputId": "3fa91fc3-4f3b-44fc-9b06-f27c9ed1d02d"
      },
      "outputs": [
        {
          "name": "stdout",
          "output_type": "stream",
          "text": [
            "tensor([1, 5, 9])\n"
          ]
        }
      ],
      "source": [
        "print(x[:, 1])   # Second column"
      ]
    },
    {
      "cell_type": "code",
      "execution_count": 26,
      "metadata": {
        "id": "t8E_Vv08UZRh",
        "outputId": "553f82e0-b162-4401-84e9-862d452c7735"
      },
      "outputs": [
        {
          "name": "stdout",
          "output_type": "stream",
          "text": [
            "tensor([0, 1, 2, 3])\n"
          ]
        }
      ],
      "source": [
        "print(x[0])      # First row"
      ]
    },
    {
      "cell_type": "code",
      "execution_count": 27,
      "metadata": {
        "id": "NA1_vOWRUZRh",
        "outputId": "6013cc52-d9d3-4be1-bc50-8bf5e0feb4d6"
      },
      "outputs": [
        {
          "name": "stdout",
          "output_type": "stream",
          "text": [
            "tensor([3, 7])\n"
          ]
        }
      ],
      "source": [
        "print(x[:2, -1]) # First two rows, last column"
      ]
    },
    {
      "cell_type": "code",
      "execution_count": 28,
      "metadata": {
        "id": "MjDX_3OPUZRh",
        "outputId": "78b43362-386f-42a3-85af-5f974ac73dd2"
      },
      "outputs": [
        {
          "name": "stdout",
          "output_type": "stream",
          "text": [
            "tensor([[ 4,  5,  6,  7],\n",
            "        [ 8,  9, 10, 11]])\n"
          ]
        }
      ],
      "source": [
        "print(x[1:3, :]) # Middle two rows"
      ]
    },
    {
      "cell_type": "markdown",
      "metadata": {
        "id": "swaFeaf_UZRi"
      },
      "source": [
        "### Dynamic Computation Graph and Backpropagation\n",
        "\n",
        "One of the main reasons for using PyTorch in Deep Learning projects is that we can automatically get **gradients/derivatives** of functions that we define. We will mainly use PyTorch for implementing neural networks, and they are just fancy functions. If we use weight matrices in our function that we want to learn, then those are called the **parameters** or simply the **weights**.\n",
        "\n",
        "If our neural network would output a single scalar value, we would talk about taking the **derivative**, but you will see that quite often we will have **multiple** output variables (\"values\"); in that case we talk about **gradients**. It's a more general term.\n",
        "\n",
        "Given an input $\\mathbf{x}$, we define our function by **manipulating** that input, usually by matrix-multiplications with weight matrices and additions with so-called bias vectors. As we manipulate our input, we are automatically creating a **computational graph**. This graph shows how to arrive at our output from our input.\n",
        "PyTorch is a **define-by-run** framework; this means that we can just do our manipulations, and PyTorch will keep track of that graph for us. Thus, we create a dynamic computation graph along the way.\n",
        "\n",
        "So, to recap: the only thing we have to do is to compute the **output**, and then we can ask PyTorch to automatically get the **gradients**.\n",
        "\n",
        "> **Note:  Why do we want gradients?** Consider that we have defined a function, a neural net, that is supposed to compute a certain output $y$ for an input vector $\\mathbf{x}$. We then define an **error measure** that tells us how wrong our network is; how bad it is in predicting output $y$ from input $\\mathbf{x}$. Based on this error measure, we can use the gradients to **update** the weights $\\mathbf{W}$ that were responsible for the output, so that the next time we present input $\\mathbf{x}$ to our network, the output will be closer to what we want.\n",
        "\n",
        "The first thing we have to do is to specify which tensors require gradients. By default, when we create a tensor, it does not require gradients."
      ]
    },
    {
      "cell_type": "code",
      "execution_count": 29,
      "metadata": {
        "id": "dfJpNcN2UZRi",
        "outputId": "4975b3bd-593d-4263-d0bb-fd182aa0c62f"
      },
      "outputs": [
        {
          "name": "stdout",
          "output_type": "stream",
          "text": [
            "False\n"
          ]
        }
      ],
      "source": [
        "x = torch.ones((3,))\n",
        "print(x.requires_grad)"
      ]
    },
    {
      "cell_type": "markdown",
      "metadata": {
        "id": "7TddPBLbUZRn"
      },
      "source": [
        "We can change this for an existing tensor using the function `requires_grad_()` (underscore indicating that this is a in-place operation). Alternatively, when creating a tensor, you can pass the argument `requires_grad=True` to most initializers we have seen above."
      ]
    },
    {
      "cell_type": "code",
      "execution_count": 30,
      "metadata": {
        "id": "53uzBzejUZRn",
        "outputId": "fffde8b8-68e1-4297-ef0b-302811c3acba"
      },
      "outputs": [
        {
          "name": "stdout",
          "output_type": "stream",
          "text": [
            "True\n"
          ]
        }
      ],
      "source": [
        "x.requires_grad_(True)\n",
        "print(x.requires_grad)"
      ]
    },
    {
      "cell_type": "markdown",
      "metadata": {
        "id": "xIkFTzidUZRn"
      },
      "source": [
        "In order to get familiar with the concept of a computation graph, we will create one for the following function:\n",
        "\n",
        "$$y = \\frac{1}{\\ell(x)}\\sum_i \\left[(x_i + 2)^2 + 3\\right],$$\n",
        "\n",
        "where we use $\\ell(x)$ to denote the number of elements in $x$. In other words, we are taking a mean here over the operation within the sum. You could imagine that $x$ are our parameters, and we want to optimize (either maximize or minimize) the output $y$. For this, we want to obtain the gradients $\\partial y / \\partial \\mathbf{x}$. For our example, we'll use $\\mathbf{x}=[0,1,2]$ as our input."
      ]
    },
    {
      "cell_type": "code",
      "execution_count": 31,
      "metadata": {
        "id": "jkMt23CdUZRo",
        "outputId": "2e7e1ca1-0184-4d01-c60e-e5978247fa8c"
      },
      "outputs": [
        {
          "name": "stdout",
          "output_type": "stream",
          "text": [
            "X tensor([0., 1., 2.], requires_grad=True)\n"
          ]
        }
      ],
      "source": [
        "x = torch.arange(3, dtype=torch.float32, requires_grad=True) # Only float tensors can have gradients\n",
        "print(\"X\", x)"
      ]
    },
    {
      "cell_type": "markdown",
      "metadata": {
        "id": "33VbYPBlUZRo"
      },
      "source": [
        "Now let's build the computation graph step by step. You can combine multiple operations in a single line, but we will separate them here to get a better understanding of how each operation is added to the computation graph."
      ]
    },
    {
      "cell_type": "code",
      "execution_count": 32,
      "metadata": {
        "id": "ghw1GUTzUZRo",
        "outputId": "535b2648-56c0-4760-cbab-1f2295dafaa6"
      },
      "outputs": [
        {
          "name": "stdout",
          "output_type": "stream",
          "text": [
            "Y tensor(12.6667, grad_fn=<MeanBackward0>)\n"
          ]
        }
      ],
      "source": [
        "a = x + 2\n",
        "b = a ** 2\n",
        "c = b + 3\n",
        "y = c.mean()\n",
        "print(\"Y\", y)"
      ]
    },
    {
      "cell_type": "code",
      "execution_count": 33,
      "metadata": {},
      "outputs": [
        {
          "data": {
            "text/plain": [
              "True"
            ]
          },
          "execution_count": 33,
          "metadata": {},
          "output_type": "execute_result"
        }
      ],
      "source": [
        "y.requires_grad"
      ]
    },
    {
      "cell_type": "markdown",
      "metadata": {
        "id": "q1D9sxpzUZRo"
      },
      "source": [
        "Using the statements above, we have created a computation graph that looks similar to the figure below:\n",
        "\n",
        "<center style=\"width: 100%\"><img src=\"https://github.com/phlippe/uvadlc_notebooks/blob/master/docs/tutorial_notebooks/tutorial2/pytorch_computation_graph.svg?raw=1\" width=\"200px\"></center>\n",
        "\n",
        "We calculate $a$ based on the inputs $x$ and the constant $2$, $b$ is $a$ squared, and so on. The visualization is an abstraction of the dependencies between inputs and outputs of the operations we have applied.\n",
        "Each node of the computation graph has automatically defined a function for calculating the gradients with respect to its inputs, `grad_fn`. You can see this when we printed the output tensor $y$. This is why the computation graph is usually visualized in the reverse direction (arrows point from the result to the inputs). We can perform backpropagation on the computation graph by calling the function `backward()` on the last output, which effectively calculates the gradients for each tensor that has the property `requires_grad=True`:"
      ]
    },
    {
      "cell_type": "code",
      "execution_count": 34,
      "metadata": {
        "id": "Qcc7KjlBUZRo"
      },
      "outputs": [],
      "source": [
        "y.backward()"
      ]
    },
    {
      "cell_type": "markdown",
      "metadata": {
        "id": "UCmMStfhUZRp"
      },
      "source": [
        "`x.grad` will now contain the gradient $\\partial y/ \\partial \\mathcal{x}$, and this gradient indicates how a change in $\\mathbf{x}$ will affect output $y$ given the current input $\\mathbf{x}=[0,1,2]$:"
      ]
    },
    {
      "cell_type": "code",
      "execution_count": 35,
      "metadata": {
        "id": "kbD_WzXgUZRp",
        "outputId": "b89fd052-c8da-463a-dc1e-9699f87722d6"
      },
      "outputs": [
        {
          "name": "stdout",
          "output_type": "stream",
          "text": [
            "tensor([1.3333, 2.0000, 2.6667])\n"
          ]
        }
      ],
      "source": [
        "print(x.grad)"
      ]
    },
    {
      "cell_type": "markdown",
      "metadata": {
        "id": "Icj0S7rdUZRp"
      },
      "source": [
        "We can also verify these gradients by hand. We will calculate the gradients using the chain rule, in the same way as PyTorch did it:\n",
        "\n",
        "$$\\frac{\\partial y}{\\partial x_i} = \\frac{\\partial y}{\\partial c_i}\\frac{\\partial c_i}{\\partial b_i}\\frac{\\partial b_i}{\\partial a_i}\\frac{\\partial a_i}{\\partial x_i}$$\n",
        "\n",
        "Note that we have simplified this equation to index notation, and by using the fact that all operation besides the mean do not combine the elements in the tensor. The partial derivatives are:\n",
        "\n",
        "$$\n",
        "\\frac{\\partial a_i}{\\partial x_i} = 1,\\hspace{1cm}\n",
        "\\frac{\\partial b_i}{\\partial a_i} = 2\\cdot a_i\\hspace{1cm}\n",
        "\\frac{\\partial c_i}{\\partial b_i} = 1\\hspace{1cm}\n",
        "\\frac{\\partial y}{\\partial c_i} = \\frac{1}{3}\n",
        "$$\n",
        "\n",
        "Hence, with the input being $\\mathbf{x}=[0,1,2]$, our gradients are $\\partial y/\\partial \\mathbf{x}=[4/3,2,8/3]$. The previous code cell should have printed the same result."
      ]
    },
    {
      "cell_type": "markdown",
      "metadata": {
        "id": "5r_TvsxGUZRp"
      },
      "source": [
        "### GPU support\n",
        "\n",
        "A crucial feature of PyTorch is the support of GPUs, short for Graphics Processing Unit. A GPU can perform many thousands of small operations in parallel, making it very well suitable for performing large matrix operations in neural networks. When comparing GPUs to CPUs, we can list the following main differences (credit: [Kevin Krewell, 2009](https://blogs.nvidia.com/blog/2009/12/16/whats-the-difference-between-a-cpu-and-a-gpu/))\n",
        "\n",
        "<center style=\"width: 100%\"><img src=\"https://github.com/phlippe/uvadlc_notebooks/blob/master/docs/tutorial_notebooks/tutorial2/comparison_CPU_GPU.png?raw=1\" width=\"700px\"></center>\n",
        "\n",
        "CPUs and GPUs have both different advantages and disadvantages, which is why many computers contain both components and use them for different tasks. In case you are not familiar with GPUs, you can read up more details in this [NVIDIA blog post](https://blogs.nvidia.com/blog/2009/12/16/whats-the-difference-between-a-cpu-and-a-gpu/) or [here](https://www.intel.com/content/www/us/en/products/docs/processors/what-is-a-gpu.html).\n",
        "\n",
        "GPUs can accelerate the training of your network up to a factor of $100$ which is essential for large neural networks. PyTorch implements a lot of functionality for supporting GPUs (mostly those of NVIDIA due to the libraries [CUDA](https://developer.nvidia.com/cuda-zone) and [cuDNN](https://developer.nvidia.com/cudnn)). First, let's check whether you have a GPU available:"
      ]
    },
    {
      "cell_type": "code",
      "execution_count": 36,
      "metadata": {
        "id": "OQoOJwf3UZRp",
        "outputId": "940339e3-ec09-43bc-cf92-f936a987a92b"
      },
      "outputs": [
        {
          "name": "stdout",
          "output_type": "stream",
          "text": [
            "Is the GPU available? False\n"
          ]
        }
      ],
      "source": [
        "gpu_avail = torch.cuda.is_available()\n",
        "print(f\"Is the GPU available? {gpu_avail}\")"
      ]
    },
    {
      "cell_type": "markdown",
      "metadata": {
        "id": "-85G63n-UZRq"
      },
      "source": [
        "If you have a GPU on your computer but the command above returns False, make sure you have the correct CUDA-version installed. The `dl2023` environment comes with the CUDA 11.8, which is selected for the Snellius supercomputer. Please change it if necessary (CUDA 11.3 is currently common on Colab). On Google Colab, make sure that you have selected a GPU in your runtime setup (in the menu, check under `Runtime -> Change runtime type`).\n",
        "\n",
        "By default, all tensors you create are stored on the CPU. We can push a tensor to the GPU by using the function `.to(...)`, or `.cuda()`. However, it is often a good practice to define a `device` object in your code which points to the GPU if you have one, and otherwise to the CPU. Then, you can write your code with respect to this device object, and it allows you to run the same code on both a CPU-only system, and one with a GPU. Let's try it below. We can specify the device as follows:"
      ]
    },
    {
      "cell_type": "code",
      "execution_count": 37,
      "metadata": {
        "id": "L90S2h29UZRq",
        "outputId": "c34691ec-c1ef-487c-85e4-8bb8055d1e9b"
      },
      "outputs": [
        {
          "name": "stdout",
          "output_type": "stream",
          "text": [
            "Device cpu\n"
          ]
        }
      ],
      "source": [
        "device = torch.device(\"cuda\") if torch.cuda.is_available() else torch.device(\"cpu\")\n",
        "print(\"Device\", device)"
      ]
    },
    {
      "cell_type": "markdown",
      "metadata": {
        "id": "7RYRLpo_UZRq"
      },
      "source": [
        "Now let's create a tensor and push it to the device:"
      ]
    },
    {
      "cell_type": "code",
      "execution_count": 38,
      "metadata": {
        "id": "hjDzlO8lUZRq",
        "outputId": "fdcc7754-7b0e-4702-b639-8433760780f3"
      },
      "outputs": [
        {
          "name": "stdout",
          "output_type": "stream",
          "text": [
            "X tensor([[0., 0., 0.],\n",
            "        [0., 0., 0.]])\n"
          ]
        }
      ],
      "source": [
        "x = torch.zeros(2, 3)\n",
        "x = x.to(device)\n",
        "print(\"X\", x)"
      ]
    },
    {
      "cell_type": "markdown",
      "metadata": {
        "id": "YNzZk0emUZRr"
      },
      "source": [
        "In case you have a GPU, you should now see the attribute `device='cuda:0'` being printed next to your tensor. The zero next to cuda indicates that this is the zero-th GPU device on your computer. PyTorch also supports multi-GPU systems, but this you will only need once you have very big networks to train (if interested, see the [PyTorch documentation](https://pytorch.org/docs/stable/distributed.html#distributed-basics)). We can also compare the runtime of a large matrix multiplication on the CPU with a operation on the GPU:"
      ]
    },
    {
      "cell_type": "code",
      "execution_count": 39,
      "metadata": {
        "id": "8kAchaf6UZRr",
        "outputId": "2414ae43-d11b-4fa8-f4da-16cc2227ab36"
      },
      "outputs": [
        {
          "name": "stdout",
          "output_type": "stream",
          "text": [
            "CPU time: 1.14552s\n"
          ]
        }
      ],
      "source": [
        "x = torch.randn(5000, 5000)\n",
        "\n",
        "## CPU version\n",
        "start_time = time.time()\n",
        "_ = torch.matmul(x, x)\n",
        "end_time = time.time()\n",
        "print(f\"CPU time: {(end_time - start_time):6.5f}s\")\n",
        "\n",
        "if torch.cuda.is_available():\n",
        "    ## GPU version\n",
        "    x = x.to(device)\n",
        "    _ = torch.matmul(x, x)  # First operation to 'burn in' GPU\n",
        "    # CUDA is asynchronous, so we need to use different timing functions\n",
        "    start = torch.cuda.Event(enable_timing=True)\n",
        "    end = torch.cuda.Event(enable_timing=True)\n",
        "    start.record()\n",
        "    _ = torch.matmul(x, x)\n",
        "    end.record()\n",
        "    torch.cuda.synchronize()  # Waits for everything to finish running on the GPU\n",
        "    print(f\"GPU time: {0.001 * start.elapsed_time(end):6.5f}s\")  # Milliseconds to seconds"
      ]
    },
    {
      "cell_type": "markdown",
      "metadata": {
        "id": "r5HCx73bUZRr"
      },
      "source": [
        "Depending on the size of the operation and the CPU/GPU in your system, the speedup of this operation can be >50x. As `matmul` operations are very common in neural networks, we can already see the great benefit of training a NN on a GPU. The time estimate can be relatively noisy here because we haven't run it for multiple times. Feel free to extend this, but it also takes longer to run.\n",
        "\n",
        "When generating random numbers, the seed between CPU and GPU is not synchronized. Hence, we need to set the seed on the GPU separately to ensure a reproducible code. Note that due to different GPU architectures, running the same code on different GPUs does not guarantee the same random numbers. Still, we don't want that our code gives us a different output every time we run it on the exact same hardware. Hence, we also set the seed on the GPU:"
      ]
    },
    {
      "cell_type": "code",
      "execution_count": 40,
      "metadata": {
        "id": "ZYtpkJGbUZRr"
      },
      "outputs": [],
      "source": [
        "# GPU operations have a separate seed we also want to set\n",
        "if torch.cuda.is_available():\n",
        "    torch.cuda.manual_seed(42)\n",
        "    torch.cuda.manual_seed_all(42)\n",
        "\n",
        "# Additionally, some operations on a GPU are implemented stochastic for efficiency\n",
        "# We want to ensure that all operations are deterministic on GPU (if used) for reproducibility\n",
        "torch.backends.cudnn.deterministic = True\n",
        "torch.backends.cudnn.benchmark = False"
      ]
    },
    {
      "cell_type": "markdown",
      "metadata": {
        "id": "wS4MekssUZRs"
      },
      "source": [
        "## Learning by example: Continuous XOR\n",
        "\n",
        "If we want to build a neural network in PyTorch, we could specify all our parameters (weight matrices, bias vectors) using `Tensors` (with `requires_grad=True`), ask PyTorch to calculate the gradients and then adjust the parameters. But things can quickly get cumbersome if we have a lot of parameters. In PyTorch, there is a package called `torch.nn` that makes building neural networks more convenient.\n",
        "\n",
        "We will introduce the libraries and all additional parts you might need to train a neural network in PyTorch, using a simple example classifier on a simple yet well known example: XOR. Given two binary inputs $x_1$ and $x_2$, the label to predict is $1$ if either $x_1$ or $x_2$ is $1$ while the other is $0$, or the label is $0$ in all other cases. The example became famous by the fact that a single neuron, i.e. a linear classifier, cannot learn this simple function.\n",
        "Hence, we will learn how to build a small neural network that can learn this function.\n",
        "To make it a little bit more interesting, we move the XOR into continuous space and introduce some gaussian noise on the binary inputs. Our desired separation of an XOR dataset could look as follows:\n",
        "\n",
        "<center style=\"width: 100%\"><img src=\"https://github.com/phlippe/uvadlc_notebooks/blob/master/docs/tutorial_notebooks/tutorial2/continuous_xor.svg?raw=1\" width=\"350px\"></center>\n",
        "\n",
        "\n",
        "We want to learn a mapping of the form $y = f(x_1, x_2)$. Let's try without any package but pure backpropagation.\n",
        "\n"
      ]
    },
    {
      "cell_type": "markdown",
      "metadata": {},
      "source": [
        "### The data\n",
        "\n",
        "PyTorch also provides a few functionalities to load the training and test data efficiently, summarized in the package `torch.utils.data`."
      ]
    },
    {
      "cell_type": "code",
      "execution_count": 41,
      "metadata": {},
      "outputs": [],
      "source": [
        "import torch.utils.data as data"
      ]
    },
    {
      "cell_type": "markdown",
      "metadata": {},
      "source": [
        "The data package defines two classes which are the standard interface for handling data in PyTorch: `data.Dataset`, and `data.DataLoader`. The dataset class provides an uniform interface to access the training/test data, while the data loader makes sure to efficiently load and stack the data points from the dataset into batches during training."
      ]
    },
    {
      "cell_type": "markdown",
      "metadata": {},
      "source": [
        "#### The dataset class\n",
        "\n",
        "The dataset class summarizes the basic functionality of a dataset in a natural way. To define a dataset in PyTorch, we simply specify two functions: `__getitem__`, and `__len__`. The get-item function has to return the $i$-th data point in the dataset, while the len function returns the size of the dataset. For the XOR dataset, we can define the dataset class as follows:"
      ]
    },
    {
      "cell_type": "code",
      "execution_count": 42,
      "metadata": {},
      "outputs": [],
      "source": [
        "class XORDataset(data.Dataset):\n",
        "\n",
        "    def __init__(self, size, std=0.1):\n",
        "        \"\"\"\n",
        "        Inputs:\n",
        "            size - Number of data points we want to generate\n",
        "            std - Standard deviation of the noise (see generate_continuous_xor function)\n",
        "        \"\"\"\n",
        "        super().__init__()\n",
        "        self.size = size\n",
        "        self.std = std\n",
        "        self.generate_continuous_xor()\n",
        "\n",
        "    def generate_continuous_xor(self):\n",
        "        # Each data point in the XOR dataset has two variables, x and y, that can be either 0 or 1\n",
        "        # The label is their XOR combination, i.e. 1 if only x or only y is 1 while the other is 0.\n",
        "        # If x=y, the label is 0.\n",
        "        data = torch.randint(low=0, high=2, size=(self.size, 2), dtype=torch.float32)\n",
        "        label = (data.sum(dim=1) == 1).to(torch.long) # For every point we compute the XOR\n",
        "        # To make it slightly more challenging, we add a bit of gaussian noise to the data points.\n",
        "        data += self.std * torch.randn(data.shape)\n",
        "\n",
        "        self.data = data\n",
        "        self.label = label\n",
        "\n",
        "    def __len__(self):\n",
        "        # Number of data point we have. Alternatively self.data.shape[0], or self.label.shape[0]\n",
        "        return self.size\n",
        "\n",
        "    def __getitem__(self, idx):\n",
        "        # Return the idx-th data point of the dataset\n",
        "        # If we have multiple things to return (data point and label), we can return them as tuple\n",
        "        data_point = self.data[idx]\n",
        "        data_label = self.label[idx]\n",
        "        return data_point, data_label"
      ]
    },
    {
      "cell_type": "markdown",
      "metadata": {},
      "source": [
        "Let's try to create such a dataset and inspect it:"
      ]
    },
    {
      "cell_type": "code",
      "execution_count": 43,
      "metadata": {},
      "outputs": [
        {
          "name": "stdout",
          "output_type": "stream",
          "text": [
            "Size of dataset: 200\n",
            "Data point 0: (tensor([-0.1088,  0.2403]), tensor(0))\n"
          ]
        }
      ],
      "source": [
        "dataset = XORDataset(size=200)\n",
        "print(\"Size of dataset:\", len(dataset))\n",
        "print(\"Data point 0:\", dataset[0])"
      ]
    },
    {
      "cell_type": "markdown",
      "metadata": {},
      "source": [
        "To better relate to the dataset, we visualize the samples below."
      ]
    },
    {
      "cell_type": "code",
      "execution_count": 44,
      "metadata": {},
      "outputs": [],
      "source": [
        "def visualize_samples(data, label):\n",
        "    if isinstance(data, torch.Tensor):\n",
        "        data = data.cpu().numpy()\n",
        "    if isinstance(label, torch.Tensor):\n",
        "        label = label.cpu().numpy()\n",
        "    data_0 = data[label == 0]\n",
        "    data_1 = data[label == 1]\n",
        "\n",
        "    plt.figure(figsize=(4,4))\n",
        "    plt.scatter(data_0[:,0], data_0[:,1], edgecolor=\"#333\", label=\"Class 0\")\n",
        "    plt.scatter(data_1[:,0], data_1[:,1], edgecolor=\"#333\", label=\"Class 1\")\n",
        "    plt.title(\"Dataset samples\")\n",
        "    plt.ylabel(r\"$x_2$\")\n",
        "    plt.xlabel(r\"$x_1$\")\n",
        "    plt.legend()"
      ]
    },
    {
      "cell_type": "code",
      "execution_count": 45,
      "metadata": {},
      "outputs": [
        {
          "data": {
            "application/pdf": "[encoded data removed]",
            "image/svg+xml": [
              "<?xml version=\"1.0\" encoding=\"utf-8\" standalone=\"no\"?>\n",
              "<!DOCTYPE svg PUBLIC \"-//W3C//DTD SVG 1.1//EN\"\n",
              "  \"http://www.w3.org/Graphics/SVG/1.1/DTD/svg11.dtd\">\n",
              "<svg xmlns:xlink=\"http://www.w3.org/1999/xlink\" width=\"283.789063pt\" height=\"285.283594pt\" viewBox=\"0 0 283.789063 285.283594\" xmlns=\"http://www.w3.org/2000/svg\" version=\"1.1\">\n",
              " <metadata>\n",
              "  <rdf:RDF xmlns:dc=\"http://purl.org/dc/elements/1.1/\" xmlns:cc=\"http://creativecommons.org/ns#\" xmlns:rdf=\"http://www.w3.org/1999/02/22-rdf-syntax-ns#\">\n",
              "   <cc:Work>\n",
              "    <dc:type rdf:resource=\"http://purl.org/dc/dcmitype/StillImage\"/>\n",
              "    <dc:date>2024-04-02T14:50:44.923221</dc:date>\n",
              "    <dc:format>image/svg+xml</dc:format>\n",
              "    <dc:creator>\n",
              "     <cc:Agent>\n",
              "      <dc:title>Matplotlib v3.5.3, https://matplotlib.org/</dc:title>\n",
              "     </cc:Agent>\n",
              "    </dc:creator>\n",
              "   </cc:Work>\n",
              "  </rdf:RDF>\n",
              " </metadata>\n",
              " <defs>\n",
              "  <style type=\"text/css\">*{stroke-linejoin: round; stroke-linecap: butt}</style>\n",
              " </defs>\n",
              " <g id=\"figure_1\">\n",
              "  <g id=\"patch_1\">\n",
              "   <path d=\"M 0 285.283594 \n",
              "L 283.789063 285.283594 \n",
              "L 283.789063 0 \n",
              "L 0 0 \n",
              "z\n",
              "\" style=\"fill: #ffffff\"/>\n",
              "  </g>\n",
              "  <g id=\"axes_1\">\n",
              "   <g id=\"patch_2\">\n",
              "    <path d=\"M 53.389062 243.549375 \n",
              "L 276.589063 243.549375 \n",
              "L 276.589063 21.789375 \n",
              "L 53.389062 21.789375 \n",
              "z\n",
              "\" style=\"fill: #eaeaf2\"/>\n",
              "   </g>\n",
              "   <g id=\"matplotlib.axis_1\">\n",
              "    <g id=\"xtick_1\">\n",
              "     <g id=\"line2d_1\">\n",
              "      <path d=\"M 97.841271 243.549375 \n",
              "L 97.841271 21.789375 \n",
              "\" clip-path=\"url(#p00453ad7ee)\" style=\"fill: none; stroke: #ffffff; stroke-linecap: round\"/>\n",
              "     </g>\n",
              "     <g id=\"text_1\">\n",
              "      <!-- 0.0 -->\n",
              "      <g style=\"fill: #262626\" transform=\"translate(90.196271 260.922969)scale(0.11 -0.11)\">\n",
              "       <defs>\n",
              "        <path id=\"ArialMT-30\" d=\"M 266 2259 \n",
              "Q 266 3072 433 3567 \n",
              "Q 600 4063 929 4331 \n",
              "Q 1259 4600 1759 4600 \n",
              "Q 2128 4600 2406 4451 \n",
              "Q 2684 4303 2865 4023 \n",
              "Q 3047 3744 3150 3342 \n",
              "Q 3253 2941 3253 2259 \n",
              "Q 3253 1453 3087 958 \n",
              "Q 2922 463 2592 192 \n",
              "Q 2263 -78 1759 -78 \n",
              "Q 1097 -78 719 397 \n",
              "Q 266 969 266 2259 \n",
              "z\n",
              "M 844 2259 \n",
              "Q 844 1131 1108 757 \n",
              "Q 1372 384 1759 384 \n",
              "Q 2147 384 2411 759 \n",
              "Q 2675 1134 2675 2259 \n",
              "Q 2675 3391 2411 3762 \n",
              "Q 2147 4134 1753 4134 \n",
              "Q 1366 4134 1134 3806 \n",
              "Q 844 3388 844 2259 \n",
              "z\n",
              "\" transform=\"scale(0.015625)\"/>\n",
              "        <path id=\"ArialMT-2e\" d=\"M 581 0 \n",
              "L 581 641 \n",
              "L 1222 641 \n",
              "L 1222 0 \n",
              "L 581 0 \n",
              "z\n",
              "\" transform=\"scale(0.015625)\"/>\n",
              "       </defs>\n",
              "       <use xlink:href=\"#ArialMT-30\"/>\n",
              "       <use xlink:href=\"#ArialMT-2e\" x=\"55.615234\"/>\n",
              "       <use xlink:href=\"#ArialMT-30\" x=\"83.398438\"/>\n",
              "      </g>\n",
              "     </g>\n",
              "    </g>\n",
              "    <g id=\"xtick_2\">\n",
              "     <g id=\"line2d_2\">\n",
              "      <path d=\"M 168.439083 243.549375 \n",
              "L 168.439083 21.789375 \n",
              "\" clip-path=\"url(#p00453ad7ee)\" style=\"fill: none; stroke: #ffffff; stroke-linecap: round\"/>\n",
              "     </g>\n",
              "     <g id=\"text_2\">\n",
              "      <!-- 0.5 -->\n",
              "      <g style=\"fill: #262626\" transform=\"translate(160.794083 260.922969)scale(0.11 -0.11)\">\n",
              "       <defs>\n",
              "        <path id=\"ArialMT-35\" d=\"M 266 1200 \n",
              "L 856 1250 \n",
              "Q 922 819 1161 601 \n",
              "Q 1400 384 1738 384 \n",
              "Q 2144 384 2425 690 \n",
              "Q 2706 997 2706 1503 \n",
              "Q 2706 1984 2436 2262 \n",
              "Q 2166 2541 1728 2541 \n",
              "Q 1456 2541 1237 2417 \n",
              "Q 1019 2294 894 2097 \n",
              "L 366 2166 \n",
              "L 809 4519 \n",
              "L 3088 4519 \n",
              "L 3088 3981 \n",
              "L 1259 3981 \n",
              "L 1013 2750 \n",
              "Q 1425 3038 1878 3038 \n",
              "Q 2478 3038 2890 2622 \n",
              "Q 3303 2206 3303 1553 \n",
              "Q 3303 931 2941 478 \n",
              "Q 2500 -78 1738 -78 \n",
              "Q 1113 -78 717 272 \n",
              "Q 322 622 266 1200 \n",
              "z\n",
              "\" transform=\"scale(0.015625)\"/>\n",
              "       </defs>\n",
              "       <use xlink:href=\"#ArialMT-30\"/>\n",
              "       <use xlink:href=\"#ArialMT-2e\" x=\"55.615234\"/>\n",
              "       <use xlink:href=\"#ArialMT-35\" x=\"83.398438\"/>\n",
              "      </g>\n",
              "     </g>\n",
              "    </g>\n",
              "    <g id=\"xtick_3\">\n",
              "     <g id=\"line2d_3\">\n",
              "      <path d=\"M 239.036895 243.549375 \n",
              "L 239.036895 21.789375 \n",
              "\" clip-path=\"url(#p00453ad7ee)\" style=\"fill: none; stroke: #ffffff; stroke-linecap: round\"/>\n",
              "     </g>\n",
              "     <g id=\"text_3\">\n",
              "      <!-- 1.0 -->\n",
              "      <g style=\"fill: #262626\" transform=\"translate(231.391895 260.922969)scale(0.11 -0.11)\">\n",
              "       <defs>\n",
              "        <path id=\"ArialMT-31\" d=\"M 2384 0 \n",
              "L 1822 0 \n",
              "L 1822 3584 \n",
              "Q 1619 3391 1289 3197 \n",
              "Q 959 3003 697 2906 \n",
              "L 697 3450 \n",
              "Q 1169 3672 1522 3987 \n",
              "Q 1875 4303 2022 4600 \n",
              "L 2384 4600 \n",
              "L 2384 0 \n",
              "z\n",
              "\" transform=\"scale(0.015625)\"/>\n",
              "       </defs>\n",
              "       <use xlink:href=\"#ArialMT-31\"/>\n",
              "       <use xlink:href=\"#ArialMT-2e\" x=\"55.615234\"/>\n",
              "       <use xlink:href=\"#ArialMT-30\" x=\"83.398438\"/>\n",
              "      </g>\n",
              "     </g>\n",
              "    </g>\n",
              "    <g id=\"text_4\">\n",
              "     <!-- $x_1$ -->\n",
              "     <g style=\"fill: #262626\" transform=\"translate(158.569063 275.698594)scale(0.12 -0.12)\">\n",
              "      <defs>\n",
              "       <path id=\"DejaVuSans-Oblique-78\" d=\"M 3841 3500 \n",
              "L 2234 1784 \n",
              "L 3219 0 \n",
              "L 2559 0 \n",
              "L 1819 1388 \n",
              "L 531 0 \n",
              "L -166 0 \n",
              "L 1556 1844 \n",
              "L 641 3500 \n",
              "L 1300 3500 \n",
              "L 1972 2234 \n",
              "L 3144 3500 \n",
              "L 3841 3500 \n",
              "z\n",
              "\" transform=\"scale(0.015625)\"/>\n",
              "       <path id=\"DejaVuSans-31\" d=\"M 794 531 \n",
              "L 1825 531 \n",
              "L 1825 4091 \n",
              "L 703 3866 \n",
              "L 703 4441 \n",
              "L 1819 4666 \n",
              "L 2450 4666 \n",
              "L 2450 531 \n",
              "L 3481 531 \n",
              "L 3481 0 \n",
              "L 794 0 \n",
              "L 794 531 \n",
              "z\n",
              "\" transform=\"scale(0.015625)\"/>\n",
              "      </defs>\n",
              "      <use xlink:href=\"#DejaVuSans-Oblique-78\" transform=\"translate(0 0.3125)\"/>\n",
              "      <use xlink:href=\"#DejaVuSans-31\" transform=\"translate(59.179688 -16.09375)scale(0.7)\"/>\n",
              "     </g>\n",
              "    </g>\n",
              "   </g>\n",
              "   <g id=\"matplotlib.axis_2\">\n",
              "    <g id=\"ytick_1\">\n",
              "     <g id=\"line2d_4\">\n",
              "      <path d=\"M 53.389062 230.713276 \n",
              "L 276.589063 230.713276 \n",
              "\" clip-path=\"url(#p00453ad7ee)\" style=\"fill: none; stroke: #ffffff; stroke-linecap: round\"/>\n",
              "     </g>\n",
              "     <g id=\"text_5\">\n",
              "      <!-- −0.2 -->\n",
              "      <g style=\"fill: #262626\" transform=\"translate(22.174375 234.650073)scale(0.11 -0.11)\">\n",
              "       <defs>\n",
              "        <path id=\"ArialMT-2212\" d=\"M 3381 1997 \n",
              "L 356 1997 \n",
              "L 356 2522 \n",
              "L 3381 2522 \n",
              "L 3381 1997 \n",
              "z\n",
              "\" transform=\"scale(0.015625)\"/>\n",
              "        <path id=\"ArialMT-32\" d=\"M 3222 541 \n",
              "L 3222 0 \n",
              "L 194 0 \n",
              "Q 188 203 259 391 \n",
              "Q 375 700 629 1000 \n",
              "Q 884 1300 1366 1694 \n",
              "Q 2113 2306 2375 2664 \n",
              "Q 2638 3022 2638 3341 \n",
              "Q 2638 3675 2398 3904 \n",
              "Q 2159 4134 1775 4134 \n",
              "Q 1369 4134 1125 3890 \n",
              "Q 881 3647 878 3216 \n",
              "L 300 3275 \n",
              "Q 359 3922 746 4261 \n",
              "Q 1134 4600 1788 4600 \n",
              "Q 2447 4600 2831 4234 \n",
              "Q 3216 3869 3216 3328 \n",
              "Q 3216 3053 3103 2787 \n",
              "Q 2991 2522 2730 2228 \n",
              "Q 2469 1934 1863 1422 \n",
              "Q 1356 997 1212 845 \n",
              "Q 1069 694 975 541 \n",
              "L 3222 541 \n",
              "z\n",
              "\" transform=\"scale(0.015625)\"/>\n",
              "       </defs>\n",
              "       <use xlink:href=\"#ArialMT-2212\"/>\n",
              "       <use xlink:href=\"#ArialMT-30\" x=\"58.398438\"/>\n",
              "       <use xlink:href=\"#ArialMT-2e\" x=\"114.013672\"/>\n",
              "       <use xlink:href=\"#ArialMT-32\" x=\"141.796875\"/>\n",
              "      </g>\n",
              "     </g>\n",
              "    </g>\n",
              "    <g id=\"ytick_2\">\n",
              "     <g id=\"line2d_5\">\n",
              "      <path d=\"M 53.389062 202.226892 \n",
              "L 276.589063 202.226892 \n",
              "\" clip-path=\"url(#p00453ad7ee)\" style=\"fill: none; stroke: #ffffff; stroke-linecap: round\"/>\n",
              "     </g>\n",
              "     <g id=\"text_6\">\n",
              "      <!-- 0.0 -->\n",
              "      <g style=\"fill: #262626\" transform=\"translate(28.599062 206.163689)scale(0.11 -0.11)\">\n",
              "       <use xlink:href=\"#ArialMT-30\"/>\n",
              "       <use xlink:href=\"#ArialMT-2e\" x=\"55.615234\"/>\n",
              "       <use xlink:href=\"#ArialMT-30\" x=\"83.398438\"/>\n",
              "      </g>\n",
              "     </g>\n",
              "    </g>\n",
              "    <g id=\"ytick_3\">\n",
              "     <g id=\"line2d_6\">\n",
              "      <path d=\"M 53.389062 173.740509 \n",
              "L 276.589063 173.740509 \n",
              "\" clip-path=\"url(#p00453ad7ee)\" style=\"fill: none; stroke: #ffffff; stroke-linecap: round\"/>\n",
              "     </g>\n",
              "     <g id=\"text_7\">\n",
              "      <!-- 0.2 -->\n",
              "      <g style=\"fill: #262626\" transform=\"translate(28.599062 177.677306)scale(0.11 -0.11)\">\n",
              "       <use xlink:href=\"#ArialMT-30\"/>\n",
              "       <use xlink:href=\"#ArialMT-2e\" x=\"55.615234\"/>\n",
              "       <use xlink:href=\"#ArialMT-32\" x=\"83.398438\"/>\n",
              "      </g>\n",
              "     </g>\n",
              "    </g>\n",
              "    <g id=\"ytick_4\">\n",
              "     <g id=\"line2d_7\">\n",
              "      <path d=\"M 53.389062 145.254126 \n",
              "L 276.589063 145.254126 \n",
              "\" clip-path=\"url(#p00453ad7ee)\" style=\"fill: none; stroke: #ffffff; stroke-linecap: round\"/>\n",
              "     </g>\n",
              "     <g id=\"text_8\">\n",
              "      <!-- 0.4 -->\n",
              "      <g style=\"fill: #262626\" transform=\"translate(28.599062 149.190923)scale(0.11 -0.11)\">\n",
              "       <defs>\n",
              "        <path id=\"ArialMT-34\" d=\"M 2069 0 \n",
              "L 2069 1097 \n",
              "L 81 1097 \n",
              "L 81 1613 \n",
              "L 2172 4581 \n",
              "L 2631 4581 \n",
              "L 2631 1613 \n",
              "L 3250 1613 \n",
              "L 3250 1097 \n",
              "L 2631 1097 \n",
              "L 2631 0 \n",
              "L 2069 0 \n",
              "z\n",
              "M 2069 1613 \n",
              "L 2069 3678 \n",
              "L 634 1613 \n",
              "L 2069 1613 \n",
              "z\n",
              "\" transform=\"scale(0.015625)\"/>\n",
              "       </defs>\n",
              "       <use xlink:href=\"#ArialMT-30\"/>\n",
              "       <use xlink:href=\"#ArialMT-2e\" x=\"55.615234\"/>\n",
              "       <use xlink:href=\"#ArialMT-34\" x=\"83.398438\"/>\n",
              "      </g>\n",
              "     </g>\n",
              "    </g>\n",
              "    <g id=\"ytick_5\">\n",
              "     <g id=\"line2d_8\">\n",
              "      <path d=\"M 53.389062 116.767742 \n",
              "L 276.589063 116.767742 \n",
              "\" clip-path=\"url(#p00453ad7ee)\" style=\"fill: none; stroke: #ffffff; stroke-linecap: round\"/>\n",
              "     </g>\n",
              "     <g id=\"text_9\">\n",
              "      <!-- 0.6 -->\n",
              "      <g style=\"fill: #262626\" transform=\"translate(28.599062 120.704539)scale(0.11 -0.11)\">\n",
              "       <defs>\n",
              "        <path id=\"ArialMT-36\" d=\"M 3184 3459 \n",
              "L 2625 3416 \n",
              "Q 2550 3747 2413 3897 \n",
              "Q 2184 4138 1850 4138 \n",
              "Q 1581 4138 1378 3988 \n",
              "Q 1113 3794 959 3422 \n",
              "Q 806 3050 800 2363 \n",
              "Q 1003 2672 1297 2822 \n",
              "Q 1591 2972 1913 2972 \n",
              "Q 2475 2972 2870 2558 \n",
              "Q 3266 2144 3266 1488 \n",
              "Q 3266 1056 3080 686 \n",
              "Q 2894 316 2569 119 \n",
              "Q 2244 -78 1831 -78 \n",
              "Q 1128 -78 684 439 \n",
              "Q 241 956 241 2144 \n",
              "Q 241 3472 731 4075 \n",
              "Q 1159 4600 1884 4600 \n",
              "Q 2425 4600 2770 4297 \n",
              "Q 3116 3994 3184 3459 \n",
              "z\n",
              "M 888 1484 \n",
              "Q 888 1194 1011 928 \n",
              "Q 1134 663 1356 523 \n",
              "Q 1578 384 1822 384 \n",
              "Q 2178 384 2434 671 \n",
              "Q 2691 959 2691 1453 \n",
              "Q 2691 1928 2437 2201 \n",
              "Q 2184 2475 1800 2475 \n",
              "Q 1419 2475 1153 2201 \n",
              "Q 888 1928 888 1484 \n",
              "z\n",
              "\" transform=\"scale(0.015625)\"/>\n",
              "       </defs>\n",
              "       <use xlink:href=\"#ArialMT-30\"/>\n",
              "       <use xlink:href=\"#ArialMT-2e\" x=\"55.615234\"/>\n",
              "       <use xlink:href=\"#ArialMT-36\" x=\"83.398438\"/>\n",
              "      </g>\n",
              "     </g>\n",
              "    </g>\n",
              "    <g id=\"ytick_6\">\n",
              "     <g id=\"line2d_9\">\n",
              "      <path d=\"M 53.389062 88.281359 \n",
              "L 276.589063 88.281359 \n",
              "\" clip-path=\"url(#p00453ad7ee)\" style=\"fill: none; stroke: #ffffff; stroke-linecap: round\"/>\n",
              "     </g>\n",
              "     <g id=\"text_10\">\n",
              "      <!-- 0.8 -->\n",
              "      <g style=\"fill: #262626\" transform=\"translate(28.599062 92.218156)scale(0.11 -0.11)\">\n",
              "       <defs>\n",
              "        <path id=\"ArialMT-38\" d=\"M 1131 2484 \n",
              "Q 781 2613 612 2850 \n",
              "Q 444 3088 444 3419 \n",
              "Q 444 3919 803 4259 \n",
              "Q 1163 4600 1759 4600 \n",
              "Q 2359 4600 2725 4251 \n",
              "Q 3091 3903 3091 3403 \n",
              "Q 3091 3084 2923 2848 \n",
              "Q 2756 2613 2416 2484 \n",
              "Q 2838 2347 3058 2040 \n",
              "Q 3278 1734 3278 1309 \n",
              "Q 3278 722 2862 322 \n",
              "Q 2447 -78 1769 -78 \n",
              "Q 1091 -78 675 323 \n",
              "Q 259 725 259 1325 \n",
              "Q 259 1772 486 2073 \n",
              "Q 713 2375 1131 2484 \n",
              "z\n",
              "M 1019 3438 \n",
              "Q 1019 3113 1228 2906 \n",
              "Q 1438 2700 1772 2700 \n",
              "Q 2097 2700 2305 2904 \n",
              "Q 2513 3109 2513 3406 \n",
              "Q 2513 3716 2298 3927 \n",
              "Q 2084 4138 1766 4138 \n",
              "Q 1444 4138 1231 3931 \n",
              "Q 1019 3725 1019 3438 \n",
              "z\n",
              "M 838 1322 \n",
              "Q 838 1081 952 856 \n",
              "Q 1066 631 1291 507 \n",
              "Q 1516 384 1775 384 \n",
              "Q 2178 384 2440 643 \n",
              "Q 2703 903 2703 1303 \n",
              "Q 2703 1709 2433 1975 \n",
              "Q 2163 2241 1756 2241 \n",
              "Q 1359 2241 1098 1978 \n",
              "Q 838 1716 838 1322 \n",
              "z\n",
              "\" transform=\"scale(0.015625)\"/>\n",
              "       </defs>\n",
              "       <use xlink:href=\"#ArialMT-30\"/>\n",
              "       <use xlink:href=\"#ArialMT-2e\" x=\"55.615234\"/>\n",
              "       <use xlink:href=\"#ArialMT-38\" x=\"83.398438\"/>\n",
              "      </g>\n",
              "     </g>\n",
              "    </g>\n",
              "    <g id=\"ytick_7\">\n",
              "     <g id=\"line2d_10\">\n",
              "      <path d=\"M 53.389062 59.794976 \n",
              "L 276.589063 59.794976 \n",
              "\" clip-path=\"url(#p00453ad7ee)\" style=\"fill: none; stroke: #ffffff; stroke-linecap: round\"/>\n",
              "     </g>\n",
              "     <g id=\"text_11\">\n",
              "      <!-- 1.0 -->\n",
              "      <g style=\"fill: #262626\" transform=\"translate(28.599062 63.731773)scale(0.11 -0.11)\">\n",
              "       <use xlink:href=\"#ArialMT-31\"/>\n",
              "       <use xlink:href=\"#ArialMT-2e\" x=\"55.615234\"/>\n",
              "       <use xlink:href=\"#ArialMT-30\" x=\"83.398438\"/>\n",
              "      </g>\n",
              "     </g>\n",
              "    </g>\n",
              "    <g id=\"ytick_8\">\n",
              "     <g id=\"line2d_11\">\n",
              "      <path d=\"M 53.389062 31.308593 \n",
              "L 276.589063 31.308593 \n",
              "\" clip-path=\"url(#p00453ad7ee)\" style=\"fill: none; stroke: #ffffff; stroke-linecap: round\"/>\n",
              "     </g>\n",
              "     <g id=\"text_12\">\n",
              "      <!-- 1.2 -->\n",
              "      <g style=\"fill: #262626\" transform=\"translate(28.599062 35.245389)scale(0.11 -0.11)\">\n",
              "       <use xlink:href=\"#ArialMT-31\"/>\n",
              "       <use xlink:href=\"#ArialMT-2e\" x=\"55.615234\"/>\n",
              "       <use xlink:href=\"#ArialMT-32\" x=\"83.398438\"/>\n",
              "      </g>\n",
              "     </g>\n",
              "    </g>\n",
              "    <g id=\"text_13\">\n",
              "     <!-- $x_2$ -->\n",
              "     <g style=\"fill: #262626\" transform=\"translate(15.789375 139.089375)rotate(-90)scale(0.12 -0.12)\">\n",
              "      <defs>\n",
              "       <path id=\"DejaVuSans-32\" d=\"M 1228 531 \n",
              "L 3431 531 \n",
              "L 3431 0 \n",
              "L 469 0 \n",
              "L 469 531 \n",
              "Q 828 903 1448 1529 \n",
              "Q 2069 2156 2228 2338 \n",
              "Q 2531 2678 2651 2914 \n",
              "Q 2772 3150 2772 3378 \n",
              "Q 2772 3750 2511 3984 \n",
              "Q 2250 4219 1831 4219 \n",
              "Q 1534 4219 1204 4116 \n",
              "Q 875 4013 500 3803 \n",
              "L 500 4441 \n",
              "Q 881 4594 1212 4672 \n",
              "Q 1544 4750 1819 4750 \n",
              "Q 2544 4750 2975 4387 \n",
              "Q 3406 4025 3406 3419 \n",
              "Q 3406 3131 3298 2873 \n",
              "Q 3191 2616 2906 2266 \n",
              "Q 2828 2175 2409 1742 \n",
              "Q 1991 1309 1228 531 \n",
              "z\n",
              "\" transform=\"scale(0.015625)\"/>\n",
              "      </defs>\n",
              "      <use xlink:href=\"#DejaVuSans-Oblique-78\" transform=\"translate(0 0.3125)\"/>\n",
              "      <use xlink:href=\"#DejaVuSans-32\" transform=\"translate(59.179688 -16.09375)scale(0.7)\"/>\n",
              "     </g>\n",
              "    </g>\n",
              "   </g>\n",
              "   <g id=\"PathCollection_1\">\n",
              "    <defs>\n",
              "     <path id=\"mebb5179d0a\" d=\"M 0 3 \n",
              "C 0.795609 3 1.55874 2.683901 2.12132 2.12132 \n",
              "C 2.683901 1.55874 3 0.795609 3 0 \n",
              "C 3 -0.795609 2.683901 -1.55874 2.12132 -2.12132 \n",
              "C 1.55874 -2.683901 0.795609 -3 0 -3 \n",
              "C -0.795609 -3 -1.55874 -2.683901 -2.12132 -2.12132 \n",
              "C -2.683901 -1.55874 -3 -0.795609 -3 0 \n",
              "C -3 0.795609 -2.683901 1.55874 -2.12132 2.12132 \n",
              "C -1.55874 2.683901 -0.795609 3 0 3 \n",
              "z\n",
              "\" style=\"stroke: #333333\"/>\n",
              "    </defs>\n",
              "    <g clip-path=\"url(#p00453ad7ee)\">\n",
              "     <use xlink:href=\"#mebb5179d0a\" x=\"82.483115\" y=\"168.00486\" style=\"fill: #4c72b0; stroke: #333333\"/>\n",
              "     <use xlink:href=\"#mebb5179d0a\" x=\"237.708485\" y=\"47.924659\" style=\"fill: #4c72b0; stroke: #333333\"/>\n",
              "     <use xlink:href=\"#mebb5179d0a\" x=\"76.502295\" y=\"196.680705\" style=\"fill: #4c72b0; stroke: #333333\"/>\n",
              "     <use xlink:href=\"#mebb5179d0a\" x=\"78.270475\" y=\"211.098381\" style=\"fill: #4c72b0; stroke: #333333\"/>\n",
              "     <use xlink:href=\"#mebb5179d0a\" x=\"88.934514\" y=\"229.222281\" style=\"fill: #4c72b0; stroke: #333333\"/>\n",
              "     <use xlink:href=\"#mebb5179d0a\" x=\"238.765027\" y=\"60.619461\" style=\"fill: #4c72b0; stroke: #333333\"/>\n",
              "     <use xlink:href=\"#mebb5179d0a\" x=\"89.438114\" y=\"216.377469\" style=\"fill: #4c72b0; stroke: #333333\"/>\n",
              "     <use xlink:href=\"#mebb5179d0a\" x=\"220.424829\" y=\"58.190424\" style=\"fill: #4c72b0; stroke: #333333\"/>\n",
              "     <use xlink:href=\"#mebb5179d0a\" x=\"258.74786\" y=\"61.904549\" style=\"fill: #4c72b0; stroke: #333333\"/>\n",
              "     <use xlink:href=\"#mebb5179d0a\" x=\"92.295541\" y=\"195.787554\" style=\"fill: #4c72b0; stroke: #333333\"/>\n",
              "     <use xlink:href=\"#mebb5179d0a\" x=\"247.045328\" y=\"52.052169\" style=\"fill: #4c72b0; stroke: #333333\"/>\n",
              "     <use xlink:href=\"#mebb5179d0a\" x=\"241.510551\" y=\"41.621332\" style=\"fill: #4c72b0; stroke: #333333\"/>\n",
              "     <use xlink:href=\"#mebb5179d0a\" x=\"83.846304\" y=\"219.044489\" style=\"fill: #4c72b0; stroke: #333333\"/>\n",
              "     <use xlink:href=\"#mebb5179d0a\" x=\"205.779151\" y=\"40.449597\" style=\"fill: #4c72b0; stroke: #333333\"/>\n",
              "     <use xlink:href=\"#mebb5179d0a\" x=\"213.001395\" y=\"66.518742\" style=\"fill: #4c72b0; stroke: #333333\"/>\n",
              "     <use xlink:href=\"#mebb5179d0a\" x=\"238.179826\" y=\"40.645554\" style=\"fill: #4c72b0; stroke: #333333\"/>\n",
              "     <use xlink:href=\"#mebb5179d0a\" x=\"118.17588\" y=\"198.135384\" style=\"fill: #4c72b0; stroke: #333333\"/>\n",
              "     <use xlink:href=\"#mebb5179d0a\" x=\"76.773803\" y=\"184.094374\" style=\"fill: #4c72b0; stroke: #333333\"/>\n",
              "     <use xlink:href=\"#mebb5179d0a\" x=\"226.889986\" y=\"41.314586\" style=\"fill: #4c72b0; stroke: #333333\"/>\n",
              "     <use xlink:href=\"#mebb5179d0a\" x=\"265.300171\" y=\"43.624063\" style=\"fill: #4c72b0; stroke: #333333\"/>\n",
              "     <use xlink:href=\"#mebb5179d0a\" x=\"265.595452\" y=\"43.244561\" style=\"fill: #4c72b0; stroke: #333333\"/>\n",
              "     <use xlink:href=\"#mebb5179d0a\" x=\"87.707319\" y=\"228.605278\" style=\"fill: #4c72b0; stroke: #333333\"/>\n",
              "     <use xlink:href=\"#mebb5179d0a\" x=\"243.508321\" y=\"59.710504\" style=\"fill: #4c72b0; stroke: #333333\"/>\n",
              "     <use xlink:href=\"#mebb5179d0a\" x=\"111.345427\" y=\"199.214743\" style=\"fill: #4c72b0; stroke: #333333\"/>\n",
              "     <use xlink:href=\"#mebb5179d0a\" x=\"236.621552\" y=\"69.953296\" style=\"fill: #4c72b0; stroke: #333333\"/>\n",
              "     <use xlink:href=\"#mebb5179d0a\" x=\"105.415202\" y=\"183.470927\" style=\"fill: #4c72b0; stroke: #333333\"/>\n",
              "     <use xlink:href=\"#mebb5179d0a\" x=\"115.069763\" y=\"198.622768\" style=\"fill: #4c72b0; stroke: #333333\"/>\n",
              "     <use xlink:href=\"#mebb5179d0a\" x=\"228.568935\" y=\"44.647893\" style=\"fill: #4c72b0; stroke: #333333\"/>\n",
              "     <use xlink:href=\"#mebb5179d0a\" x=\"248.781262\" y=\"53.855615\" style=\"fill: #4c72b0; stroke: #333333\"/>\n",
              "     <use xlink:href=\"#mebb5179d0a\" x=\"228.655493\" y=\"54.307636\" style=\"fill: #4c72b0; stroke: #333333\"/>\n",
              "     <use xlink:href=\"#mebb5179d0a\" x=\"110.077518\" y=\"194.798666\" style=\"fill: #4c72b0; stroke: #333333\"/>\n",
              "     <use xlink:href=\"#mebb5179d0a\" x=\"84.160965\" y=\"177.173452\" style=\"fill: #4c72b0; stroke: #333333\"/>\n",
              "     <use xlink:href=\"#mebb5179d0a\" x=\"86.662711\" y=\"203.628719\" style=\"fill: #4c72b0; stroke: #333333\"/>\n",
              "     <use xlink:href=\"#mebb5179d0a\" x=\"92.743967\" y=\"186.895478\" style=\"fill: #4c72b0; stroke: #333333\"/>\n",
              "     <use xlink:href=\"#mebb5179d0a\" x=\"93.205504\" y=\"187.08934\" style=\"fill: #4c72b0; stroke: #333333\"/>\n",
              "     <use xlink:href=\"#mebb5179d0a\" x=\"97.77843\" y=\"204.329255\" style=\"fill: #4c72b0; stroke: #333333\"/>\n",
              "     <use xlink:href=\"#mebb5179d0a\" x=\"258.144607\" y=\"40.618846\" style=\"fill: #4c72b0; stroke: #333333\"/>\n",
              "     <use xlink:href=\"#mebb5179d0a\" x=\"97.511849\" y=\"193.669911\" style=\"fill: #4c72b0; stroke: #333333\"/>\n",
              "     <use xlink:href=\"#mebb5179d0a\" x=\"241.567796\" y=\"41.893933\" style=\"fill: #4c72b0; stroke: #333333\"/>\n",
              "     <use xlink:href=\"#mebb5179d0a\" x=\"239.465467\" y=\"53.325592\" style=\"fill: #4c72b0; stroke: #333333\"/>\n",
              "     <use xlink:href=\"#mebb5179d0a\" x=\"257.467244\" y=\"51.215535\" style=\"fill: #4c72b0; stroke: #333333\"/>\n",
              "     <use xlink:href=\"#mebb5179d0a\" x=\"87.619777\" y=\"214.893253\" style=\"fill: #4c72b0; stroke: #333333\"/>\n",
              "     <use xlink:href=\"#mebb5179d0a\" x=\"207.539601\" y=\"49.432667\" style=\"fill: #4c72b0; stroke: #333333\"/>\n",
              "     <use xlink:href=\"#mebb5179d0a\" x=\"91.021815\" y=\"233.469375\" style=\"fill: #4c72b0; stroke: #333333\"/>\n",
              "     <use xlink:href=\"#mebb5179d0a\" x=\"76.010461\" y=\"179.62915\" style=\"fill: #4c72b0; stroke: #333333\"/>\n",
              "     <use xlink:href=\"#mebb5179d0a\" x=\"117.590972\" y=\"199.563647\" style=\"fill: #4c72b0; stroke: #333333\"/>\n",
              "     <use xlink:href=\"#mebb5179d0a\" x=\"223.484713\" y=\"68.610614\" style=\"fill: #4c72b0; stroke: #333333\"/>\n",
              "     <use xlink:href=\"#mebb5179d0a\" x=\"252.582158\" y=\"53.703261\" style=\"fill: #4c72b0; stroke: #333333\"/>\n",
              "     <use xlink:href=\"#mebb5179d0a\" x=\"243.869145\" y=\"75.892614\" style=\"fill: #4c72b0; stroke: #333333\"/>\n",
              "     <use xlink:href=\"#mebb5179d0a\" x=\"108.255854\" y=\"200.81985\" style=\"fill: #4c72b0; stroke: #333333\"/>\n",
              "     <use xlink:href=\"#mebb5179d0a\" x=\"236.013595\" y=\"79.182361\" style=\"fill: #4c72b0; stroke: #333333\"/>\n",
              "     <use xlink:href=\"#mebb5179d0a\" x=\"248.886427\" y=\"48.123486\" style=\"fill: #4c72b0; stroke: #333333\"/>\n",
              "     <use xlink:href=\"#mebb5179d0a\" x=\"266.443608\" y=\"62.181276\" style=\"fill: #4c72b0; stroke: #333333\"/>\n",
              "     <use xlink:href=\"#mebb5179d0a\" x=\"96.335642\" y=\"216.941811\" style=\"fill: #4c72b0; stroke: #333333\"/>\n",
              "     <use xlink:href=\"#mebb5179d0a\" x=\"97.342638\" y=\"199.297242\" style=\"fill: #4c72b0; stroke: #333333\"/>\n",
              "     <use xlink:href=\"#mebb5179d0a\" x=\"63.534517\" y=\"208.219435\" style=\"fill: #4c72b0; stroke: #333333\"/>\n",
              "     <use xlink:href=\"#mebb5179d0a\" x=\"113.424384\" y=\"222.703787\" style=\"fill: #4c72b0; stroke: #333333\"/>\n",
              "     <use xlink:href=\"#mebb5179d0a\" x=\"94.085281\" y=\"189.687757\" style=\"fill: #4c72b0; stroke: #333333\"/>\n",
              "     <use xlink:href=\"#mebb5179d0a\" x=\"234.001291\" y=\"51.865686\" style=\"fill: #4c72b0; stroke: #333333\"/>\n",
              "     <use xlink:href=\"#mebb5179d0a\" x=\"241.626421\" y=\"68.343676\" style=\"fill: #4c72b0; stroke: #333333\"/>\n",
              "     <use xlink:href=\"#mebb5179d0a\" x=\"228.848108\" y=\"67.840531\" style=\"fill: #4c72b0; stroke: #333333\"/>\n",
              "     <use xlink:href=\"#mebb5179d0a\" x=\"218.328029\" y=\"77.148864\" style=\"fill: #4c72b0; stroke: #333333\"/>\n",
              "     <use xlink:href=\"#mebb5179d0a\" x=\"91.722205\" y=\"220.207684\" style=\"fill: #4c72b0; stroke: #333333\"/>\n",
              "     <use xlink:href=\"#mebb5179d0a\" x=\"214.355212\" y=\"66.983013\" style=\"fill: #4c72b0; stroke: #333333\"/>\n",
              "     <use xlink:href=\"#mebb5179d0a\" x=\"95.618922\" y=\"200.320585\" style=\"fill: #4c72b0; stroke: #333333\"/>\n",
              "     <use xlink:href=\"#mebb5179d0a\" x=\"256.378022\" y=\"46.192287\" style=\"fill: #4c72b0; stroke: #333333\"/>\n",
              "     <use xlink:href=\"#mebb5179d0a\" x=\"75.370357\" y=\"188.036386\" style=\"fill: #4c72b0; stroke: #333333\"/>\n",
              "     <use xlink:href=\"#mebb5179d0a\" x=\"129.868917\" y=\"204.600973\" style=\"fill: #4c72b0; stroke: #333333\"/>\n",
              "     <use xlink:href=\"#mebb5179d0a\" x=\"104.297552\" y=\"198.836571\" style=\"fill: #4c72b0; stroke: #333333\"/>\n",
              "     <use xlink:href=\"#mebb5179d0a\" x=\"115.416537\" y=\"197.774702\" style=\"fill: #4c72b0; stroke: #333333\"/>\n",
              "     <use xlink:href=\"#mebb5179d0a\" x=\"237.454728\" y=\"48.449503\" style=\"fill: #4c72b0; stroke: #333333\"/>\n",
              "     <use xlink:href=\"#mebb5179d0a\" x=\"244.609712\" y=\"43.616542\" style=\"fill: #4c72b0; stroke: #333333\"/>\n",
              "     <use xlink:href=\"#mebb5179d0a\" x=\"98.351801\" y=\"191.85069\" style=\"fill: #4c72b0; stroke: #333333\"/>\n",
              "     <use xlink:href=\"#mebb5179d0a\" x=\"117.444333\" y=\"198.463348\" style=\"fill: #4c72b0; stroke: #333333\"/>\n",
              "     <use xlink:href=\"#mebb5179d0a\" x=\"260.220931\" y=\"57.391094\" style=\"fill: #4c72b0; stroke: #333333\"/>\n",
              "     <use xlink:href=\"#mebb5179d0a\" x=\"262.099161\" y=\"57.219179\" style=\"fill: #4c72b0; stroke: #333333\"/>\n",
              "     <use xlink:href=\"#mebb5179d0a\" x=\"89.732591\" y=\"206.127614\" style=\"fill: #4c72b0; stroke: #333333\"/>\n",
              "     <use xlink:href=\"#mebb5179d0a\" x=\"85.799004\" y=\"163.681773\" style=\"fill: #4c72b0; stroke: #333333\"/>\n",
              "     <use xlink:href=\"#mebb5179d0a\" x=\"238.009539\" y=\"45.361597\" style=\"fill: #4c72b0; stroke: #333333\"/>\n",
              "     <use xlink:href=\"#mebb5179d0a\" x=\"260.107266\" y=\"49.584886\" style=\"fill: #4c72b0; stroke: #333333\"/>\n",
              "     <use xlink:href=\"#mebb5179d0a\" x=\"224.640311\" y=\"47.243165\" style=\"fill: #4c72b0; stroke: #333333\"/>\n",
              "     <use xlink:href=\"#mebb5179d0a\" x=\"84.280149\" y=\"211.281185\" style=\"fill: #4c72b0; stroke: #333333\"/>\n",
              "     <use xlink:href=\"#mebb5179d0a\" x=\"227.271622\" y=\"61.54667\" style=\"fill: #4c72b0; stroke: #333333\"/>\n",
              "     <use xlink:href=\"#mebb5179d0a\" x=\"103.607022\" y=\"221.135526\" style=\"fill: #4c72b0; stroke: #333333\"/>\n",
              "     <use xlink:href=\"#mebb5179d0a\" x=\"89.68359\" y=\"212.028945\" style=\"fill: #4c72b0; stroke: #333333\"/>\n",
              "     <use xlink:href=\"#mebb5179d0a\" x=\"263.028228\" y=\"52.23191\" style=\"fill: #4c72b0; stroke: #333333\"/>\n",
              "     <use xlink:href=\"#mebb5179d0a\" x=\"249.735576\" y=\"45.693761\" style=\"fill: #4c72b0; stroke: #333333\"/>\n",
              "     <use xlink:href=\"#mebb5179d0a\" x=\"102.751954\" y=\"227.614569\" style=\"fill: #4c72b0; stroke: #333333\"/>\n",
              "     <use xlink:href=\"#mebb5179d0a\" x=\"90.578104\" y=\"187.800469\" style=\"fill: #4c72b0; stroke: #333333\"/>\n",
              "     <use xlink:href=\"#mebb5179d0a\" x=\"245.899282\" y=\"55.95051\" style=\"fill: #4c72b0; stroke: #333333\"/>\n",
              "     <use xlink:href=\"#mebb5179d0a\" x=\"80.940145\" y=\"188.195054\" style=\"fill: #4c72b0; stroke: #333333\"/>\n",
              "     <use xlink:href=\"#mebb5179d0a\" x=\"102.321455\" y=\"204.657571\" style=\"fill: #4c72b0; stroke: #333333\"/>\n",
              "     <use xlink:href=\"#mebb5179d0a\" x=\"105.193331\" y=\"208.783536\" style=\"fill: #4c72b0; stroke: #333333\"/>\n",
              "     <use xlink:href=\"#mebb5179d0a\" x=\"86.578577\" y=\"201.40627\" style=\"fill: #4c72b0; stroke: #333333\"/>\n",
              "     <use xlink:href=\"#mebb5179d0a\" x=\"239.479168\" y=\"75.429167\" style=\"fill: #4c72b0; stroke: #333333\"/>\n",
              "     <use xlink:href=\"#mebb5179d0a\" x=\"253.085413\" y=\"40.651276\" style=\"fill: #4c72b0; stroke: #333333\"/>\n",
              "     <use xlink:href=\"#mebb5179d0a\" x=\"86.359585\" y=\"214.475662\" style=\"fill: #4c72b0; stroke: #333333\"/>\n",
              "     <use xlink:href=\"#mebb5179d0a\" x=\"116.722452\" y=\"178.098184\" style=\"fill: #4c72b0; stroke: #333333\"/>\n",
              "     <use xlink:href=\"#mebb5179d0a\" x=\"99.134011\" y=\"196.152535\" style=\"fill: #4c72b0; stroke: #333333\"/>\n",
              "    </g>\n",
              "   </g>\n",
              "   <g id=\"PathCollection_2\">\n",
              "    <defs>\n",
              "     <path id=\"m427dde5d37\" d=\"M 0 3 \n",
              "C 0.795609 3 1.55874 2.683901 2.12132 2.12132 \n",
              "C 2.683901 1.55874 3 0.795609 3 0 \n",
              "C 3 -0.795609 2.683901 -1.55874 2.12132 -2.12132 \n",
              "C 1.55874 -2.683901 0.795609 -3 0 -3 \n",
              "C -0.795609 -3 -1.55874 -2.683901 -2.12132 -2.12132 \n",
              "C -2.683901 -1.55874 -3 -0.795609 -3 0 \n",
              "C -3 0.795609 -2.683901 1.55874 -2.12132 2.12132 \n",
              "C -1.55874 2.683901 -0.795609 3 0 3 \n",
              "z\n",
              "\" style=\"stroke: #333333\"/>\n",
              "    </defs>\n",
              "    <g clip-path=\"url(#p00453ad7ee)\">\n",
              "     <use xlink:href=\"#m427dde5d37\" x=\"104.771578\" y=\"52.700163\" style=\"fill: #dd8452; stroke: #333333\"/>\n",
              "     <use xlink:href=\"#m427dde5d37\" x=\"91.405526\" y=\"72.905734\" style=\"fill: #dd8452; stroke: #333333\"/>\n",
              "     <use xlink:href=\"#m427dde5d37\" x=\"121.692866\" y=\"63.861106\" style=\"fill: #dd8452; stroke: #333333\"/>\n",
              "     <use xlink:href=\"#m427dde5d37\" x=\"246.053782\" y=\"205.608766\" style=\"fill: #dd8452; stroke: #333333\"/>\n",
              "     <use xlink:href=\"#m427dde5d37\" x=\"245.841566\" y=\"192.938303\" style=\"fill: #dd8452; stroke: #333333\"/>\n",
              "     <use xlink:href=\"#m427dde5d37\" x=\"252.096543\" y=\"203.043058\" style=\"fill: #dd8452; stroke: #333333\"/>\n",
              "     <use xlink:href=\"#m427dde5d37\" x=\"243.873454\" y=\"217.477989\" style=\"fill: #dd8452; stroke: #333333\"/>\n",
              "     <use xlink:href=\"#m427dde5d37\" x=\"235.069683\" y=\"209.812908\" style=\"fill: #dd8452; stroke: #333333\"/>\n",
              "     <use xlink:href=\"#m427dde5d37\" x=\"93.776062\" y=\"58.717119\" style=\"fill: #dd8452; stroke: #333333\"/>\n",
              "     <use xlink:href=\"#m427dde5d37\" x=\"113.766611\" y=\"70.095429\" style=\"fill: #dd8452; stroke: #333333\"/>\n",
              "     <use xlink:href=\"#m427dde5d37\" x=\"111.653308\" y=\"57.657446\" style=\"fill: #dd8452; stroke: #333333\"/>\n",
              "     <use xlink:href=\"#m427dde5d37\" x=\"234.649316\" y=\"213.075615\" style=\"fill: #dd8452; stroke: #333333\"/>\n",
              "     <use xlink:href=\"#m427dde5d37\" x=\"239.595291\" y=\"205.315867\" style=\"fill: #dd8452; stroke: #333333\"/>\n",
              "     <use xlink:href=\"#m427dde5d37\" x=\"81.177743\" y=\"84.142311\" style=\"fill: #dd8452; stroke: #333333\"/>\n",
              "     <use xlink:href=\"#m427dde5d37\" x=\"102.125369\" y=\"65.562116\" style=\"fill: #dd8452; stroke: #333333\"/>\n",
              "     <use xlink:href=\"#m427dde5d37\" x=\"109.397886\" y=\"44.093012\" style=\"fill: #dd8452; stroke: #333333\"/>\n",
              "     <use xlink:href=\"#m427dde5d37\" x=\"115.268936\" y=\"73.17449\" style=\"fill: #dd8452; stroke: #333333\"/>\n",
              "     <use xlink:href=\"#m427dde5d37\" x=\"91.92879\" y=\"69.931351\" style=\"fill: #dd8452; stroke: #333333\"/>\n",
              "     <use xlink:href=\"#m427dde5d37\" x=\"115.174798\" y=\"31.869375\" style=\"fill: #dd8452; stroke: #333333\"/>\n",
              "     <use xlink:href=\"#m427dde5d37\" x=\"230.34227\" y=\"211.063009\" style=\"fill: #dd8452; stroke: #333333\"/>\n",
              "     <use xlink:href=\"#m427dde5d37\" x=\"242.286784\" y=\"184.616296\" style=\"fill: #dd8452; stroke: #333333\"/>\n",
              "     <use xlink:href=\"#m427dde5d37\" x=\"118.80877\" y=\"67.310304\" style=\"fill: #dd8452; stroke: #333333\"/>\n",
              "     <use xlink:href=\"#m427dde5d37\" x=\"240.393995\" y=\"199.650759\" style=\"fill: #dd8452; stroke: #333333\"/>\n",
              "     <use xlink:href=\"#m427dde5d37\" x=\"99.435353\" y=\"68.183774\" style=\"fill: #dd8452; stroke: #333333\"/>\n",
              "     <use xlink:href=\"#m427dde5d37\" x=\"245.987919\" y=\"173.136197\" style=\"fill: #dd8452; stroke: #333333\"/>\n",
              "     <use xlink:href=\"#m427dde5d37\" x=\"85.221793\" y=\"81.391365\" style=\"fill: #dd8452; stroke: #333333\"/>\n",
              "     <use xlink:href=\"#m427dde5d37\" x=\"253.977652\" y=\"207.290751\" style=\"fill: #dd8452; stroke: #333333\"/>\n",
              "     <use xlink:href=\"#m427dde5d37\" x=\"225.755579\" y=\"201.740994\" style=\"fill: #dd8452; stroke: #333333\"/>\n",
              "     <use xlink:href=\"#m427dde5d37\" x=\"81.601647\" y=\"33.851188\" style=\"fill: #dd8452; stroke: #333333\"/>\n",
              "     <use xlink:href=\"#m427dde5d37\" x=\"84.52116\" y=\"82.440561\" style=\"fill: #dd8452; stroke: #333333\"/>\n",
              "     <use xlink:href=\"#m427dde5d37\" x=\"232.588074\" y=\"184.326266\" style=\"fill: #dd8452; stroke: #333333\"/>\n",
              "     <use xlink:href=\"#m427dde5d37\" x=\"249.587473\" y=\"230.95807\" style=\"fill: #dd8452; stroke: #333333\"/>\n",
              "     <use xlink:href=\"#m427dde5d37\" x=\"237.313635\" y=\"195.293067\" style=\"fill: #dd8452; stroke: #333333\"/>\n",
              "     <use xlink:href=\"#m427dde5d37\" x=\"78.140308\" y=\"59.735328\" style=\"fill: #dd8452; stroke: #333333\"/>\n",
              "     <use xlink:href=\"#m427dde5d37\" x=\"240.590658\" y=\"201.573746\" style=\"fill: #dd8452; stroke: #333333\"/>\n",
              "     <use xlink:href=\"#m427dde5d37\" x=\"81.688257\" y=\"33.806091\" style=\"fill: #dd8452; stroke: #333333\"/>\n",
              "     <use xlink:href=\"#m427dde5d37\" x=\"253.29773\" y=\"209.262331\" style=\"fill: #dd8452; stroke: #333333\"/>\n",
              "     <use xlink:href=\"#m427dde5d37\" x=\"88.146331\" y=\"65.277265\" style=\"fill: #dd8452; stroke: #333333\"/>\n",
              "     <use xlink:href=\"#m427dde5d37\" x=\"228.618362\" y=\"184.446212\" style=\"fill: #dd8452; stroke: #333333\"/>\n",
              "     <use xlink:href=\"#m427dde5d37\" x=\"214.59069\" y=\"175.262981\" style=\"fill: #dd8452; stroke: #333333\"/>\n",
              "     <use xlink:href=\"#m427dde5d37\" x=\"93.035988\" y=\"57.150838\" style=\"fill: #dd8452; stroke: #333333\"/>\n",
              "     <use xlink:href=\"#m427dde5d37\" x=\"230.126292\" y=\"170.859046\" style=\"fill: #dd8452; stroke: #333333\"/>\n",
              "     <use xlink:href=\"#m427dde5d37\" x=\"105.590299\" y=\"68.334974\" style=\"fill: #dd8452; stroke: #333333\"/>\n",
              "     <use xlink:href=\"#m427dde5d37\" x=\"220.342867\" y=\"214.899738\" style=\"fill: #dd8452; stroke: #333333\"/>\n",
              "     <use xlink:href=\"#m427dde5d37\" x=\"219.389369\" y=\"196.787044\" style=\"fill: #dd8452; stroke: #333333\"/>\n",
              "     <use xlink:href=\"#m427dde5d37\" x=\"112.296002\" y=\"56.523167\" style=\"fill: #dd8452; stroke: #333333\"/>\n",
              "     <use xlink:href=\"#m427dde5d37\" x=\"250.149471\" y=\"229.220144\" style=\"fill: #dd8452; stroke: #333333\"/>\n",
              "     <use xlink:href=\"#m427dde5d37\" x=\"103.698997\" y=\"64.186521\" style=\"fill: #dd8452; stroke: #333333\"/>\n",
              "     <use xlink:href=\"#m427dde5d37\" x=\"98.858723\" y=\"40.48415\" style=\"fill: #dd8452; stroke: #333333\"/>\n",
              "     <use xlink:href=\"#m427dde5d37\" x=\"250.394391\" y=\"196.42644\" style=\"fill: #dd8452; stroke: #333333\"/>\n",
              "     <use xlink:href=\"#m427dde5d37\" x=\"231.554877\" y=\"200.639067\" style=\"fill: #dd8452; stroke: #333333\"/>\n",
              "     <use xlink:href=\"#m427dde5d37\" x=\"99.094197\" y=\"86.045977\" style=\"fill: #dd8452; stroke: #333333\"/>\n",
              "     <use xlink:href=\"#m427dde5d37\" x=\"248.448783\" y=\"208.565048\" style=\"fill: #dd8452; stroke: #333333\"/>\n",
              "     <use xlink:href=\"#m427dde5d37\" x=\"227.540595\" y=\"207.810891\" style=\"fill: #dd8452; stroke: #333333\"/>\n",
              "     <use xlink:href=\"#m427dde5d37\" x=\"219.429193\" y=\"204.960536\" style=\"fill: #dd8452; stroke: #333333\"/>\n",
              "     <use xlink:href=\"#m427dde5d37\" x=\"245.362465\" y=\"212.233741\" style=\"fill: #dd8452; stroke: #333333\"/>\n",
              "     <use xlink:href=\"#m427dde5d37\" x=\"234.055531\" y=\"202.246231\" style=\"fill: #dd8452; stroke: #333333\"/>\n",
              "     <use xlink:href=\"#m427dde5d37\" x=\"223.223727\" y=\"189.040715\" style=\"fill: #dd8452; stroke: #333333\"/>\n",
              "     <use xlink:href=\"#m427dde5d37\" x=\"257.911738\" y=\"223.566997\" style=\"fill: #dd8452; stroke: #333333\"/>\n",
              "     <use xlink:href=\"#m427dde5d37\" x=\"109.108013\" y=\"63.096846\" style=\"fill: #dd8452; stroke: #333333\"/>\n",
              "     <use xlink:href=\"#m427dde5d37\" x=\"103.438805\" y=\"64.535893\" style=\"fill: #dd8452; stroke: #333333\"/>\n",
              "     <use xlink:href=\"#m427dde5d37\" x=\"122.871841\" y=\"81.87489\" style=\"fill: #dd8452; stroke: #333333\"/>\n",
              "     <use xlink:href=\"#m427dde5d37\" x=\"82.534938\" y=\"56.795361\" style=\"fill: #dd8452; stroke: #333333\"/>\n",
              "     <use xlink:href=\"#m427dde5d37\" x=\"206.957632\" y=\"180.543759\" style=\"fill: #dd8452; stroke: #333333\"/>\n",
              "     <use xlink:href=\"#m427dde5d37\" x=\"101.352408\" y=\"83.4572\" style=\"fill: #dd8452; stroke: #333333\"/>\n",
              "     <use xlink:href=\"#m427dde5d37\" x=\"115.614886\" y=\"88.745875\" style=\"fill: #dd8452; stroke: #333333\"/>\n",
              "     <use xlink:href=\"#m427dde5d37\" x=\"250.472911\" y=\"190.88177\" style=\"fill: #dd8452; stroke: #333333\"/>\n",
              "     <use xlink:href=\"#m427dde5d37\" x=\"110.158644\" y=\"63.049686\" style=\"fill: #dd8452; stroke: #333333\"/>\n",
              "     <use xlink:href=\"#m427dde5d37\" x=\"208.499629\" y=\"207.616124\" style=\"fill: #dd8452; stroke: #333333\"/>\n",
              "     <use xlink:href=\"#m427dde5d37\" x=\"246.095238\" y=\"195.342995\" style=\"fill: #dd8452; stroke: #333333\"/>\n",
              "     <use xlink:href=\"#m427dde5d37\" x=\"235.683649\" y=\"190.329895\" style=\"fill: #dd8452; stroke: #333333\"/>\n",
              "     <use xlink:href=\"#m427dde5d37\" x=\"232.371263\" y=\"192.246721\" style=\"fill: #dd8452; stroke: #333333\"/>\n",
              "     <use xlink:href=\"#m427dde5d37\" x=\"107.543582\" y=\"65.39083\" style=\"fill: #dd8452; stroke: #333333\"/>\n",
              "     <use xlink:href=\"#m427dde5d37\" x=\"93.34145\" y=\"54.98115\" style=\"fill: #dd8452; stroke: #333333\"/>\n",
              "     <use xlink:href=\"#m427dde5d37\" x=\"126.876605\" y=\"70.779386\" style=\"fill: #dd8452; stroke: #333333\"/>\n",
              "     <use xlink:href=\"#m427dde5d37\" x=\"70.819613\" y=\"69.114744\" style=\"fill: #dd8452; stroke: #333333\"/>\n",
              "     <use xlink:href=\"#m427dde5d37\" x=\"81.177456\" y=\"63.509203\" style=\"fill: #dd8452; stroke: #333333\"/>\n",
              "     <use xlink:href=\"#m427dde5d37\" x=\"264.329496\" y=\"177.664851\" style=\"fill: #dd8452; stroke: #333333\"/>\n",
              "     <use xlink:href=\"#m427dde5d37\" x=\"95.837227\" y=\"54.255662\" style=\"fill: #dd8452; stroke: #333333\"/>\n",
              "     <use xlink:href=\"#m427dde5d37\" x=\"249.577744\" y=\"195.776238\" style=\"fill: #dd8452; stroke: #333333\"/>\n",
              "     <use xlink:href=\"#m427dde5d37\" x=\"238.012854\" y=\"191.416145\" style=\"fill: #dd8452; stroke: #333333\"/>\n",
              "     <use xlink:href=\"#m427dde5d37\" x=\"103.077501\" y=\"74.684408\" style=\"fill: #dd8452; stroke: #333333\"/>\n",
              "     <use xlink:href=\"#m427dde5d37\" x=\"81.340383\" y=\"94.024523\" style=\"fill: #dd8452; stroke: #333333\"/>\n",
              "     <use xlink:href=\"#m427dde5d37\" x=\"252.955673\" y=\"188.319505\" style=\"fill: #dd8452; stroke: #333333\"/>\n",
              "     <use xlink:href=\"#m427dde5d37\" x=\"213.586545\" y=\"188.602051\" style=\"fill: #dd8452; stroke: #333333\"/>\n",
              "     <use xlink:href=\"#m427dde5d37\" x=\"235.469548\" y=\"182.659843\" style=\"fill: #dd8452; stroke: #333333\"/>\n",
              "     <use xlink:href=\"#m427dde5d37\" x=\"248.942477\" y=\"214.376035\" style=\"fill: #dd8452; stroke: #333333\"/>\n",
              "     <use xlink:href=\"#m427dde5d37\" x=\"84.050337\" y=\"70.150323\" style=\"fill: #dd8452; stroke: #333333\"/>\n",
              "     <use xlink:href=\"#m427dde5d37\" x=\"205.889888\" y=\"210.080104\" style=\"fill: #dd8452; stroke: #333333\"/>\n",
              "     <use xlink:href=\"#m427dde5d37\" x=\"98.89725\" y=\"87.153199\" style=\"fill: #dd8452; stroke: #333333\"/>\n",
              "     <use xlink:href=\"#m427dde5d37\" x=\"85.698983\" y=\"84.84918\" style=\"fill: #dd8452; stroke: #333333\"/>\n",
              "     <use xlink:href=\"#m427dde5d37\" x=\"256.252995\" y=\"220.711228\" style=\"fill: #dd8452; stroke: #333333\"/>\n",
              "     <use xlink:href=\"#m427dde5d37\" x=\"85.762763\" y=\"99.343863\" style=\"fill: #dd8452; stroke: #333333\"/>\n",
              "     <use xlink:href=\"#m427dde5d37\" x=\"216.364857\" y=\"201.337155\" style=\"fill: #dd8452; stroke: #333333\"/>\n",
              "     <use xlink:href=\"#m427dde5d37\" x=\"257.835187\" y=\"202.893657\" style=\"fill: #dd8452; stroke: #333333\"/>\n",
              "     <use xlink:href=\"#m427dde5d37\" x=\"98.03139\" y=\"82.114637\" style=\"fill: #dd8452; stroke: #333333\"/>\n",
              "     <use xlink:href=\"#m427dde5d37\" x=\"241.587371\" y=\"206.45038\" style=\"fill: #dd8452; stroke: #333333\"/>\n",
              "     <use xlink:href=\"#m427dde5d37\" x=\"111.137558\" y=\"50.728113\" style=\"fill: #dd8452; stroke: #333333\"/>\n",
              "     <use xlink:href=\"#m427dde5d37\" x=\"95.8461\" y=\"78.666338\" style=\"fill: #dd8452; stroke: #333333\"/>\n",
              "     <use xlink:href=\"#m427dde5d37\" x=\"83.932424\" y=\"44.897572\" style=\"fill: #dd8452; stroke: #333333\"/>\n",
              "     <use xlink:href=\"#m427dde5d37\" x=\"237.317809\" y=\"186.403579\" style=\"fill: #dd8452; stroke: #333333\"/>\n",
              "    </g>\n",
              "   </g>\n",
              "   <g id=\"patch_3\">\n",
              "    <path d=\"M 53.389062 243.549375 \n",
              "L 53.389062 21.789375 \n",
              "\" style=\"fill: none; stroke: #ffffff; stroke-width: 1.25; stroke-linejoin: miter; stroke-linecap: square\"/>\n",
              "   </g>\n",
              "   <g id=\"patch_4\">\n",
              "    <path d=\"M 276.589063 243.549375 \n",
              "L 276.589063 21.789375 \n",
              "\" style=\"fill: none; stroke: #ffffff; stroke-width: 1.25; stroke-linejoin: miter; stroke-linecap: square\"/>\n",
              "   </g>\n",
              "   <g id=\"patch_5\">\n",
              "    <path d=\"M 53.389063 243.549375 \n",
              "L 276.589063 243.549375 \n",
              "\" style=\"fill: none; stroke: #ffffff; stroke-width: 1.25; stroke-linejoin: miter; stroke-linecap: square\"/>\n",
              "   </g>\n",
              "   <g id=\"patch_6\">\n",
              "    <path d=\"M 53.389063 21.789375 \n",
              "L 276.589063 21.789375 \n",
              "\" style=\"fill: none; stroke: #ffffff; stroke-width: 1.25; stroke-linejoin: miter; stroke-linecap: square\"/>\n",
              "   </g>\n",
              "   <g id=\"text_14\">\n",
              "    <!-- Dataset samples -->\n",
              "    <g style=\"fill: #262626\" transform=\"translate(120.305 15.789375)scale(0.12 -0.12)\">\n",
              "     <defs>\n",
              "      <path id=\"ArialMT-44\" d=\"M 494 0 \n",
              "L 494 4581 \n",
              "L 2072 4581 \n",
              "Q 2606 4581 2888 4516 \n",
              "Q 3281 4425 3559 4188 \n",
              "Q 3922 3881 4101 3404 \n",
              "Q 4281 2928 4281 2316 \n",
              "Q 4281 1794 4159 1391 \n",
              "Q 4038 988 3847 723 \n",
              "Q 3656 459 3429 307 \n",
              "Q 3203 156 2883 78 \n",
              "Q 2563 0 2147 0 \n",
              "L 494 0 \n",
              "z\n",
              "M 1100 541 \n",
              "L 2078 541 \n",
              "Q 2531 541 2789 625 \n",
              "Q 3047 709 3200 863 \n",
              "Q 3416 1078 3536 1442 \n",
              "Q 3656 1806 3656 2325 \n",
              "Q 3656 3044 3420 3430 \n",
              "Q 3184 3816 2847 3947 \n",
              "Q 2603 4041 2063 4041 \n",
              "L 1100 4041 \n",
              "L 1100 541 \n",
              "z\n",
              "\" transform=\"scale(0.015625)\"/>\n",
              "      <path id=\"ArialMT-61\" d=\"M 2588 409 \n",
              "Q 2275 144 1986 34 \n",
              "Q 1697 -75 1366 -75 \n",
              "Q 819 -75 525 192 \n",
              "Q 231 459 231 875 \n",
              "Q 231 1119 342 1320 \n",
              "Q 453 1522 633 1644 \n",
              "Q 813 1766 1038 1828 \n",
              "Q 1203 1872 1538 1913 \n",
              "Q 2219 1994 2541 2106 \n",
              "Q 2544 2222 2544 2253 \n",
              "Q 2544 2597 2384 2738 \n",
              "Q 2169 2928 1744 2928 \n",
              "Q 1347 2928 1158 2789 \n",
              "Q 969 2650 878 2297 \n",
              "L 328 2372 \n",
              "Q 403 2725 575 2942 \n",
              "Q 747 3159 1072 3276 \n",
              "Q 1397 3394 1825 3394 \n",
              "Q 2250 3394 2515 3294 \n",
              "Q 2781 3194 2906 3042 \n",
              "Q 3031 2891 3081 2659 \n",
              "Q 3109 2516 3109 2141 \n",
              "L 3109 1391 \n",
              "Q 3109 606 3145 398 \n",
              "Q 3181 191 3288 0 \n",
              "L 2700 0 \n",
              "Q 2613 175 2588 409 \n",
              "z\n",
              "M 2541 1666 \n",
              "Q 2234 1541 1622 1453 \n",
              "Q 1275 1403 1131 1340 \n",
              "Q 988 1278 909 1158 \n",
              "Q 831 1038 831 891 \n",
              "Q 831 666 1001 516 \n",
              "Q 1172 366 1500 366 \n",
              "Q 1825 366 2078 508 \n",
              "Q 2331 650 2450 897 \n",
              "Q 2541 1088 2541 1459 \n",
              "L 2541 1666 \n",
              "z\n",
              "\" transform=\"scale(0.015625)\"/>\n",
              "      <path id=\"ArialMT-74\" d=\"M 1650 503 \n",
              "L 1731 6 \n",
              "Q 1494 -44 1306 -44 \n",
              "Q 1000 -44 831 53 \n",
              "Q 663 150 594 308 \n",
              "Q 525 466 525 972 \n",
              "L 525 2881 \n",
              "L 113 2881 \n",
              "L 113 3319 \n",
              "L 525 3319 \n",
              "L 525 4141 \n",
              "L 1084 4478 \n",
              "L 1084 3319 \n",
              "L 1650 3319 \n",
              "L 1650 2881 \n",
              "L 1084 2881 \n",
              "L 1084 941 \n",
              "Q 1084 700 1114 631 \n",
              "Q 1144 563 1211 522 \n",
              "Q 1278 481 1403 481 \n",
              "Q 1497 481 1650 503 \n",
              "z\n",
              "\" transform=\"scale(0.015625)\"/>\n",
              "      <path id=\"ArialMT-73\" d=\"M 197 991 \n",
              "L 753 1078 \n",
              "Q 800 744 1014 566 \n",
              "Q 1228 388 1613 388 \n",
              "Q 2000 388 2187 545 \n",
              "Q 2375 703 2375 916 \n",
              "Q 2375 1106 2209 1216 \n",
              "Q 2094 1291 1634 1406 \n",
              "Q 1016 1563 777 1677 \n",
              "Q 538 1791 414 1992 \n",
              "Q 291 2194 291 2438 \n",
              "Q 291 2659 392 2848 \n",
              "Q 494 3038 669 3163 \n",
              "Q 800 3259 1026 3326 \n",
              "Q 1253 3394 1513 3394 \n",
              "Q 1903 3394 2198 3281 \n",
              "Q 2494 3169 2634 2976 \n",
              "Q 2775 2784 2828 2463 \n",
              "L 2278 2388 \n",
              "Q 2241 2644 2061 2787 \n",
              "Q 1881 2931 1553 2931 \n",
              "Q 1166 2931 1000 2803 \n",
              "Q 834 2675 834 2503 \n",
              "Q 834 2394 903 2306 \n",
              "Q 972 2216 1119 2156 \n",
              "Q 1203 2125 1616 2013 \n",
              "Q 2213 1853 2448 1751 \n",
              "Q 2684 1650 2818 1456 \n",
              "Q 2953 1263 2953 975 \n",
              "Q 2953 694 2789 445 \n",
              "Q 2625 197 2315 61 \n",
              "Q 2006 -75 1616 -75 \n",
              "Q 969 -75 630 194 \n",
              "Q 291 463 197 991 \n",
              "z\n",
              "\" transform=\"scale(0.015625)\"/>\n",
              "      <path id=\"ArialMT-65\" d=\"M 2694 1069 \n",
              "L 3275 997 \n",
              "Q 3138 488 2766 206 \n",
              "Q 2394 -75 1816 -75 \n",
              "Q 1088 -75 661 373 \n",
              "Q 234 822 234 1631 \n",
              "Q 234 2469 665 2931 \n",
              "Q 1097 3394 1784 3394 \n",
              "Q 2450 3394 2872 2941 \n",
              "Q 3294 2488 3294 1666 \n",
              "Q 3294 1616 3291 1516 \n",
              "L 816 1516 \n",
              "Q 847 969 1125 678 \n",
              "Q 1403 388 1819 388 \n",
              "Q 2128 388 2347 550 \n",
              "Q 2566 713 2694 1069 \n",
              "z\n",
              "M 847 1978 \n",
              "L 2700 1978 \n",
              "Q 2663 2397 2488 2606 \n",
              "Q 2219 2931 1791 2931 \n",
              "Q 1403 2931 1139 2672 \n",
              "Q 875 2413 847 1978 \n",
              "z\n",
              "\" transform=\"scale(0.015625)\"/>\n",
              "      <path id=\"ArialMT-20\" transform=\"scale(0.015625)\"/>\n",
              "      <path id=\"ArialMT-6d\" d=\"M 422 0 \n",
              "L 422 3319 \n",
              "L 925 3319 \n",
              "L 925 2853 \n",
              "Q 1081 3097 1340 3245 \n",
              "Q 1600 3394 1931 3394 \n",
              "Q 2300 3394 2536 3241 \n",
              "Q 2772 3088 2869 2813 \n",
              "Q 3263 3394 3894 3394 \n",
              "Q 4388 3394 4653 3120 \n",
              "Q 4919 2847 4919 2278 \n",
              "L 4919 0 \n",
              "L 4359 0 \n",
              "L 4359 2091 \n",
              "Q 4359 2428 4304 2576 \n",
              "Q 4250 2725 4106 2815 \n",
              "Q 3963 2906 3769 2906 \n",
              "Q 3419 2906 3187 2673 \n",
              "Q 2956 2441 2956 1928 \n",
              "L 2956 0 \n",
              "L 2394 0 \n",
              "L 2394 2156 \n",
              "Q 2394 2531 2256 2718 \n",
              "Q 2119 2906 1806 2906 \n",
              "Q 1569 2906 1367 2781 \n",
              "Q 1166 2656 1075 2415 \n",
              "Q 984 2175 984 1722 \n",
              "L 984 0 \n",
              "L 422 0 \n",
              "z\n",
              "\" transform=\"scale(0.015625)\"/>\n",
              "      <path id=\"ArialMT-70\" d=\"M 422 -1272 \n",
              "L 422 3319 \n",
              "L 934 3319 \n",
              "L 934 2888 \n",
              "Q 1116 3141 1344 3267 \n",
              "Q 1572 3394 1897 3394 \n",
              "Q 2322 3394 2647 3175 \n",
              "Q 2972 2956 3137 2557 \n",
              "Q 3303 2159 3303 1684 \n",
              "Q 3303 1175 3120 767 \n",
              "Q 2938 359 2589 142 \n",
              "Q 2241 -75 1856 -75 \n",
              "Q 1575 -75 1351 44 \n",
              "Q 1128 163 984 344 \n",
              "L 984 -1272 \n",
              "L 422 -1272 \n",
              "z\n",
              "M 931 1641 \n",
              "Q 931 1000 1190 694 \n",
              "Q 1450 388 1819 388 \n",
              "Q 2194 388 2461 705 \n",
              "Q 2728 1022 2728 1688 \n",
              "Q 2728 2322 2467 2637 \n",
              "Q 2206 2953 1844 2953 \n",
              "Q 1484 2953 1207 2617 \n",
              "Q 931 2281 931 1641 \n",
              "z\n",
              "\" transform=\"scale(0.015625)\"/>\n",
              "      <path id=\"ArialMT-6c\" d=\"M 409 0 \n",
              "L 409 4581 \n",
              "L 972 4581 \n",
              "L 972 0 \n",
              "L 409 0 \n",
              "z\n",
              "\" transform=\"scale(0.015625)\"/>\n",
              "     </defs>\n",
              "     <use xlink:href=\"#ArialMT-44\"/>\n",
              "     <use xlink:href=\"#ArialMT-61\" x=\"72.216797\"/>\n",
              "     <use xlink:href=\"#ArialMT-74\" x=\"127.832031\"/>\n",
              "     <use xlink:href=\"#ArialMT-61\" x=\"155.615234\"/>\n",
              "     <use xlink:href=\"#ArialMT-73\" x=\"211.230469\"/>\n",
              "     <use xlink:href=\"#ArialMT-65\" x=\"261.230469\"/>\n",
              "     <use xlink:href=\"#ArialMT-74\" x=\"316.845703\"/>\n",
              "     <use xlink:href=\"#ArialMT-20\" x=\"344.628906\"/>\n",
              "     <use xlink:href=\"#ArialMT-73\" x=\"372.412109\"/>\n",
              "     <use xlink:href=\"#ArialMT-61\" x=\"422.412109\"/>\n",
              "     <use xlink:href=\"#ArialMT-6d\" x=\"478.027344\"/>\n",
              "     <use xlink:href=\"#ArialMT-70\" x=\"561.328125\"/>\n",
              "     <use xlink:href=\"#ArialMT-6c\" x=\"616.943359\"/>\n",
              "     <use xlink:href=\"#ArialMT-65\" x=\"639.160156\"/>\n",
              "     <use xlink:href=\"#ArialMT-73\" x=\"694.775391\"/>\n",
              "    </g>\n",
              "   </g>\n",
              "   <g id=\"legend_1\">\n",
              "    <g id=\"patch_7\">\n",
              "     <path d=\"M 197.010937 149.879219 \n",
              "L 268.889063 149.879219 \n",
              "Q 271.089063 149.879219 271.089063 147.679219 \n",
              "L 271.089063 117.659531 \n",
              "Q 271.089063 115.459531 268.889063 115.459531 \n",
              "L 197.010937 115.459531 \n",
              "Q 194.810937 115.459531 194.810937 117.659531 \n",
              "L 194.810937 147.679219 \n",
              "Q 194.810937 149.879219 197.010937 149.879219 \n",
              "z\n",
              "\" style=\"fill: #eaeaf2; opacity: 0.8; stroke: #cccccc; stroke-linejoin: miter\"/>\n",
              "    </g>\n",
              "    <g id=\"PathCollection_3\">\n",
              "     <g>\n",
              "      <use xlink:href=\"#mebb5179d0a\" x=\"210.210938\" y=\"124.845625\" style=\"fill: #4c72b0; stroke: #333333\"/>\n",
              "     </g>\n",
              "    </g>\n",
              "    <g id=\"text_15\">\n",
              "     <!-- Class 0 -->\n",
              "     <g style=\"fill: #262626\" transform=\"translate(230.010938 127.733125)scale(0.11 -0.11)\">\n",
              "      <defs>\n",
              "       <path id=\"ArialMT-43\" d=\"M 3763 1606 \n",
              "L 4369 1453 \n",
              "Q 4178 706 3683 314 \n",
              "Q 3188 -78 2472 -78 \n",
              "Q 1731 -78 1267 223 \n",
              "Q 803 525 561 1097 \n",
              "Q 319 1669 319 2325 \n",
              "Q 319 3041 592 3573 \n",
              "Q 866 4106 1370 4382 \n",
              "Q 1875 4659 2481 4659 \n",
              "Q 3169 4659 3637 4309 \n",
              "Q 4106 3959 4291 3325 \n",
              "L 3694 3184 \n",
              "Q 3534 3684 3231 3912 \n",
              "Q 2928 4141 2469 4141 \n",
              "Q 1941 4141 1586 3887 \n",
              "Q 1231 3634 1087 3207 \n",
              "Q 944 2781 944 2328 \n",
              "Q 944 1744 1114 1308 \n",
              "Q 1284 872 1643 656 \n",
              "Q 2003 441 2422 441 \n",
              "Q 2931 441 3284 734 \n",
              "Q 3638 1028 3763 1606 \n",
              "z\n",
              "\" transform=\"scale(0.015625)\"/>\n",
              "      </defs>\n",
              "      <use xlink:href=\"#ArialMT-43\"/>\n",
              "      <use xlink:href=\"#ArialMT-6c\" x=\"72.216797\"/>\n",
              "      <use xlink:href=\"#ArialMT-61\" x=\"94.433594\"/>\n",
              "      <use xlink:href=\"#ArialMT-73\" x=\"150.048828\"/>\n",
              "      <use xlink:href=\"#ArialMT-73\" x=\"200.048828\"/>\n",
              "      <use xlink:href=\"#ArialMT-20\" x=\"250.048828\"/>\n",
              "      <use xlink:href=\"#ArialMT-30\" x=\"277.832031\"/>\n",
              "     </g>\n",
              "    </g>\n",
              "    <g id=\"PathCollection_4\">\n",
              "     <g>\n",
              "      <use xlink:href=\"#m427dde5d37\" x=\"210.210938\" y=\"140.405469\" style=\"fill: #dd8452; stroke: #333333\"/>\n",
              "     </g>\n",
              "    </g>\n",
              "    <g id=\"text_16\">\n",
              "     <!-- Class 1 -->\n",
              "     <g style=\"fill: #262626\" transform=\"translate(230.010938 143.292969)scale(0.11 -0.11)\">\n",
              "      <use xlink:href=\"#ArialMT-43\"/>\n",
              "      <use xlink:href=\"#ArialMT-6c\" x=\"72.216797\"/>\n",
              "      <use xlink:href=\"#ArialMT-61\" x=\"94.433594\"/>\n",
              "      <use xlink:href=\"#ArialMT-73\" x=\"150.048828\"/>\n",
              "      <use xlink:href=\"#ArialMT-73\" x=\"200.048828\"/>\n",
              "      <use xlink:href=\"#ArialMT-20\" x=\"250.048828\"/>\n",
              "      <use xlink:href=\"#ArialMT-31\" x=\"277.832031\"/>\n",
              "     </g>\n",
              "    </g>\n",
              "   </g>\n",
              "  </g>\n",
              " </g>\n",
              " <defs>\n",
              "  <clipPath id=\"p00453ad7ee\">\n",
              "   <rect x=\"53.389062\" y=\"21.789375\" width=\"223.2\" height=\"221.76\"/>\n",
              "  </clipPath>\n",
              " </defs>\n",
              "</svg>\n"
            ],
            "text/plain": [
              "<Figure size 400x400 with 1 Axes>"
            ]
          },
          "metadata": {},
          "output_type": "display_data"
        }
      ],
      "source": [
        "visualize_samples(dataset.data, dataset.label)\n",
        "plt.show()"
      ]
    },
    {
      "cell_type": "markdown",
      "metadata": {},
      "source": [
        "#### The data loader class\n",
        "\n",
        "The class `torch.utils.data.DataLoader` represents a Python iterable over a dataset with support for automatic batching, multi-process data loading and many more features. The data loader communicates with the dataset using the function `__getitem__`, and stacks its outputs as tensors over the first dimension to form a batch.\n",
        "In contrast to the dataset class, we usually don't have to define our own data loader class, but can just create an object of it with the dataset as input. Additionally, we can configure our data loader with the following input arguments (only a selection, see full list [here](https://pytorch.org/docs/stable/data.html#torch.utils.data.DataLoader)):\n",
        "\n",
        "* `batch_size`: Number of samples to stack per batch\n",
        "* `shuffle`: If True, the data is returned in a random order. This is important during training for introducing stochasticity.\n",
        "* `num_workers`: Number of subprocesses to use for data loading. The default, 0, means that the data will be loaded in the main process which can slow down training for datasets where loading a data point takes a considerable amount of time (e.g. large images). More workers are recommended for those, but can cause issues on Windows computers. For tiny datasets as ours, 0 workers are usually faster.\n",
        "* `pin_memory`: If True, the data loader will copy Tensors into CUDA pinned memory before returning them. This can save some time for large data points on GPUs. Usually a good practice to use for a training set, but not necessarily for validation and test to save memory on the GPU.\n",
        "* `drop_last`: If True, the last batch is dropped in case it is smaller than the specified batch size. This occurs when the dataset size is not a multiple of the batch size. Only potentially helpful during training to keep a consistent batch size.\n",
        "\n",
        "Let's create a simple data loader below:"
      ]
    },
    {
      "cell_type": "code",
      "execution_count": 47,
      "metadata": {},
      "outputs": [],
      "source": [
        "data_loader = data.DataLoader(dataset, batch_size=8, shuffle=True)"
      ]
    },
    {
      "cell_type": "code",
      "execution_count": 48,
      "metadata": {},
      "outputs": [
        {
          "name": "stdout",
          "output_type": "stream",
          "text": [
            "Data inputs torch.Size([8, 2]) \n",
            " tensor([[-0.1169,  0.7597],\n",
            "        [-0.0514,  0.1013],\n",
            "        [ 0.9186, -0.0392],\n",
            "        [-0.0724, -0.0889],\n",
            "        [ 0.1259,  0.7967],\n",
            "        [ 1.0995,  1.1344],\n",
            "        [-0.1386, -0.0623],\n",
            "        [ 0.9878,  0.1111]])\n",
            "Data labels torch.Size([8]) \n",
            " tensor([1, 0, 1, 0, 1, 0, 0, 1])\n"
          ]
        }
      ],
      "source": [
        "# next(iter(...)) catches the first batch of the data loader\n",
        "# If shuffle is True, this will return a different batch every time we run this cell\n",
        "# For iterating over the whole dataset, we can simple use \"for batch in data_loader: ...\"\n",
        "data_inputs, data_labels = next(iter(data_loader)) # The DataLoader generated batches of indices and call the __get_item__ of Dataset to retrieve the samples \n",
        "\n",
        "# The shape of the outputs are [batch_size, d_1,...,d_N] where d_1,...,d_N are the\n",
        "# dimensions of the data point returned from the dataset class\n",
        "print(\"Data inputs\", data_inputs.shape, \"\\n\", data_inputs)\n",
        "print(\"Data labels\", data_labels.shape, \"\\n\", data_labels)"
      ]
    },
    {
      "cell_type": "markdown",
      "metadata": {},
      "source": [
        "## Model without torch.nn"
      ]
    },
    {
      "cell_type": "markdown",
      "metadata": {},
      "source": [
        "We create a single hidden layer of 4 neurons. Finally, the last output layer will simply be one neuron to classify the point."
      ]
    },
    {
      "cell_type": "markdown",
      "metadata": {},
      "source": [
        "<center width=\"100%\"><img src=\"https://github.com/phlippe/uvadlc_notebooks/blob/master/docs/tutorial_notebooks/tutorial2/small_neural_network.svg?raw=1\" width=\"300px\"></center>\n"
      ]
    },
    {
      "cell_type": "code",
      "execution_count": 146,
      "metadata": {},
      "outputs": [
        {
          "name": "stdout",
          "output_type": "stream",
          "text": [
            "W1: tensor([[-0.1115,  0.1204],\n",
            "        [-0.3696, -0.2404],\n",
            "        [-1.1969,  0.2093],\n",
            "        [-0.9724, -0.7550]], requires_grad=True)\n",
            "W2: tensor([[ 0.3239, -0.1085,  0.2103, -0.3908]], requires_grad=True)\n",
            "x: tensor([-0.1088,  0.2403]) with label y: 0\n"
          ]
        }
      ],
      "source": [
        "torch.manual_seed(123)\n",
        "W1 = torch.randn(4,2, requires_grad=True)\n",
        "W2 = torch.randn(1, 4, requires_grad = True)\n",
        "print(f\"W1: {W1}\\nW2: {W2}\")\n",
        "\n",
        "x = dataset.data[0, :] # first input\n",
        "y = dataset.label[0]\n",
        "print(f\"x: {x} with label y: {y}\")"
      ]
    },
    {
      "cell_type": "markdown",
      "metadata": {},
      "source": [
        "Here we just show for one point a forward pass and a backward pass."
      ]
    },
    {
      "cell_type": "code",
      "execution_count": 147,
      "metadata": {},
      "outputs": [
        {
          "data": {
            "text/plain": [
              "tensor([[0.5128]], grad_fn=<SigmoidBackward>)"
            ]
          },
          "execution_count": 147,
          "metadata": {},
          "output_type": "execute_result"
        }
      ],
      "source": [
        "x = x.unsqueeze(1)\n",
        "z1 = torch.mm(W1,x)\n",
        "a1 = torch.nn.functional.relu(z1)\n",
        "z2 = torch.mm(W2, a1)\n",
        "output = torch.sigmoid(z2)\n",
        "output\n",
        "\n"
      ]
    },
    {
      "cell_type": "code",
      "execution_count": 148,
      "metadata": {},
      "outputs": [
        {
          "data": {
            "text/plain": [
              "tensor([[0.]])"
            ]
          },
          "execution_count": 148,
          "metadata": {},
          "output_type": "execute_result"
        }
      ],
      "source": [
        "target = torch.tensor([y]).float().unsqueeze(1)\n",
        "target"
      ]
    },
    {
      "cell_type": "code",
      "execution_count": 149,
      "metadata": {},
      "outputs": [
        {
          "data": {
            "text/plain": [
              "tensor(0.7191, grad_fn=<BinaryCrossEntropyBackward>)"
            ]
          },
          "execution_count": 149,
          "metadata": {},
          "output_type": "execute_result"
        }
      ],
      "source": [
        "criterion= torch.nn.BCELoss()\n",
        "loss =  criterion(output, target )\n",
        "loss\n"
      ]
    },
    {
      "cell_type": "markdown",
      "metadata": {},
      "source": [
        "We can now check the gradients of the loss w.r.t the parameters and update them with gradient descent."
      ]
    },
    {
      "cell_type": "code",
      "execution_count": 150,
      "metadata": {},
      "outputs": [],
      "source": [
        "loss.backward()"
      ]
    },
    {
      "cell_type": "code",
      "execution_count": 151,
      "metadata": {},
      "outputs": [
        {
          "name": "stdout",
          "output_type": "stream",
          "text": [
            "tensor([[-0.0181,  0.0399],\n",
            "        [-0.0000,  0.0000],\n",
            "        [-0.0117,  0.0259],\n",
            "        [-0.0000,  0.0000]])\n",
            "tensor([[0.0210, 0.0000, 0.0925, 0.0000]])\n"
          ]
        }
      ],
      "source": [
        "print(W1.grad)\n",
        "print(W2.grad)"
      ]
    },
    {
      "cell_type": "code",
      "execution_count": 152,
      "metadata": {},
      "outputs": [],
      "source": [
        "learning_rate = 0.1\n",
        "W1 = W1 - learning_rate * W1.grad\n",
        "W2 = W2 - learning_rate * W2.grad\n"
      ]
    },
    {
      "cell_type": "code",
      "execution_count": 153,
      "metadata": {},
      "outputs": [
        {
          "data": {
            "text/plain": [
              "tensor(0.7179, grad_fn=<BinaryCrossEntropyBackward>)"
            ]
          },
          "execution_count": 153,
          "metadata": {},
          "output_type": "execute_result"
        }
      ],
      "source": [
        "# Evaluate the loss function for the new parameters\n",
        "z1 = torch.mm(W1,x)\n",
        "a1 = torch.nn.functional.relu(z1)\n",
        "z2 = torch.mm(W2, a1)\n",
        "output = torch.sigmoid(z2)\n",
        "loss =  criterion(output, target )\n",
        "loss\n"
      ]
    },
    {
      "cell_type": "markdown",
      "metadata": {
        "id": "h5GiCK0dUZRs"
      },
      "source": [
        "### The model\n",
        "\n",
        "The package `torch.nn` defines a series of useful classes like linear networks layers, activation functions, loss functions etc. A full list can be found [here](https://pytorch.org/docs/stable/nn.html). In case you need a certain network layer, check the documentation of the package first before writing the layer yourself as the package likely contains the code for it already. We import it below:"
      ]
    },
    {
      "cell_type": "code",
      "execution_count": 154,
      "metadata": {
        "id": "ui-CyyhhUZRs"
      },
      "outputs": [],
      "source": [
        "import torch.nn as nn"
      ]
    },
    {
      "cell_type": "markdown",
      "metadata": {
        "id": "lqWYm-ASUZRs"
      },
      "source": [
        "Additionally to `torch.nn`, there is also `torch.nn.functional`. It contains functions that are used in network layers. This is in contrast to `torch.nn` which defines them as `nn.Modules` (more on it below), and `torch.nn` actually uses a lot of functionalities from `torch.nn.functional`. Hence, the functional package is useful in many situations, and so we import it as well here."
      ]
    },
    {
      "cell_type": "code",
      "execution_count": 155,
      "metadata": {
        "id": "Nqs2rZMKUZRs"
      },
      "outputs": [],
      "source": [
        "import torch.nn.functional as F"
      ]
    },
    {
      "cell_type": "markdown",
      "metadata": {
        "id": "a-oBJnA5UZRt"
      },
      "source": [
        "#### nn.Module\n",
        "\n",
        "In PyTorch, a neural network is built up out of modules. Modules can contain other modules, and a neural network is considered to be a module itself as well. The basic template of a module is as follows:"
      ]
    },
    {
      "cell_type": "code",
      "execution_count": null,
      "metadata": {
        "id": "jE_Te_3QUZRt"
      },
      "outputs": [],
      "source": [
        "class MyModule(nn.Module):\n",
        "\n",
        "    def __init__(self):\n",
        "        super().__init__()\n",
        "        # Some init for my module\n",
        "\n",
        "    def forward(self, x):\n",
        "        # Function for performing the calculation of the module.\n",
        "        pass"
      ]
    },
    {
      "cell_type": "markdown",
      "metadata": {
        "id": "Gv9Xcbu3UZRt"
      },
      "source": [
        "The forward function is where the computation of the module is taken place, and is executed when you call the module (`nn = MyModule(); nn(x)`). In the init function, we usually create the parameters of the module, using `nn.Parameter`, or defining other modules that are used in the forward function. The backward calculation is done automatically, but could be overwritten as well if wanted.\n",
        "\n",
        "#### Simple classifier\n",
        "We can now make use of the pre-defined modules in the `torch.nn` package, and define our own small neural network. We will use a minimal network with a input layer, one hidden layer with tanh as activation function, and a output layer. In other words, our networks should look something like this:\n",
        "\n",
        "<center width=\"100%\"><img src=\"https://github.com/phlippe/uvadlc_notebooks/blob/master/docs/tutorial_notebooks/tutorial2/small_neural_network.svg?raw=1\" width=\"300px\"></center>\n",
        "\n",
        "The input neurons are shown in blue, which represent the coordinates $x_1$ and $x_2$ of a data point. The hidden neurons including a tanh activation are shown in white, and the output neuron in red.\n",
        "In PyTorch, we can define this as follows:"
      ]
    },
    {
      "cell_type": "code",
      "execution_count": 156,
      "metadata": {
        "id": "NUVfXtTHUZRt"
      },
      "outputs": [],
      "source": [
        "class SimpleClassifier(nn.Module):\n",
        "\n",
        "    def __init__(self, num_inputs, num_hidden, num_outputs):\n",
        "        super().__init__()\n",
        "        # Initialize the modules we need to build the network\n",
        "        self.linear1 = nn.Linear(num_inputs, num_hidden)\n",
        "        self.act_fn = nn.Tanh()\n",
        "        self.linear2 = nn.Linear(num_hidden, num_outputs)\n",
        "\n",
        "    def forward(self, x):\n",
        "        # Perform the calculation of the model to determine the prediction\n",
        "        x = self.linear1(x)\n",
        "        x = self.act_fn(x)\n",
        "        x = self.linear2(x)\n",
        "        return x"
      ]
    },
    {
      "cell_type": "markdown",
      "metadata": {
        "id": "162_MFtIUZRt"
      },
      "source": [
        "For the examples in this notebook, we will use a tiny neural network with two input neurons and four hidden neurons. As we perform binary classification, we will use a single output neuron. Note that we do not apply a sigmoid on the output yet. This is because other functions, especially the loss, are more efficient and precise to calculate on the original outputs instead of the sigmoid output. We will discuss the detailed reason later."
      ]
    },
    {
      "cell_type": "code",
      "execution_count": 157,
      "metadata": {
        "id": "rQf-BtIaUZRu",
        "outputId": "2aa8a563-c1df-4a6d-aa59-a901bdb2aa32"
      },
      "outputs": [
        {
          "name": "stdout",
          "output_type": "stream",
          "text": [
            "SimpleClassifier(\n",
            "  (linear1): Linear(in_features=2, out_features=4, bias=True)\n",
            "  (act_fn): Tanh()\n",
            "  (linear2): Linear(in_features=4, out_features=1, bias=True)\n",
            ")\n"
          ]
        }
      ],
      "source": [
        "model = SimpleClassifier(num_inputs=2, num_hidden=4, num_outputs=1)\n",
        "# Printing a module shows all its submodules\n",
        "print(model)"
      ]
    },
    {
      "cell_type": "markdown",
      "metadata": {
        "id": "B03oa0k2UZRu"
      },
      "source": [
        "Printing the model lists all submodules it contains. The parameters of a module can be obtained by using its `parameters()` functions, or `named_parameters()` to get a name to each parameter object. For our small neural network, we have the following parameters:"
      ]
    },
    {
      "cell_type": "code",
      "execution_count": 158,
      "metadata": {
        "id": "txF-Cz1LUZRu",
        "outputId": "079e9a0d-0fab-42c6-f1e5-491c92138e2c"
      },
      "outputs": [
        {
          "name": "stdout",
          "output_type": "stream",
          "text": [
            "Parameter linear1.weight, shape torch.Size([4, 2])\n",
            "Parameter linear1.bias, shape torch.Size([4])\n",
            "Parameter linear2.weight, shape torch.Size([1, 4])\n",
            "Parameter linear2.bias, shape torch.Size([1])\n"
          ]
        }
      ],
      "source": [
        "for name, param in model.named_parameters():\n",
        "    print(f\"Parameter {name}, shape {param.shape}\")"
      ]
    },
    {
      "cell_type": "markdown",
      "metadata": {
        "id": "SAa1h8d0UZRu"
      },
      "source": [
        "Each linear layer has a weight matrix of the shape `[output, input]`, and a bias of the shape `[output]`. The tanh activation function does not have any parameters. Note that parameters are only registered for `nn.Module` objects that are direct object attributes, i.e. `self.a = ...`. If you define a list of modules, the parameters of those are not registered for the outer module and can cause some issues when you try to optimize your module. There are alternatives, like `nn.ModuleList`, `nn.ModuleDict` and `nn.Sequential`, that allow you to have different data structures of modules. We will use them in a few later tutorials and explain them there."
      ]
    },
    {
      "cell_type": "markdown",
      "metadata": {
        "id": "grtxSnERUZRx"
      },
      "source": [
        "### Optimization\n",
        "\n",
        "After defining the model and the dataset, it is time to prepare the optimization of the model. During training, we will perform the following steps:\n",
        "\n",
        "1. Get a batch from the data loader\n",
        "2. Obtain the predictions from the model for the batch\n",
        "3. Calculate the loss based on the difference between predictions and labels\n",
        "4. Backpropagation: calculate the gradients for every parameter with respect to the loss\n",
        "5. Update the parameters of the model in the direction of the gradients\n",
        "\n",
        "We have seen how we can do step 1, 2 and 4 in PyTorch. Now, we will look at step 3 and 5."
      ]
    },
    {
      "cell_type": "markdown",
      "metadata": {
        "id": "Vk0qJKjkUZRx"
      },
      "source": [
        "#### Loss modules\n",
        "\n",
        "We can calculate the loss for a batch by simply performing a few tensor operations as those are automatically added to the computation graph. For instance, for binary classification, we can use Binary Cross Entropy (BCE) which is defined as follows:\n",
        "\n",
        "$$\\mathcal{L}_{BCE} = -\\sum_i \\left[ y_i \\log x_i + (1 - y_i) \\log (1 - x_i) \\right]$$\n",
        "\n",
        "where $y$ are our labels, and $x$ our predictions, both in the range of $[0,1]$. However, PyTorch already provides a list of predefined loss functions which we can use (see [here](https://pytorch.org/docs/stable/nn.html#loss-functions) for a full list). For instance, for BCE, PyTorch has two modules: `nn.BCELoss()`, `nn.BCEWithLogitsLoss()`. While `nn.BCELoss` expects the inputs $x$ to be in the range $[0,1]$, i.e. the output of a sigmoid, `nn.BCEWithLogitsLoss` combines a sigmoid layer and the BCE loss in a single class. This version is numerically more stable than using a plain Sigmoid followed by a BCE loss because of the logarithms applied in the loss function. Hence, it is adviced to use loss functions applied on \"logits\" where possible (remember to not apply a sigmoid on the output of the model in this case!). For our model defined above, we therefore use the module `nn.BCEWithLogitsLoss`."
      ]
    },
    {
      "cell_type": "code",
      "execution_count": 159,
      "metadata": {
        "id": "_Ce1ofwzUZRx"
      },
      "outputs": [],
      "source": [
        "loss_module = nn.BCEWithLogitsLoss()"
      ]
    },
    {
      "cell_type": "markdown",
      "metadata": {
        "id": "IKkF3t0oUZRx"
      },
      "source": [
        "#### Stochastic Gradient Descent\n",
        "\n",
        "For updating the parameters, PyTorch provides the package `torch.optim` that has most popular optimizers implemented. We will discuss the specific optimizers and their differences later in the course, but will for now use the simplest of them: `torch.optim.SGD`. Stochastic Gradient Descent updates parameters by multiplying the gradients with a small constant, called learning rate, and subtracting those from the parameters (hence minimizing the loss). Therefore, we slowly move towards the direction of minimizing the loss. A good default value of the learning rate for a small network as ours is 0.1."
      ]
    },
    {
      "cell_type": "code",
      "execution_count": 160,
      "metadata": {
        "id": "_THd_4k8UZRy"
      },
      "outputs": [],
      "source": [
        "# Input to the optimizer are the parameters of the model: model.parameters()\n",
        "optimizer = torch.optim.SGD(model.parameters(), lr=0.1)"
      ]
    },
    {
      "cell_type": "markdown",
      "metadata": {
        "id": "ACmjgRSDUZRy"
      },
      "source": [
        "The optimizer provides two useful functions: `optimizer.step()`, and `optimizer.zero_grad()`. The step function updates the parameters based on the gradients as explained above. The function `optimizer.zero_grad()` sets the gradients of all parameters to zero. While this function seems less relevant at first, it is a crucial pre-step before performing backpropagation. If we call the `backward` function on the loss while the parameter gradients are non-zero from the previous batch, the new gradients would actually be added to the previous ones instead of overwriting them. This is done because a parameter might occur multiple times in a computation graph, and we need to sum the gradients in this case instead of replacing them. Hence, remember to call `optimizer.zero_grad()` before calculating the gradients of a batch."
      ]
    },
    {
      "cell_type": "markdown",
      "metadata": {
        "id": "OozgMGRcUZRy"
      },
      "source": [
        "### Training\n",
        "\n",
        "Finally, we are ready to train our model. As a first step, we create a slightly larger dataset and specify a data loader with a larger batch size."
      ]
    },
    {
      "cell_type": "code",
      "execution_count": 161,
      "metadata": {
        "id": "r8ZxHE2HUZRy"
      },
      "outputs": [],
      "source": [
        "train_dataset = XORDataset(size=2500)\n",
        "train_data_loader = data.DataLoader(train_dataset, batch_size=128, shuffle=True)"
      ]
    },
    {
      "cell_type": "markdown",
      "metadata": {
        "id": "IBQhvSEuUZRy"
      },
      "source": [
        "Now, we can write a small training function. Remember our five steps: load a batch, obtain the predictions, calculate the loss, backpropagate, and update. Additionally, we have to push all data and model parameters to the device of our choice (GPU if available). For the tiny neural network we have, communicating the data to the GPU actually takes much more time than we could save from running the operation on CPU. For large networks, the communication time is significantly smaller than the actual runtime making a GPU crucial in these cases. Still, to practice, we will push the data to GPU here."
      ]
    },
    {
      "cell_type": "code",
      "execution_count": 162,
      "metadata": {
        "id": "xOTncJByUZRy",
        "outputId": "990bb76f-3616-4e6f-f0c9-d99d0efe8d56"
      },
      "outputs": [
        {
          "data": {
            "text/plain": [
              "SimpleClassifier(\n",
              "  (linear1): Linear(in_features=2, out_features=4, bias=True)\n",
              "  (act_fn): Tanh()\n",
              "  (linear2): Linear(in_features=4, out_features=1, bias=True)\n",
              ")"
            ]
          },
          "execution_count": 162,
          "metadata": {},
          "output_type": "execute_result"
        }
      ],
      "source": [
        "# Push model to device. Has to be only done once\n",
        "model.to(device)"
      ]
    },
    {
      "cell_type": "markdown",
      "metadata": {
        "id": "mdy32VKLUZRy"
      },
      "source": [
        "In addition, we set our model to training mode. This is done by calling `model.train()`. There exist certain modules that need to perform a different forward step during training than during testing (e.g. BatchNorm and Dropout), and we can switch between them using `model.train()` and `model.eval()`."
      ]
    },
    {
      "cell_type": "code",
      "execution_count": 163,
      "metadata": {
        "id": "zT5p6cZRUZRy"
      },
      "outputs": [],
      "source": [
        "def train_model(model, optimizer, data_loader, loss_module, num_epochs=100):\n",
        "    # Set model to train mode\n",
        "    model.train()\n",
        "\n",
        "    # Training loop\n",
        "    for epoch in tqdm(range(num_epochs)):\n",
        "        for data_inputs, data_labels in data_loader:\n",
        "\n",
        "            ## Step 1: Move input data to device (only strictly necessary if we use GPU)\n",
        "            data_inputs = data_inputs.to(device)\n",
        "            data_labels = data_labels.to(device)\n",
        "\n",
        "            ## Step 2: Run the model on the input data\n",
        "            preds = model(data_inputs)\n",
        "            preds = preds.squeeze(dim=1) # Output is [Batch size, 1], but we want [Batch size]\n",
        "\n",
        "            ## Step 3: Calculate the loss\n",
        "            loss = loss_module(preds, data_labels.float())\n",
        "\n",
        "            ## Step 4: Perform backpropagation\n",
        "            # Before calculating the gradients, we need to ensure that they are all zero.\n",
        "            # The gradients would not be overwritten, but actually added to the existing ones.\n",
        "            optimizer.zero_grad()\n",
        "            # Perform backpropagation\n",
        "            loss.backward()\n",
        "\n",
        "            ## Step 5: Update the parameters\n",
        "            optimizer.step()"
      ]
    },
    {
      "cell_type": "code",
      "execution_count": 164,
      "metadata": {
        "colab": {
          "referenced_widgets": [
            "eb0f1646f5f4459c86c22f0845150144"
          ]
        },
        "id": "AMp_BSurUZRz",
        "outputId": "6922a9c4-5042-4a9a-a7f9-52bf2eebdd09"
      },
      "outputs": [
        {
          "data": {
            "application/vnd.jupyter.widget-view+json": {
              "model_id": "9ff5a525ac7145a4a45e1352d6a3fe69",
              "version_major": 2,
              "version_minor": 0
            },
            "text/plain": [
              "  0%|          | 0/100 [00:00<?, ?it/s]"
            ]
          },
          "metadata": {},
          "output_type": "display_data"
        }
      ],
      "source": [
        "train_model(model, optimizer, train_data_loader, loss_module)"
      ]
    },
    {
      "cell_type": "markdown",
      "metadata": {
        "id": "W4ymEQDzUZR1"
      },
      "source": [
        "#### Saving a model\n",
        "\n",
        "After finish training a model, we save the model to disk so that we can load the same weights at a later time. For this, we extract the so-called `state_dict` from the model which contains all learnable parameters. For our simple model, the state dict contains the following entries:"
      ]
    },
    {
      "cell_type": "code",
      "execution_count": 165,
      "metadata": {
        "id": "_kbe22m1UZR1",
        "outputId": "8c9fcbf4-b424-445a-f0e4-cef6b7161c8d"
      },
      "outputs": [
        {
          "name": "stdout",
          "output_type": "stream",
          "text": [
            "OrderedDict([('linear1.weight', tensor([[-1.6042,  2.5094],\n",
            "        [-1.7119,  2.6270],\n",
            "        [ 3.4707, -2.7242],\n",
            "        [ 2.2010,  2.2341]])), ('linear1.bias', tensor([ 0.5298,  0.5760,  1.0695, -0.4001])), ('linear2.weight', tensor([[-2.5266, -2.7004, -4.7146,  3.4006]])), ('linear2.bias', tensor([1.7351]))])\n"
          ]
        }
      ],
      "source": [
        "state_dict = model.state_dict()\n",
        "print(state_dict)"
      ]
    },
    {
      "cell_type": "markdown",
      "metadata": {
        "id": "OfExWx4xUZR1"
      },
      "source": [
        "To save the state dictionary, we can use `torch.save`:"
      ]
    },
    {
      "cell_type": "code",
      "execution_count": 166,
      "metadata": {
        "id": "vcHNrFkdUZR1"
      },
      "outputs": [],
      "source": [
        "# torch.save(object, filename). For the filename, any extension can be used\n",
        "torch.save(state_dict, \"our_model.tar\")"
      ]
    },
    {
      "cell_type": "markdown",
      "metadata": {
        "id": "t7PfnMF9UZR1"
      },
      "source": [
        "To load a model from a state dict, we use the function `torch.load` to load the state dict from the disk, and the module function `load_state_dict` to overwrite our parameters with the new values:"
      ]
    },
    {
      "cell_type": "code",
      "execution_count": 167,
      "metadata": {
        "id": "l__2m9-lUZR1",
        "outputId": "ecd2fe71-26f0-4bd9-8802-0b8a3f41ce71"
      },
      "outputs": [
        {
          "name": "stdout",
          "output_type": "stream",
          "text": [
            "Original model\n",
            " OrderedDict([('linear1.weight', tensor([[-1.6042,  2.5094],\n",
            "        [-1.7119,  2.6270],\n",
            "        [ 3.4707, -2.7242],\n",
            "        [ 2.2010,  2.2341]])), ('linear1.bias', tensor([ 0.5298,  0.5760,  1.0695, -0.4001])), ('linear2.weight', tensor([[-2.5266, -2.7004, -4.7146,  3.4006]])), ('linear2.bias', tensor([1.7351]))])\n",
            "\n",
            "Loaded model\n",
            " OrderedDict([('linear1.weight', tensor([[-1.6042,  2.5094],\n",
            "        [-1.7119,  2.6270],\n",
            "        [ 3.4707, -2.7242],\n",
            "        [ 2.2010,  2.2341]])), ('linear1.bias', tensor([ 0.5298,  0.5760,  1.0695, -0.4001])), ('linear2.weight', tensor([[-2.5266, -2.7004, -4.7146,  3.4006]])), ('linear2.bias', tensor([1.7351]))])\n"
          ]
        }
      ],
      "source": [
        "# Load state dict from the disk (make sure it is the same name as above)\n",
        "state_dict = torch.load(\"our_model.tar\")\n",
        "\n",
        "# Create a new model and load the state\n",
        "new_model = SimpleClassifier(num_inputs=2, num_hidden=4, num_outputs=1)\n",
        "new_model.load_state_dict(state_dict)\n",
        "\n",
        "# Verify that the parameters are the same\n",
        "print(\"Original model\\n\", model.state_dict())\n",
        "print(\"\\nLoaded model\\n\", new_model.state_dict())"
      ]
    },
    {
      "cell_type": "markdown",
      "metadata": {
        "id": "s2fMlBZ9UZR1"
      },
      "source": [
        "A detailed tutorial on saving and loading models in PyTorch can be found [here](https://pytorch.org/tutorials/beginner/saving_loading_models.html)."
      ]
    },
    {
      "cell_type": "markdown",
      "metadata": {
        "id": "OGqTRkYkUZR2"
      },
      "source": [
        "### Evaluation\n",
        "\n",
        "Once we have trained a model, it is time to evaluate it on a held-out test set. As our dataset consist of randomly generated data points, we need to first create a test set with a corresponding data loader."
      ]
    },
    {
      "cell_type": "code",
      "execution_count": 168,
      "metadata": {
        "id": "8NsMh0BGUZR2"
      },
      "outputs": [],
      "source": [
        "test_dataset = XORDataset(size=500)\n",
        "# drop_last -> Don't drop the last batch although it is smaller than 128\n",
        "test_data_loader = data.DataLoader(test_dataset, batch_size=128, shuffle=False, drop_last=False)"
      ]
    },
    {
      "cell_type": "markdown",
      "metadata": {
        "id": "czdDvDCbUZR2"
      },
      "source": [
        "As metric, we will use accuracy which is calculated as follows:\n",
        "\n",
        "$$acc = \\frac{\\#\\text{correct predictions}}{\\#\\text{all predictions}} = \\frac{TP+TN}{TP+TN+FP+FN}$$\n",
        "\n",
        "where TP are the true positives, TN true negatives, FP false positives, and FN the fale negatives.\n",
        "\n",
        "When evaluating the model, we don't need to keep track of the computation graph as we don't intend to calculate the gradients. This reduces the required memory and speed up the model. In PyTorch, we can deactivate the computation graph using `with torch.no_grad(): ...`. Remember to additionally set the model to eval mode."
      ]
    },
    {
      "cell_type": "code",
      "execution_count": 169,
      "metadata": {
        "id": "sojhtgGbUZR2"
      },
      "outputs": [],
      "source": [
        "def eval_model(model, data_loader):\n",
        "    model.eval() # Set model to eval mode\n",
        "    true_preds, num_preds = 0., 0.\n",
        "\n",
        "    with torch.no_grad(): # Deactivate gradients for the following code\n",
        "        for data_inputs, data_labels in data_loader:\n",
        "\n",
        "            # Determine prediction of model on dev set\n",
        "            data_inputs, data_labels = data_inputs.to(device), data_labels.to(device)\n",
        "            preds = model(data_inputs)\n",
        "            preds = preds.squeeze(dim=1)\n",
        "            preds = torch.sigmoid(preds) # Sigmoid to map predictions between 0 and 1\n",
        "            pred_labels = (preds >= 0.5).long() # Binarize predictions to 0 and 1\n",
        "\n",
        "            # Keep records of predictions for the accuracy metric (true_preds=TP+TN, num_preds=TP+TN+FP+FN)\n",
        "            true_preds += (pred_labels == data_labels).sum()\n",
        "            num_preds += data_labels.shape[0]\n",
        "\n",
        "    acc = true_preds / num_preds\n",
        "    print(f\"Accuracy of the model: {100.0*acc:4.2f}%\")"
      ]
    },
    {
      "cell_type": "code",
      "execution_count": 170,
      "metadata": {
        "id": "NZb4ZrYdUZR2",
        "outputId": "72d8634a-5467-45eb-f420-e7458f3fd1b8"
      },
      "outputs": [
        {
          "name": "stdout",
          "output_type": "stream",
          "text": [
            "Accuracy of the model: 100.00%\n"
          ]
        }
      ],
      "source": [
        "eval_model(model, test_data_loader)"
      ]
    },
    {
      "cell_type": "markdown",
      "metadata": {
        "id": "Pgxkj6qHUZR2"
      },
      "source": [
        "If we trained our model correctly, we should see a score close to 100% accuracy. However, this is only possible because of our simple task, and unfortunately, we usually don't get such high scores on test sets of more complex tasks."
      ]
    },
    {
      "cell_type": "markdown",
      "metadata": {
        "id": "ZlBWdPxTUZR2"
      },
      "source": [
        "#### Visualizing classification boundaries\n",
        "\n",
        "To visualize what our model has learned, we can perform a prediction for every data point in a range of $[-0.5, 1.5]$, and visualize the predicted class as in the sample figure at the beginning of this section. This shows where the model has created decision boundaries, and which points would be classified as $0$, and which as $1$. We therefore get a background image out of blue (class 0) and orange (class 1). The spots where the model is uncertain we will see a blurry overlap. The specific code is less relevant compared to the output figure which should hopefully show us a clear separation of classes:"
      ]
    },
    {
      "cell_type": "code",
      "execution_count": 172,
      "metadata": {
        "id": "l9MH_okcUZR3",
        "outputId": "9297cc52-ecbf-4cd0-fb49-17b541596e24"
      },
      "outputs": [
        {
          "data": {
            "application/pdf": "[encoded data removed]",
            "image/svg+xml": [
              "<?xml version=\"1.0\" encoding=\"utf-8\" standalone=\"no\"?>\n",
              "<!DOCTYPE svg PUBLIC \"-//W3C//DTD SVG 1.1//EN\"\n",
              "  \"http://www.w3.org/Graphics/SVG/1.1/DTD/svg11.dtd\">\n",
              "<svg xmlns:xlink=\"http://www.w3.org/1999/xlink\" width=\"296.111094pt\" height=\"285.283594pt\" viewBox=\"0 0 296.111094 285.283594\" xmlns=\"http://www.w3.org/2000/svg\" version=\"1.1\">\n",
              " <metadata>\n",
              "  <rdf:RDF xmlns:dc=\"http://purl.org/dc/elements/1.1/\" xmlns:cc=\"http://creativecommons.org/ns#\" xmlns:rdf=\"http://www.w3.org/1999/02/22-rdf-syntax-ns#\">\n",
              "   <cc:Work>\n",
              "    <dc:type rdf:resource=\"http://purl.org/dc/dcmitype/StillImage\"/>\n",
              "    <dc:date>2024-04-02T18:11:14.857064</dc:date>\n",
              "    <dc:format>image/svg+xml</dc:format>\n",
              "    <dc:creator>\n",
              "     <cc:Agent>\n",
              "      <dc:title>Matplotlib v3.5.3, https://matplotlib.org/</dc:title>\n",
              "     </cc:Agent>\n",
              "    </dc:creator>\n",
              "   </cc:Work>\n",
              "  </rdf:RDF>\n",
              " </metadata>\n",
              " <defs>\n",
              "  <style type=\"text/css\">*{stroke-linejoin: round; stroke-linecap: butt}</style>\n",
              " </defs>\n",
              " <g id=\"figure_1\">\n",
              "  <g id=\"patch_1\">\n",
              "   <path d=\"M 0 285.283594 \n",
              "L 296.111094 285.283594 \n",
              "L 296.111094 0 \n",
              "L 0 0 \n",
              "z\n",
              "\" style=\"fill: #ffffff\"/>\n",
              "  </g>\n",
              "  <g id=\"axes_1\">\n",
              "   <g id=\"patch_2\">\n",
              "    <path d=\"M 59.506094 243.549375 \n",
              "L 281.266094 243.549375 \n",
              "L 281.266094 21.789375 \n",
              "L 59.506094 21.789375 \n",
              "z\n",
              "\" style=\"fill: #eaeaf2\"/>\n",
              "   </g>\n",
              "   <g clip-path=\"url(#pb28a276ca2)\">\n",
              "    <image xlink:href=\"data:image/png;base64,\n",
              "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\" id=\"imagef07522ec50\" transform=\"scale(1 -1)translate(0 -221.904)\" x=\"59.506094\" y=\"-21.645375\" width=\"221.904\" height=\"221.904\"/>\n",
              "   </g>\n",
              "   <g id=\"matplotlib.axis_1\">\n",
              "    <g id=\"xtick_1\">\n",
              "     <g id=\"text_1\">\n",
              "      <!-- −0.5 -->\n",
              "      <g style=\"fill: #262626\" transform=\"translate(48.64875 260.922969)scale(0.11 -0.11)\">\n",
              "       <defs>\n",
              "        <path id=\"ArialMT-2212\" d=\"M 3381 1997 \n",
              "L 356 1997 \n",
              "L 356 2522 \n",
              "L 3381 2522 \n",
              "L 3381 1997 \n",
              "z\n",
              "\" transform=\"scale(0.015625)\"/>\n",
              "        <path id=\"ArialMT-30\" d=\"M 266 2259 \n",
              "Q 266 3072 433 3567 \n",
              "Q 600 4063 929 4331 \n",
              "Q 1259 4600 1759 4600 \n",
              "Q 2128 4600 2406 4451 \n",
              "Q 2684 4303 2865 4023 \n",
              "Q 3047 3744 3150 3342 \n",
              "Q 3253 2941 3253 2259 \n",
              "Q 3253 1453 3087 958 \n",
              "Q 2922 463 2592 192 \n",
              "Q 2263 -78 1759 -78 \n",
              "Q 1097 -78 719 397 \n",
              "Q 266 969 266 2259 \n",
              "z\n",
              "M 844 2259 \n",
              "Q 844 1131 1108 757 \n",
              "Q 1372 384 1759 384 \n",
              "Q 2147 384 2411 759 \n",
              "Q 2675 1134 2675 2259 \n",
              "Q 2675 3391 2411 3762 \n",
              "Q 2147 4134 1753 4134 \n",
              "Q 1366 4134 1134 3806 \n",
              "Q 844 3388 844 2259 \n",
              "z\n",
              "\" transform=\"scale(0.015625)\"/>\n",
              "        <path id=\"ArialMT-2e\" d=\"M 581 0 \n",
              "L 581 641 \n",
              "L 1222 641 \n",
              "L 1222 0 \n",
              "L 581 0 \n",
              "z\n",
              "\" transform=\"scale(0.015625)\"/>\n",
              "        <path id=\"ArialMT-35\" d=\"M 266 1200 \n",
              "L 856 1250 \n",
              "Q 922 819 1161 601 \n",
              "Q 1400 384 1738 384 \n",
              "Q 2144 384 2425 690 \n",
              "Q 2706 997 2706 1503 \n",
              "Q 2706 1984 2436 2262 \n",
              "Q 2166 2541 1728 2541 \n",
              "Q 1456 2541 1237 2417 \n",
              "Q 1019 2294 894 2097 \n",
              "L 366 2166 \n",
              "L 809 4519 \n",
              "L 3088 4519 \n",
              "L 3088 3981 \n",
              "L 1259 3981 \n",
              "L 1013 2750 \n",
              "Q 1425 3038 1878 3038 \n",
              "Q 2478 3038 2890 2622 \n",
              "Q 3303 2206 3303 1553 \n",
              "Q 3303 931 2941 478 \n",
              "Q 2500 -78 1738 -78 \n",
              "Q 1113 -78 717 272 \n",
              "Q 322 622 266 1200 \n",
              "z\n",
              "\" transform=\"scale(0.015625)\"/>\n",
              "       </defs>\n",
              "       <use xlink:href=\"#ArialMT-2212\"/>\n",
              "       <use xlink:href=\"#ArialMT-30\" x=\"58.398438\"/>\n",
              "       <use xlink:href=\"#ArialMT-2e\" x=\"114.013672\"/>\n",
              "       <use xlink:href=\"#ArialMT-35\" x=\"141.796875\"/>\n",
              "      </g>\n",
              "     </g>\n",
              "    </g>\n",
              "    <g id=\"xtick_2\">\n",
              "     <g id=\"text_2\">\n",
              "      <!-- 0.0 -->\n",
              "      <g style=\"fill: #262626\" transform=\"translate(107.301094 260.922969)scale(0.11 -0.11)\">\n",
              "       <use xlink:href=\"#ArialMT-30\"/>\n",
              "       <use xlink:href=\"#ArialMT-2e\" x=\"55.615234\"/>\n",
              "       <use xlink:href=\"#ArialMT-30\" x=\"83.398438\"/>\n",
              "      </g>\n",
              "     </g>\n",
              "    </g>\n",
              "    <g id=\"xtick_3\">\n",
              "     <g id=\"text_3\">\n",
              "      <!-- 0.5 -->\n",
              "      <g style=\"fill: #262626\" transform=\"translate(162.741094 260.922969)scale(0.11 -0.11)\">\n",
              "       <use xlink:href=\"#ArialMT-30\"/>\n",
              "       <use xlink:href=\"#ArialMT-2e\" x=\"55.615234\"/>\n",
              "       <use xlink:href=\"#ArialMT-35\" x=\"83.398438\"/>\n",
              "      </g>\n",
              "     </g>\n",
              "    </g>\n",
              "    <g id=\"xtick_4\">\n",
              "     <g id=\"text_4\">\n",
              "      <!-- 1.0 -->\n",
              "      <g style=\"fill: #262626\" transform=\"translate(218.181094 260.922969)scale(0.11 -0.11)\">\n",
              "       <defs>\n",
              "        <path id=\"ArialMT-31\" d=\"M 2384 0 \n",
              "L 1822 0 \n",
              "L 1822 3584 \n",
              "Q 1619 3391 1289 3197 \n",
              "Q 959 3003 697 2906 \n",
              "L 697 3450 \n",
              "Q 1169 3672 1522 3987 \n",
              "Q 1875 4303 2022 4600 \n",
              "L 2384 4600 \n",
              "L 2384 0 \n",
              "z\n",
              "\" transform=\"scale(0.015625)\"/>\n",
              "       </defs>\n",
              "       <use xlink:href=\"#ArialMT-31\"/>\n",
              "       <use xlink:href=\"#ArialMT-2e\" x=\"55.615234\"/>\n",
              "       <use xlink:href=\"#ArialMT-30\" x=\"83.398438\"/>\n",
              "      </g>\n",
              "     </g>\n",
              "    </g>\n",
              "    <g id=\"xtick_5\">\n",
              "     <g id=\"text_5\">\n",
              "      <!-- 1.5 -->\n",
              "      <g style=\"fill: #262626\" transform=\"translate(273.621094 260.922969)scale(0.11 -0.11)\">\n",
              "       <use xlink:href=\"#ArialMT-31\"/>\n",
              "       <use xlink:href=\"#ArialMT-2e\" x=\"55.615234\"/>\n",
              "       <use xlink:href=\"#ArialMT-35\" x=\"83.398438\"/>\n",
              "      </g>\n",
              "     </g>\n",
              "    </g>\n",
              "    <g id=\"text_6\">\n",
              "     <!-- $x_1$ -->\n",
              "     <g style=\"fill: #262626\" transform=\"translate(163.966094 275.698594)scale(0.12 -0.12)\">\n",
              "      <defs>\n",
              "       <path id=\"DejaVuSans-Oblique-78\" d=\"M 3841 3500 \n",
              "L 2234 1784 \n",
              "L 3219 0 \n",
              "L 2559 0 \n",
              "L 1819 1388 \n",
              "L 531 0 \n",
              "L -166 0 \n",
              "L 1556 1844 \n",
              "L 641 3500 \n",
              "L 1300 3500 \n",
              "L 1972 2234 \n",
              "L 3144 3500 \n",
              "L 3841 3500 \n",
              "z\n",
              "\" transform=\"scale(0.015625)\"/>\n",
              "       <path id=\"DejaVuSans-31\" d=\"M 794 531 \n",
              "L 1825 531 \n",
              "L 1825 4091 \n",
              "L 703 3866 \n",
              "L 703 4441 \n",
              "L 1819 4666 \n",
              "L 2450 4666 \n",
              "L 2450 531 \n",
              "L 3481 531 \n",
              "L 3481 0 \n",
              "L 794 0 \n",
              "L 794 531 \n",
              "z\n",
              "\" transform=\"scale(0.015625)\"/>\n",
              "      </defs>\n",
              "      <use xlink:href=\"#DejaVuSans-Oblique-78\" transform=\"translate(0 0.3125)\"/>\n",
              "      <use xlink:href=\"#DejaVuSans-31\" transform=\"translate(59.179688 -16.09375)scale(0.7)\"/>\n",
              "     </g>\n",
              "    </g>\n",
              "   </g>\n",
              "   <g id=\"matplotlib.axis_2\">\n",
              "    <g id=\"ytick_1\">\n",
              "     <g id=\"text_7\">\n",
              "      <!-- −0.50 -->\n",
              "      <g style=\"fill: #262626\" transform=\"translate(22.174375 247.486172)scale(0.11 -0.11)\">\n",
              "       <use xlink:href=\"#ArialMT-2212\"/>\n",
              "       <use xlink:href=\"#ArialMT-30\" x=\"58.398438\"/>\n",
              "       <use xlink:href=\"#ArialMT-2e\" x=\"114.013672\"/>\n",
              "       <use xlink:href=\"#ArialMT-35\" x=\"141.796875\"/>\n",
              "       <use xlink:href=\"#ArialMT-30\" x=\"197.412109\"/>\n",
              "      </g>\n",
              "     </g>\n",
              "    </g>\n",
              "    <g id=\"ytick_2\">\n",
              "     <g id=\"text_8\">\n",
              "      <!-- −0.25 -->\n",
              "      <g style=\"fill: #262626\" transform=\"translate(22.174375 219.766172)scale(0.11 -0.11)\">\n",
              "       <defs>\n",
              "        <path id=\"ArialMT-32\" d=\"M 3222 541 \n",
              "L 3222 0 \n",
              "L 194 0 \n",
              "Q 188 203 259 391 \n",
              "Q 375 700 629 1000 \n",
              "Q 884 1300 1366 1694 \n",
              "Q 2113 2306 2375 2664 \n",
              "Q 2638 3022 2638 3341 \n",
              "Q 2638 3675 2398 3904 \n",
              "Q 2159 4134 1775 4134 \n",
              "Q 1369 4134 1125 3890 \n",
              "Q 881 3647 878 3216 \n",
              "L 300 3275 \n",
              "Q 359 3922 746 4261 \n",
              "Q 1134 4600 1788 4600 \n",
              "Q 2447 4600 2831 4234 \n",
              "Q 3216 3869 3216 3328 \n",
              "Q 3216 3053 3103 2787 \n",
              "Q 2991 2522 2730 2228 \n",
              "Q 2469 1934 1863 1422 \n",
              "Q 1356 997 1212 845 \n",
              "Q 1069 694 975 541 \n",
              "L 3222 541 \n",
              "z\n",
              "\" transform=\"scale(0.015625)\"/>\n",
              "       </defs>\n",
              "       <use xlink:href=\"#ArialMT-2212\"/>\n",
              "       <use xlink:href=\"#ArialMT-30\" x=\"58.398438\"/>\n",
              "       <use xlink:href=\"#ArialMT-2e\" x=\"114.013672\"/>\n",
              "       <use xlink:href=\"#ArialMT-32\" x=\"141.796875\"/>\n",
              "       <use xlink:href=\"#ArialMT-35\" x=\"197.412109\"/>\n",
              "      </g>\n",
              "     </g>\n",
              "    </g>\n",
              "    <g id=\"ytick_3\">\n",
              "     <g id=\"text_9\">\n",
              "      <!-- 0.00 -->\n",
              "      <g style=\"fill: #262626\" transform=\"translate(28.599062 192.046172)scale(0.11 -0.11)\">\n",
              "       <use xlink:href=\"#ArialMT-30\"/>\n",
              "       <use xlink:href=\"#ArialMT-2e\" x=\"55.615234\"/>\n",
              "       <use xlink:href=\"#ArialMT-30\" x=\"83.398438\"/>\n",
              "       <use xlink:href=\"#ArialMT-30\" x=\"139.013672\"/>\n",
              "      </g>\n",
              "     </g>\n",
              "    </g>\n",
              "    <g id=\"ytick_4\">\n",
              "     <g id=\"text_10\">\n",
              "      <!-- 0.25 -->\n",
              "      <g style=\"fill: #262626\" transform=\"translate(28.599062 164.326172)scale(0.11 -0.11)\">\n",
              "       <use xlink:href=\"#ArialMT-30\"/>\n",
              "       <use xlink:href=\"#ArialMT-2e\" x=\"55.615234\"/>\n",
              "       <use xlink:href=\"#ArialMT-32\" x=\"83.398438\"/>\n",
              "       <use xlink:href=\"#ArialMT-35\" x=\"139.013672\"/>\n",
              "      </g>\n",
              "     </g>\n",
              "    </g>\n",
              "    <g id=\"ytick_5\">\n",
              "     <g id=\"text_11\">\n",
              "      <!-- 0.50 -->\n",
              "      <g style=\"fill: #262626\" transform=\"translate(28.599062 136.606172)scale(0.11 -0.11)\">\n",
              "       <use xlink:href=\"#ArialMT-30\"/>\n",
              "       <use xlink:href=\"#ArialMT-2e\" x=\"55.615234\"/>\n",
              "       <use xlink:href=\"#ArialMT-35\" x=\"83.398438\"/>\n",
              "       <use xlink:href=\"#ArialMT-30\" x=\"139.013672\"/>\n",
              "      </g>\n",
              "     </g>\n",
              "    </g>\n",
              "    <g id=\"ytick_6\">\n",
              "     <g id=\"text_12\">\n",
              "      <!-- 0.75 -->\n",
              "      <g style=\"fill: #262626\" transform=\"translate(28.599062 108.886172)scale(0.11 -0.11)\">\n",
              "       <defs>\n",
              "        <path id=\"ArialMT-37\" d=\"M 303 3981 \n",
              "L 303 4522 \n",
              "L 3269 4522 \n",
              "L 3269 4084 \n",
              "Q 2831 3619 2401 2847 \n",
              "Q 1972 2075 1738 1259 \n",
              "Q 1569 684 1522 0 \n",
              "L 944 0 \n",
              "Q 953 541 1156 1306 \n",
              "Q 1359 2072 1739 2783 \n",
              "Q 2119 3494 2547 3981 \n",
              "L 303 3981 \n",
              "z\n",
              "\" transform=\"scale(0.015625)\"/>\n",
              "       </defs>\n",
              "       <use xlink:href=\"#ArialMT-30\"/>\n",
              "       <use xlink:href=\"#ArialMT-2e\" x=\"55.615234\"/>\n",
              "       <use xlink:href=\"#ArialMT-37\" x=\"83.398438\"/>\n",
              "       <use xlink:href=\"#ArialMT-35\" x=\"139.013672\"/>\n",
              "      </g>\n",
              "     </g>\n",
              "    </g>\n",
              "    <g id=\"ytick_7\">\n",
              "     <g id=\"text_13\">\n",
              "      <!-- 1.00 -->\n",
              "      <g style=\"fill: #262626\" transform=\"translate(28.599062 81.166172)scale(0.11 -0.11)\">\n",
              "       <use xlink:href=\"#ArialMT-31\"/>\n",
              "       <use xlink:href=\"#ArialMT-2e\" x=\"55.615234\"/>\n",
              "       <use xlink:href=\"#ArialMT-30\" x=\"83.398438\"/>\n",
              "       <use xlink:href=\"#ArialMT-30\" x=\"139.013672\"/>\n",
              "      </g>\n",
              "     </g>\n",
              "    </g>\n",
              "    <g id=\"ytick_8\">\n",
              "     <g id=\"text_14\">\n",
              "      <!-- 1.25 -->\n",
              "      <g style=\"fill: #262626\" transform=\"translate(28.599062 53.446172)scale(0.11 -0.11)\">\n",
              "       <use xlink:href=\"#ArialMT-31\"/>\n",
              "       <use xlink:href=\"#ArialMT-2e\" x=\"55.615234\"/>\n",
              "       <use xlink:href=\"#ArialMT-32\" x=\"83.398438\"/>\n",
              "       <use xlink:href=\"#ArialMT-35\" x=\"139.013672\"/>\n",
              "      </g>\n",
              "     </g>\n",
              "    </g>\n",
              "    <g id=\"ytick_9\">\n",
              "     <g id=\"text_15\">\n",
              "      <!-- 1.50 -->\n",
              "      <g style=\"fill: #262626\" transform=\"translate(28.599062 25.726172)scale(0.11 -0.11)\">\n",
              "       <use xlink:href=\"#ArialMT-31\"/>\n",
              "       <use xlink:href=\"#ArialMT-2e\" x=\"55.615234\"/>\n",
              "       <use xlink:href=\"#ArialMT-35\" x=\"83.398438\"/>\n",
              "       <use xlink:href=\"#ArialMT-30\" x=\"139.013672\"/>\n",
              "      </g>\n",
              "     </g>\n",
              "    </g>\n",
              "    <g id=\"text_16\">\n",
              "     <!-- $x_2$ -->\n",
              "     <g style=\"fill: #262626\" transform=\"translate(15.789375 139.089375)rotate(-90)scale(0.12 -0.12)\">\n",
              "      <defs>\n",
              "       <path id=\"DejaVuSans-32\" d=\"M 1228 531 \n",
              "L 3431 531 \n",
              "L 3431 0 \n",
              "L 469 0 \n",
              "L 469 531 \n",
              "Q 828 903 1448 1529 \n",
              "Q 2069 2156 2228 2338 \n",
              "Q 2531 2678 2651 2914 \n",
              "Q 2772 3150 2772 3378 \n",
              "Q 2772 3750 2511 3984 \n",
              "Q 2250 4219 1831 4219 \n",
              "Q 1534 4219 1204 4116 \n",
              "Q 875 4013 500 3803 \n",
              "L 500 4441 \n",
              "Q 881 4594 1212 4672 \n",
              "Q 1544 4750 1819 4750 \n",
              "Q 2544 4750 2975 4387 \n",
              "Q 3406 4025 3406 3419 \n",
              "Q 3406 3131 3298 2873 \n",
              "Q 3191 2616 2906 2266 \n",
              "Q 2828 2175 2409 1742 \n",
              "Q 1991 1309 1228 531 \n",
              "z\n",
              "\" transform=\"scale(0.015625)\"/>\n",
              "      </defs>\n",
              "      <use xlink:href=\"#DejaVuSans-Oblique-78\" transform=\"translate(0 0.3125)\"/>\n",
              "      <use xlink:href=\"#DejaVuSans-32\" transform=\"translate(59.179688 -16.09375)scale(0.7)\"/>\n",
              "     </g>\n",
              "    </g>\n",
              "   </g>\n",
              "   <g id=\"PathCollection_1\">\n",
              "    <defs>\n",
              "     <path id=\"m247273f05a\" d=\"M 0 3 \n",
              "C 0.795609 3 1.55874 2.683901 2.12132 2.12132 \n",
              "C 2.683901 1.55874 3 0.795609 3 0 \n",
              "C 3 -0.795609 2.683901 -1.55874 2.12132 -2.12132 \n",
              "C 1.55874 -2.683901 0.795609 -3 0 -3 \n",
              "C -0.795609 -3 -1.55874 -2.683901 -2.12132 -2.12132 \n",
              "C -2.683901 -1.55874 -3 -0.795609 -3 0 \n",
              "C -3 0.795609 -2.683901 1.55874 -2.12132 2.12132 \n",
              "C -1.55874 2.683901 -0.795609 3 0 3 \n",
              "z\n",
              "\" style=\"stroke: #333333\"/>\n",
              "    </defs>\n",
              "    <g clip-path=\"url(#pb28a276ca2)\">\n",
              "     <use xlink:href=\"#m247273f05a\" x=\"102.885434\" y=\"161.468303\" style=\"fill: #4c72b0; stroke: #333333\"/>\n",
              "     <use xlink:href=\"#m247273f05a\" x=\"224.782902\" y=\"67.988604\" style=\"fill: #4c72b0; stroke: #333333\"/>\n",
              "     <use xlink:href=\"#m247273f05a\" x=\"98.188736\" y=\"183.791794\" style=\"fill: #4c72b0; stroke: #333333\"/>\n",
              "     <use xlink:href=\"#m247273f05a\" x=\"99.577276\" y=\"195.015627\" style=\"fill: #4c72b0; stroke: #333333\"/>\n",
              "     <use xlink:href=\"#m247273f05a\" x=\"107.951676\" y=\"209.12467\" style=\"fill: #4c72b0; stroke: #333333\"/>\n",
              "     <use xlink:href=\"#m247273f05a\" x=\"225.612598\" y=\"77.871218\" style=\"fill: #4c72b0; stroke: #333333\"/>\n",
              "     <use xlink:href=\"#m247273f05a\" x=\"108.34715\" y=\"199.125276\" style=\"fill: #4c72b0; stroke: #333333\"/>\n",
              "     <use xlink:href=\"#m247273f05a\" x=\"211.210161\" y=\"75.980268\" style=\"fill: #4c72b0; stroke: #333333\"/>\n",
              "     <use xlink:href=\"#m247273f05a\" x=\"241.304986\" y=\"78.87163\" style=\"fill: #4c72b0; stroke: #333333\"/>\n",
              "     <use xlink:href=\"#m247273f05a\" x=\"110.591068\" y=\"183.096497\" style=\"fill: #4c72b0; stroke: #333333\"/>\n",
              "     <use xlink:href=\"#m247273f05a\" x=\"232.115064\" y=\"71.201776\" style=\"fill: #4c72b0; stroke: #333333\"/>\n",
              "     <use xlink:href=\"#m247273f05a\" x=\"227.76864\" y=\"63.081608\" style=\"fill: #4c72b0; stroke: #333333\"/>\n",
              "     <use xlink:href=\"#m247273f05a\" x=\"103.955938\" y=\"201.20149\" style=\"fill: #4c72b0; stroke: #333333\"/>\n",
              "     <use xlink:href=\"#m247273f05a\" x=\"199.709005\" y=\"62.169438\" style=\"fill: #4c72b0; stroke: #333333\"/>\n",
              "     <use xlink:href=\"#m247273f05a\" x=\"205.380586\" y=\"82.463674\" style=\"fill: #4c72b0; stroke: #333333\"/>\n",
              "     <use xlink:href=\"#m247273f05a\" x=\"225.153044\" y=\"62.321987\" style=\"fill: #4c72b0; stroke: #333333\"/>\n",
              "     <use xlink:href=\"#m247273f05a\" x=\"130.91473\" y=\"184.924229\" style=\"fill: #4c72b0; stroke: #333333\"/>\n",
              "     <use xlink:href=\"#m247273f05a\" x=\"98.401949\" y=\"173.993623\" style=\"fill: #4c72b0; stroke: #333333\"/>\n",
              "     <use xlink:href=\"#m247273f05a\" x=\"216.287206\" y=\"62.842812\" style=\"fill: #4c72b0; stroke: #333333\"/>\n",
              "     <use xlink:href=\"#m247273f05a\" x=\"246.450473\" y=\"64.640688\" style=\"fill: #4c72b0; stroke: #333333\"/>\n",
              "     <use xlink:href=\"#m247273f05a\" x=\"246.682355\" y=\"64.345254\" style=\"fill: #4c72b0; stroke: #333333\"/>\n",
              "     <use xlink:href=\"#m247273f05a\" x=\"106.987968\" y=\"208.644347\" style=\"fill: #4c72b0; stroke: #333333\"/>\n",
              "     <use xlink:href=\"#m247273f05a\" x=\"229.337475\" y=\"77.163616\" style=\"fill: #4c72b0; stroke: #333333\"/>\n",
              "     <use xlink:href=\"#m247273f05a\" x=\"125.550819\" y=\"185.764486\" style=\"fill: #4c72b0; stroke: #333333\"/>\n",
              "     <use xlink:href=\"#m247273f05a\" x=\"223.929341\" y=\"85.137396\" style=\"fill: #4c72b0; stroke: #333333\"/>\n",
              "     <use xlink:href=\"#m247273f05a\" x=\"120.893853\" y=\"173.508284\" style=\"fill: #4c72b0; stroke: #333333\"/>\n",
              "     <use xlink:href=\"#m247273f05a\" x=\"128.475516\" y=\"185.303647\" style=\"fill: #4c72b0; stroke: #333333\"/>\n",
              "     <use xlink:href=\"#m247273f05a\" x=\"217.605674\" y=\"65.437716\" style=\"fill: #4c72b0; stroke: #333333\"/>\n",
              "     <use xlink:href=\"#m247273f05a\" x=\"233.478282\" y=\"72.605718\" style=\"fill: #4c72b0; stroke: #333333\"/>\n",
              "     <use xlink:href=\"#m247273f05a\" x=\"217.673647\" y=\"72.957606\" style=\"fill: #4c72b0; stroke: #333333\"/>\n",
              "     <use xlink:href=\"#m247273f05a\" x=\"124.555139\" y=\"182.32667\" style=\"fill: #4c72b0; stroke: #333333\"/>\n",
              "     <use xlink:href=\"#m247273f05a\" x=\"104.203039\" y=\"168.605843\" style=\"fill: #4c72b0; stroke: #333333\"/>\n",
              "     <use xlink:href=\"#m247273f05a\" x=\"106.167644\" y=\"189.200665\" style=\"fill: #4c72b0; stroke: #333333\"/>\n",
              "     <use xlink:href=\"#m247273f05a\" x=\"110.943215\" y=\"176.174218\" style=\"fill: #4c72b0; stroke: #333333\"/>\n",
              "     <use xlink:href=\"#m247273f05a\" x=\"111.305657\" y=\"176.325135\" style=\"fill: #4c72b0; stroke: #333333\"/>\n",
              "     <use xlink:href=\"#m247273f05a\" x=\"114.896745\" y=\"189.746016\" style=\"fill: #4c72b0; stroke: #333333\"/>\n",
              "     <use xlink:href=\"#m247273f05a\" x=\"240.831255\" y=\"62.301195\" style=\"fill: #4c72b0; stroke: #333333\"/>\n",
              "     <use xlink:href=\"#m247273f05a\" x=\"114.687401\" y=\"181.44796\" style=\"fill: #4c72b0; stroke: #333333\"/>\n",
              "     <use xlink:href=\"#m247273f05a\" x=\"227.813594\" y=\"63.293821\" style=\"fill: #4c72b0; stroke: #333333\"/>\n",
              "     <use xlink:href=\"#m247273f05a\" x=\"226.162649\" y=\"72.193107\" style=\"fill: #4c72b0; stroke: #333333\"/>\n",
              "     <use xlink:href=\"#m247273f05a\" x=\"240.299326\" y=\"70.550476\" style=\"fill: #4c72b0; stroke: #333333\"/>\n",
              "     <use xlink:href=\"#m247273f05a\" x=\"106.919222\" y=\"197.969848\" style=\"fill: #4c72b0; stroke: #333333\"/>\n",
              "     <use xlink:href=\"#m247273f05a\" x=\"201.091475\" y=\"69.162554\" style=\"fill: #4c72b0; stroke: #333333\"/>\n",
              "     <use xlink:href=\"#m247273f05a\" x=\"109.59082\" y=\"212.430936\" style=\"fill: #4c72b0; stroke: #333333\"/>\n",
              "     <use xlink:href=\"#m247273f05a\" x=\"97.802502\" y=\"170.517548\" style=\"fill: #4c72b0; stroke: #333333\"/>\n",
              "     <use xlink:href=\"#m247273f05a\" x=\"130.455405\" y=\"186.036099\" style=\"fill: #4c72b0; stroke: #333333\"/>\n",
              "     <use xlink:href=\"#m247273f05a\" x=\"213.613067\" y=\"84.092149\" style=\"fill: #4c72b0; stroke: #333333\"/>\n",
              "     <use xlink:href=\"#m247273f05a\" x=\"236.463101\" y=\"72.487114\" style=\"fill: #4c72b0; stroke: #333333\"/>\n",
              "     <use xlink:href=\"#m247273f05a\" x=\"229.620828\" y=\"89.76102\" style=\"fill: #4c72b0; stroke: #333333\"/>\n",
              "     <use xlink:href=\"#m247273f05a\" x=\"123.124598\" y=\"187.014025\" style=\"fill: #4c72b0; stroke: #333333\"/>\n",
              "     <use xlink:href=\"#m247273f05a\" x=\"223.451916\" y=\"92.322013\" style=\"fill: #4c72b0; stroke: #333333\"/>\n",
              "     <use xlink:href=\"#m247273f05a\" x=\"233.560867\" y=\"68.143386\" style=\"fill: #4c72b0; stroke: #333333\"/>\n",
              "     <use xlink:href=\"#m247273f05a\" x=\"247.348407\" y=\"79.087055\" style=\"fill: #4c72b0; stroke: #333333\"/>\n",
              "     <use xlink:href=\"#m247273f05a\" x=\"113.763733\" y=\"199.564604\" style=\"fill: #4c72b0; stroke: #333333\"/>\n",
              "     <use xlink:href=\"#m247273f05a\" x=\"114.554521\" y=\"185.828709\" style=\"fill: #4c72b0; stroke: #333333\"/>\n",
              "     <use xlink:href=\"#m247273f05a\" x=\"88.005224\" y=\"192.774433\" style=\"fill: #4c72b0; stroke: #333333\"/>\n",
              "     <use xlink:href=\"#m247273f05a\" x=\"127.183411\" y=\"204.050171\" style=\"fill: #4c72b0; stroke: #333333\"/>\n",
              "     <use xlink:href=\"#m247273f05a\" x=\"111.99654\" y=\"178.347944\" style=\"fill: #4c72b0; stroke: #333333\"/>\n",
              "     <use xlink:href=\"#m247273f05a\" x=\"221.871667\" y=\"71.056604\" style=\"fill: #4c72b0; stroke: #333333\"/>\n",
              "     <use xlink:href=\"#m247273f05a\" x=\"227.859632\" y=\"83.884343\" style=\"fill: #4c72b0; stroke: #333333\"/>\n",
              "     <use xlink:href=\"#m247273f05a\" x=\"217.824906\" y=\"83.492656\" style=\"fill: #4c72b0; stroke: #333333\"/>\n",
              "     <use xlink:href=\"#m247273f05a\" x=\"209.563557\" y=\"90.738981\" style=\"fill: #4c72b0; stroke: #333333\"/>\n",
              "     <use xlink:href=\"#m247273f05a\" x=\"110.140832\" y=\"202.107012\" style=\"fill: #4c72b0; stroke: #333333\"/>\n",
              "     <use xlink:href=\"#m247273f05a\" x=\"206.44373\" y=\"82.825098\" style=\"fill: #4c72b0; stroke: #333333\"/>\n",
              "     <use xlink:href=\"#m247273f05a\" x=\"113.200898\" y=\"186.625358\" style=\"fill: #4c72b0; stroke: #333333\"/>\n",
              "     <use xlink:href=\"#m247273f05a\" x=\"239.443968\" y=\"66.639992\" style=\"fill: #4c72b0; stroke: #333333\"/>\n",
              "     <use xlink:href=\"#m247273f05a\" x=\"97.299832\" y=\"177.062389\" style=\"fill: #4c72b0; stroke: #333333\"/>\n",
              "     <use xlink:href=\"#m247273f05a\" x=\"140.097195\" y=\"189.957543\" style=\"fill: #4c72b0; stroke: #333333\"/>\n",
              "     <use xlink:href=\"#m247273f05a\" x=\"120.016169\" y=\"185.470087\" style=\"fill: #4c72b0; stroke: #333333\"/>\n",
              "     <use xlink:href=\"#m247273f05a\" x=\"128.747836\" y=\"184.643446\" style=\"fill: #4c72b0; stroke: #333333\"/>\n",
              "     <use xlink:href=\"#m247273f05a\" x=\"224.583629\" y=\"68.397183\" style=\"fill: #4c72b0; stroke: #333333\"/>\n",
              "     <use xlink:href=\"#m247273f05a\" x=\"230.20239\" y=\"64.634833\" style=\"fill: #4c72b0; stroke: #333333\"/>\n",
              "     <use xlink:href=\"#m247273f05a\" x=\"115.347009\" y=\"180.031738\" style=\"fill: #4c72b0; stroke: #333333\"/>\n",
              "     <use xlink:href=\"#m247273f05a\" x=\"130.340251\" y=\"185.179542\" style=\"fill: #4c72b0; stroke: #333333\"/>\n",
              "     <use xlink:href=\"#m247273f05a\" x=\"242.461779\" y=\"75.358007\" style=\"fill: #4c72b0; stroke: #333333\"/>\n",
              "     <use xlink:href=\"#m247273f05a\" x=\"243.936741\" y=\"75.224176\" style=\"fill: #4c72b0; stroke: #333333\"/>\n",
              "     <use xlink:href=\"#m247273f05a\" x=\"108.578401\" y=\"191.145998\" style=\"fill: #4c72b0; stroke: #333333\"/>\n",
              "     <use xlink:href=\"#m247273f05a\" x=\"105.489381\" y=\"158.102879\" style=\"fill: #4c72b0; stroke: #333333\"/>\n",
              "     <use xlink:href=\"#m247273f05a\" x=\"225.019318\" y=\"65.993318\" style=\"fill: #4c72b0; stroke: #333333\"/>\n",
              "     <use xlink:href=\"#m247273f05a\" x=\"242.372518\" y=\"69.281053\" style=\"fill: #4c72b0; stroke: #333333\"/>\n",
              "     <use xlink:href=\"#m247273f05a\" x=\"214.52055\" y=\"67.458076\" style=\"fill: #4c72b0; stroke: #333333\"/>\n",
              "     <use xlink:href=\"#m247273f05a\" x=\"104.296634\" y=\"195.157936\" style=\"fill: #4c72b0; stroke: #333333\"/>\n",
              "     <use xlink:href=\"#m247273f05a\" x=\"216.586902\" y=\"78.593029\" style=\"fill: #4c72b0; stroke: #333333\"/>\n",
              "     <use xlink:href=\"#m247273f05a\" x=\"119.473901\" y=\"202.829315\" style=\"fill: #4c72b0; stroke: #333333\"/>\n",
              "     <use xlink:href=\"#m247273f05a\" x=\"108.53992\" y=\"195.74005\" style=\"fill: #4c72b0; stroke: #333333\"/>\n",
              "     <use xlink:href=\"#m247273f05a\" x=\"244.666331\" y=\"71.341701\" style=\"fill: #4c72b0; stroke: #333333\"/>\n",
              "     <use xlink:href=\"#m247273f05a\" x=\"234.227698\" y=\"66.251901\" style=\"fill: #4c72b0; stroke: #333333\"/>\n",
              "     <use xlink:href=\"#m247273f05a\" x=\"118.802421\" y=\"207.873102\" style=\"fill: #4c72b0; stroke: #333333\"/>\n",
              "     <use xlink:href=\"#m247273f05a\" x=\"109.242376\" y=\"176.878734\" style=\"fill: #4c72b0; stroke: #333333\"/>\n",
              "     <use xlink:href=\"#m247273f05a\" x=\"231.215082\" y=\"74.236546\" style=\"fill: #4c72b0; stroke: #333333\"/>\n",
              "     <use xlink:href=\"#m247273f05a\" x=\"101.67375\" y=\"177.185909\" style=\"fill: #4c72b0; stroke: #333333\"/>\n",
              "     <use xlink:href=\"#m247273f05a\" x=\"118.464353\" y=\"190.001603\" style=\"fill: #4c72b0; stroke: #333333\"/>\n",
              "     <use xlink:href=\"#m247273f05a\" x=\"120.719619\" y=\"193.213573\" style=\"fill: #4c72b0; stroke: #333333\"/>\n",
              "     <use xlink:href=\"#m247273f05a\" x=\"106.101574\" y=\"187.470539\" style=\"fill: #4c72b0; stroke: #333333\"/>\n",
              "     <use xlink:href=\"#m247273f05a\" x=\"226.173408\" y=\"89.400236\" style=\"fill: #4c72b0; stroke: #333333\"/>\n",
              "     <use xlink:href=\"#m247273f05a\" x=\"236.858304\" y=\"62.326441\" style=\"fill: #4c72b0; stroke: #333333\"/>\n",
              "     <use xlink:href=\"#m247273f05a\" x=\"105.929601\" y=\"197.644763\" style=\"fill: #4c72b0; stroke: #333333\"/>\n",
              "     <use xlink:href=\"#m247273f05a\" x=\"129.773362\" y=\"169.325726\" style=\"fill: #4c72b0; stroke: #333333\"/>\n",
              "     <use xlink:href=\"#m247273f05a\" x=\"115.961274\" y=\"183.380626\" style=\"fill: #4c72b0; stroke: #333333\"/>\n",
              "    </g>\n",
              "   </g>\n",
              "   <g id=\"PathCollection_2\">\n",
              "    <defs>\n",
              "     <path id=\"m2767c80fad\" d=\"M 0 3 \n",
              "C 0.795609 3 1.55874 2.683901 2.12132 2.12132 \n",
              "C 2.683901 1.55874 3 0.795609 3 0 \n",
              "C 3 -0.795609 2.683901 -1.55874 2.12132 -2.12132 \n",
              "C 1.55874 -2.683901 0.795609 -3 0 -3 \n",
              "C -0.795609 -3 -1.55874 -2.683901 -2.12132 -2.12132 \n",
              "C -2.683901 -1.55874 -3 -0.795609 -3 0 \n",
              "C -3 0.795609 -2.683901 1.55874 -2.12132 2.12132 \n",
              "C -1.55874 2.683901 -0.795609 3 0 3 \n",
              "z\n",
              "\" style=\"stroke: #333333\"/>\n",
              "    </defs>\n",
              "    <g clip-path=\"url(#pb28a276ca2)\">\n",
              "     <use xlink:href=\"#m2767c80fad\" x=\"120.388419\" y=\"71.706225\" style=\"fill: #dd8452; stroke: #333333\"/>\n",
              "     <use xlink:href=\"#m2767c80fad\" x=\"109.892145\" y=\"87.435801\" style=\"fill: #dd8452; stroke: #333333\"/>\n",
              "     <use xlink:href=\"#m2767c80fad\" x=\"133.676595\" y=\"80.394764\" style=\"fill: #dd8452; stroke: #333333\"/>\n",
              "     <use xlink:href=\"#m2767c80fad\" x=\"231.336409\" y=\"190.742086\" style=\"fill: #dd8452; stroke: #333333\"/>\n",
              "     <use xlink:href=\"#m2767c80fad\" x=\"231.169758\" y=\"180.87842\" style=\"fill: #dd8452; stroke: #333333\"/>\n",
              "     <use xlink:href=\"#m2767c80fad\" x=\"236.08175\" y=\"188.744741\" style=\"fill: #dd8452; stroke: #333333\"/>\n",
              "     <use xlink:href=\"#m2767c80fad\" x=\"229.624212\" y=\"199.982006\" style=\"fill: #dd8452; stroke: #333333\"/>\n",
              "     <use xlink:href=\"#m2767c80fad\" x=\"222.710668\" y=\"194.014915\" style=\"fill: #dd8452; stroke: #333333\"/>\n",
              "     <use xlink:href=\"#m2767c80fad\" x=\"111.753712\" y=\"76.390288\" style=\"fill: #dd8452; stroke: #333333\"/>\n",
              "     <use xlink:href=\"#m2767c80fad\" x=\"127.452159\" y=\"85.248043\" style=\"fill: #dd8452; stroke: #333333\"/>\n",
              "     <use xlink:href=\"#m2767c80fad\" x=\"125.792597\" y=\"75.565357\" style=\"fill: #dd8452; stroke: #333333\"/>\n",
              "     <use xlink:href=\"#m2767c80fad\" x=\"222.380557\" y=\"196.554858\" style=\"fill: #dd8452; stroke: #333333\"/>\n",
              "     <use xlink:href=\"#m2767c80fad\" x=\"226.264598\" y=\"190.514071\" style=\"fill: #dd8452; stroke: #333333\"/>\n",
              "     <use xlink:href=\"#m2767c80fad\" x=\"101.860335\" y=\"96.18322\" style=\"fill: #dd8452; stroke: #333333\"/>\n",
              "     <use xlink:href=\"#m2767c80fad\" x=\"118.310368\" y=\"81.718963\" style=\"fill: #dd8452; stroke: #333333\"/>\n",
              "     <use xlink:href=\"#m2767c80fad\" x=\"124.021428\" y=\"65.005754\" style=\"fill: #dd8452; stroke: #333333\"/>\n",
              "     <use xlink:href=\"#m2767c80fad\" x=\"128.631925\" y=\"87.645021\" style=\"fill: #dd8452; stroke: #333333\"/>\n",
              "     <use xlink:href=\"#m2767c80fad\" x=\"110.303061\" y=\"85.120312\" style=\"fill: #dd8452; stroke: #333333\"/>\n",
              "     <use xlink:href=\"#m2767c80fad\" x=\"128.557999\" y=\"55.489931\" style=\"fill: #dd8452; stroke: #333333\"/>\n",
              "     <use xlink:href=\"#m2767c80fad\" x=\"218.998262\" y=\"194.988091\" style=\"fill: #dd8452; stroke: #333333\"/>\n",
              "     <use xlink:href=\"#m2767c80fad\" x=\"228.378211\" y=\"174.399927\" style=\"fill: #dd8452; stroke: #333333\"/>\n",
              "     <use xlink:href=\"#m2767c80fad\" x=\"131.411734\" y=\"83.079887\" style=\"fill: #dd8452; stroke: #333333\"/>\n",
              "     <use xlink:href=\"#m2767c80fad\" x=\"226.891815\" y=\"186.103914\" style=\"fill: #dd8452; stroke: #333333\"/>\n",
              "     <use xlink:href=\"#m2767c80fad\" x=\"116.197916\" y=\"83.759863\" style=\"fill: #dd8452; stroke: #333333\"/>\n",
              "     <use xlink:href=\"#m2767c80fad\" x=\"231.284687\" y=\"165.462932\" style=\"fill: #dd8452; stroke: #333333\"/>\n",
              "     <use xlink:href=\"#m2767c80fad\" x=\"105.036101\" y=\"94.041671\" style=\"fill: #dd8452; stroke: #333333\"/>\n",
              "     <use xlink:href=\"#m2767c80fad\" x=\"237.558973\" y=\"192.051473\" style=\"fill: #dd8452; stroke: #333333\"/>\n",
              "     <use xlink:href=\"#m2767c80fad\" x=\"215.396364\" y=\"187.731114\" style=\"fill: #dd8452; stroke: #333333\"/>\n",
              "     <use xlink:href=\"#m2767c80fad\" x=\"102.193223\" y=\"57.032728\" style=\"fill: #dd8452; stroke: #333333\"/>\n",
              "     <use xlink:href=\"#m2767c80fad\" x=\"104.485898\" y=\"94.858447\" style=\"fill: #dd8452; stroke: #333333\"/>\n",
              "     <use xlink:href=\"#m2767c80fad\" x=\"220.761877\" y=\"174.174145\" style=\"fill: #dd8452; stroke: #333333\"/>\n",
              "     <use xlink:href=\"#m2767c80fad\" x=\"234.111394\" y=\"210.475941\" style=\"fill: #dd8452; stroke: #333333\"/>\n",
              "     <use xlink:href=\"#m2767c80fad\" x=\"224.472829\" y=\"182.71155\" style=\"fill: #dd8452; stroke: #333333\"/>\n",
              "     <use xlink:href=\"#m2767c80fad\" x=\"99.475057\" y=\"77.18294\" style=\"fill: #dd8452; stroke: #333333\"/>\n",
              "     <use xlink:href=\"#m2767c80fad\" x=\"227.046254\" y=\"187.600916\" style=\"fill: #dd8452; stroke: #333333\"/>\n",
              "     <use xlink:href=\"#m2767c80fad\" x=\"102.261238\" y=\"56.997621\" style=\"fill: #dd8452; stroke: #333333\"/>\n",
              "     <use xlink:href=\"#m2767c80fad\" x=\"237.025034\" y=\"193.586304\" style=\"fill: #dd8452; stroke: #333333\"/>\n",
              "     <use xlink:href=\"#m2767c80fad\" x=\"107.332721\" y=\"81.497212\" style=\"fill: #dd8452; stroke: #333333\"/>\n",
              "     <use xlink:href=\"#m2767c80fad\" x=\"217.644488\" y=\"174.267521\" style=\"fill: #dd8452; stroke: #333333\"/>\n",
              "     <use xlink:href=\"#m2767c80fad\" x=\"206.628649\" y=\"167.118585\" style=\"fill: #dd8452; stroke: #333333\"/>\n",
              "     <use xlink:href=\"#m2767c80fad\" x=\"111.172537\" y=\"75.170974\" style=\"fill: #dd8452; stroke: #333333\"/>\n",
              "     <use xlink:href=\"#m2767c80fad\" x=\"218.828656\" y=\"163.690222\" style=\"fill: #dd8452; stroke: #333333\"/>\n",
              "     <use xlink:href=\"#m2767c80fad\" x=\"121.031355\" y=\"83.877569\" style=\"fill: #dd8452; stroke: #333333\"/>\n",
              "     <use xlink:href=\"#m2767c80fad\" x=\"211.145796\" y=\"197.974896\" style=\"fill: #dd8452; stroke: #333333\"/>\n",
              "     <use xlink:href=\"#m2767c80fad\" x=\"210.39702\" y=\"183.874577\" style=\"fill: #dd8452; stroke: #333333\"/>\n",
              "     <use xlink:href=\"#m2767c80fad\" x=\"126.2973\" y=\"74.682347\" style=\"fill: #dd8452; stroke: #333333\"/>\n",
              "     <use xlink:href=\"#m2767c80fad\" x=\"234.552727\" y=\"209.123006\" style=\"fill: #dd8452; stroke: #333333\"/>\n",
              "     <use xlink:href=\"#m2767c80fad\" x=\"119.546128\" y=\"80.648092\" style=\"fill: #dd8452; stroke: #333333\"/>\n",
              "     <use xlink:href=\"#m2767c80fad\" x=\"115.745093\" y=\"62.196337\" style=\"fill: #dd8452; stroke: #333333\"/>\n",
              "     <use xlink:href=\"#m2767c80fad\" x=\"234.745061\" y=\"183.593855\" style=\"fill: #dd8452; stroke: #333333\"/>\n",
              "     <use xlink:href=\"#m2767c80fad\" x=\"219.950514\" y=\"186.873289\" style=\"fill: #dd8452; stroke: #333333\"/>\n",
              "     <use xlink:href=\"#m2767c80fad\" x=\"115.930009\" y=\"97.665181\" style=\"fill: #dd8452; stroke: #333333\"/>\n",
              "     <use xlink:href=\"#m2767c80fad\" x=\"233.217188\" y=\"193.043485\" style=\"fill: #dd8452; stroke: #333333\"/>\n",
              "     <use xlink:href=\"#m2767c80fad\" x=\"216.798125\" y=\"192.456391\" style=\"fill: #dd8452; stroke: #333333\"/>\n",
              "     <use xlink:href=\"#m2767c80fad\" x=\"210.428294\" y=\"190.237454\" style=\"fill: #dd8452; stroke: #333333\"/>\n",
              "     <use xlink:href=\"#m2767c80fad\" x=\"230.793523\" y=\"195.899479\" style=\"fill: #dd8452; stroke: #333333\"/>\n",
              "     <use xlink:href=\"#m2767c80fad\" x=\"221.914262\" y=\"188.12443\" style=\"fill: #dd8452; stroke: #333333\"/>\n",
              "     <use xlink:href=\"#m2767c80fad\" x=\"213.408117\" y=\"177.844236\" style=\"fill: #dd8452; stroke: #333333\"/>\n",
              "     <use xlink:href=\"#m2767c80fad\" x=\"240.648385\" y=\"204.72216\" style=\"fill: #dd8452; stroke: #333333\"/>\n",
              "     <use xlink:href=\"#m2767c80fad\" x=\"123.793793\" y=\"79.799806\" style=\"fill: #dd8452; stroke: #333333\"/>\n",
              "     <use xlink:href=\"#m2767c80fad\" x=\"119.341801\" y=\"80.920071\" style=\"fill: #dd8452; stroke: #333333\"/>\n",
              "     <use xlink:href=\"#m2767c80fad\" x=\"134.602437\" y=\"94.418085\" style=\"fill: #dd8452; stroke: #333333\"/>\n",
              "     <use xlink:href=\"#m2767c80fad\" x=\"102.926131\" y=\"74.894243\" style=\"fill: #dd8452; stroke: #333333\"/>\n",
              "     <use xlink:href=\"#m2767c80fad\" x=\"200.634458\" y=\"171.22955\" style=\"fill: #dd8452; stroke: #333333\"/>\n",
              "     <use xlink:href=\"#m2767c80fad\" x=\"117.703367\" y=\"95.649877\" style=\"fill: #dd8452; stroke: #333333\"/>\n",
              "     <use xlink:href=\"#m2767c80fad\" x=\"128.903597\" y=\"99.76699\" style=\"fill: #dd8452; stroke: #333333\"/>\n",
              "     <use xlink:href=\"#m2767c80fad\" x=\"234.806723\" y=\"179.277456\" style=\"fill: #dd8452; stroke: #333333\"/>\n",
              "     <use xlink:href=\"#m2767c80fad\" x=\"124.618846\" y=\"79.763093\" style=\"fill: #dd8452; stroke: #333333\"/>\n",
              "     <use xlink:href=\"#m2767c80fad\" x=\"201.845379\" y=\"192.304769\" style=\"fill: #dd8452; stroke: #333333\"/>\n",
              "     <use xlink:href=\"#m2767c80fad\" x=\"231.368965\" y=\"182.750418\" style=\"fill: #dd8452; stroke: #333333\"/>\n",
              "     <use xlink:href=\"#m2767c80fad\" x=\"223.192812\" y=\"178.847834\" style=\"fill: #dd8452; stroke: #333333\"/>\n",
              "     <use xlink:href=\"#m2767c80fad\" x=\"220.591617\" y=\"180.340039\" style=\"fill: #dd8452; stroke: #333333\"/>\n",
              "     <use xlink:href=\"#m2767c80fad\" x=\"122.565255\" y=\"81.58562\" style=\"fill: #dd8452; stroke: #333333\"/>\n",
              "     <use xlink:href=\"#m2767c80fad\" x=\"111.412414\" y=\"73.481921\" style=\"fill: #dd8452; stroke: #333333\"/>\n",
              "     <use xlink:href=\"#m2767c80fad\" x=\"137.747352\" y=\"85.780488\" style=\"fill: #dd8452; stroke: #333333\"/>\n",
              "     <use xlink:href=\"#m2767c80fad\" x=\"93.726163\" y=\"84.484602\" style=\"fill: #dd8452; stroke: #333333\"/>\n",
              "     <use xlink:href=\"#m2767c80fad\" x=\"101.860109\" y=\"80.120816\" style=\"fill: #dd8452; stroke: #333333\"/>\n",
              "     <use xlink:href=\"#m2767c80fad\" x=\"245.688209\" y=\"168.988386\" style=\"fill: #dd8452; stroke: #333333\"/>\n",
              "     <use xlink:href=\"#m2767c80fad\" x=\"113.372331\" y=\"72.917146\" style=\"fill: #dd8452; stroke: #333333\"/>\n",
              "     <use xlink:href=\"#m2767c80fad\" x=\"234.103754\" y=\"183.087687\" style=\"fill: #dd8452; stroke: #333333\"/>\n",
              "     <use xlink:href=\"#m2767c80fad\" x=\"225.021922\" y=\"179.693455\" style=\"fill: #dd8452; stroke: #333333\"/>\n",
              "     <use xlink:href=\"#m2767c80fad\" x=\"119.058071\" y=\"88.820459\" style=\"fill: #dd8452; stroke: #333333\"/>\n",
              "     <use xlink:href=\"#m2767c80fad\" x=\"101.988054\" y=\"103.876298\" style=\"fill: #dd8452; stroke: #333333\"/>\n",
              "     <use xlink:href=\"#m2767c80fad\" x=\"236.75642\" y=\"177.282791\" style=\"fill: #dd8452; stroke: #333333\"/>\n",
              "     <use xlink:href=\"#m2767c80fad\" x=\"205.840101\" y=\"177.502747\" style=\"fill: #dd8452; stroke: #333333\"/>\n",
              "     <use xlink:href=\"#m2767c80fad\" x=\"223.02468\" y=\"172.876873\" style=\"fill: #dd8452; stroke: #333333\"/>\n",
              "     <use xlink:href=\"#m2767c80fad\" x=\"233.604883\" y=\"197.567206\" style=\"fill: #dd8452; stroke: #333333\"/>\n",
              "     <use xlink:href=\"#m2767c80fad\" x=\"104.116164\" y=\"85.290777\" style=\"fill: #dd8452; stroke: #333333\"/>\n",
              "     <use xlink:href=\"#m2767c80fad\" x=\"199.795966\" y=\"194.222921\" style=\"fill: #dd8452; stroke: #333333\"/>\n",
              "     <use xlink:href=\"#m2767c80fad\" x=\"115.775347\" y=\"98.527128\" style=\"fill: #dd8452; stroke: #333333\"/>\n",
              "     <use xlink:href=\"#m2767c80fad\" x=\"105.410835\" y=\"96.733502\" style=\"fill: #dd8452; stroke: #333333\"/>\n",
              "     <use xlink:href=\"#m2767c80fad\" x=\"239.345785\" y=\"202.499009\" style=\"fill: #dd8452; stroke: #333333\"/>\n",
              "     <use xlink:href=\"#m2767c80fad\" x=\"105.460921\" y=\"108.017282\" style=\"fill: #dd8452; stroke: #333333\"/>\n",
              "     <use xlink:href=\"#m2767c80fad\" x=\"208.021891\" y=\"187.416735\" style=\"fill: #dd8452; stroke: #333333\"/>\n",
              "     <use xlink:href=\"#m2767c80fad\" x=\"240.58827\" y=\"188.628436\" style=\"fill: #dd8452; stroke: #333333\"/>\n",
              "     <use xlink:href=\"#m2767c80fad\" x=\"115.095393\" y=\"94.604722\" style=\"fill: #dd8452; stroke: #333333\"/>\n",
              "     <use xlink:href=\"#m2767c80fad\" x=\"227.828966\" y=\"191.397264\" style=\"fill: #dd8452; stroke: #333333\"/>\n",
              "     <use xlink:href=\"#m2767c80fad\" x=\"125.387581\" y=\"70.171029\" style=\"fill: #dd8452; stroke: #333333\"/>\n",
              "     <use xlink:href=\"#m2767c80fad\" x=\"113.3793\" y=\"91.9203\" style=\"fill: #dd8452; stroke: #333333\"/>\n",
              "     <use xlink:href=\"#m2767c80fad\" x=\"104.023567\" y=\"65.632086\" style=\"fill: #dd8452; stroke: #333333\"/>\n",
              "     <use xlink:href=\"#m2767c80fad\" x=\"224.476107\" y=\"175.791287\" style=\"fill: #dd8452; stroke: #333333\"/>\n",
              "    </g>\n",
              "   </g>\n",
              "   <g id=\"patch_3\">\n",
              "    <path d=\"M 59.506094 243.549375 \n",
              "L 59.506094 21.789375 \n",
              "\" style=\"fill: none; stroke: #ffffff; stroke-width: 1.25; stroke-linejoin: miter; stroke-linecap: square\"/>\n",
              "   </g>\n",
              "   <g id=\"patch_4\">\n",
              "    <path d=\"M 281.266094 243.549375 \n",
              "L 281.266094 21.789375 \n",
              "\" style=\"fill: none; stroke: #ffffff; stroke-width: 1.25; stroke-linejoin: miter; stroke-linecap: square\"/>\n",
              "   </g>\n",
              "   <g id=\"patch_5\">\n",
              "    <path d=\"M 59.506094 243.549375 \n",
              "L 281.266094 243.549375 \n",
              "\" style=\"fill: none; stroke: #ffffff; stroke-width: 1.25; stroke-linejoin: miter; stroke-linecap: square\"/>\n",
              "   </g>\n",
              "   <g id=\"patch_6\">\n",
              "    <path d=\"M 59.506094 21.789375 \n",
              "L 281.266094 21.789375 \n",
              "\" style=\"fill: none; stroke: #ffffff; stroke-width: 1.25; stroke-linejoin: miter; stroke-linecap: square\"/>\n",
              "   </g>\n",
              "   <g id=\"text_17\">\n",
              "    <!-- Dataset samples -->\n",
              "    <g style=\"fill: #262626\" transform=\"translate(125.702031 15.789375)scale(0.12 -0.12)\">\n",
              "     <defs>\n",
              "      <path id=\"ArialMT-44\" d=\"M 494 0 \n",
              "L 494 4581 \n",
              "L 2072 4581 \n",
              "Q 2606 4581 2888 4516 \n",
              "Q 3281 4425 3559 4188 \n",
              "Q 3922 3881 4101 3404 \n",
              "Q 4281 2928 4281 2316 \n",
              "Q 4281 1794 4159 1391 \n",
              "Q 4038 988 3847 723 \n",
              "Q 3656 459 3429 307 \n",
              "Q 3203 156 2883 78 \n",
              "Q 2563 0 2147 0 \n",
              "L 494 0 \n",
              "z\n",
              "M 1100 541 \n",
              "L 2078 541 \n",
              "Q 2531 541 2789 625 \n",
              "Q 3047 709 3200 863 \n",
              "Q 3416 1078 3536 1442 \n",
              "Q 3656 1806 3656 2325 \n",
              "Q 3656 3044 3420 3430 \n",
              "Q 3184 3816 2847 3947 \n",
              "Q 2603 4041 2063 4041 \n",
              "L 1100 4041 \n",
              "L 1100 541 \n",
              "z\n",
              "\" transform=\"scale(0.015625)\"/>\n",
              "      <path id=\"ArialMT-61\" d=\"M 2588 409 \n",
              "Q 2275 144 1986 34 \n",
              "Q 1697 -75 1366 -75 \n",
              "Q 819 -75 525 192 \n",
              "Q 231 459 231 875 \n",
              "Q 231 1119 342 1320 \n",
              "Q 453 1522 633 1644 \n",
              "Q 813 1766 1038 1828 \n",
              "Q 1203 1872 1538 1913 \n",
              "Q 2219 1994 2541 2106 \n",
              "Q 2544 2222 2544 2253 \n",
              "Q 2544 2597 2384 2738 \n",
              "Q 2169 2928 1744 2928 \n",
              "Q 1347 2928 1158 2789 \n",
              "Q 969 2650 878 2297 \n",
              "L 328 2372 \n",
              "Q 403 2725 575 2942 \n",
              "Q 747 3159 1072 3276 \n",
              "Q 1397 3394 1825 3394 \n",
              "Q 2250 3394 2515 3294 \n",
              "Q 2781 3194 2906 3042 \n",
              "Q 3031 2891 3081 2659 \n",
              "Q 3109 2516 3109 2141 \n",
              "L 3109 1391 \n",
              "Q 3109 606 3145 398 \n",
              "Q 3181 191 3288 0 \n",
              "L 2700 0 \n",
              "Q 2613 175 2588 409 \n",
              "z\n",
              "M 2541 1666 \n",
              "Q 2234 1541 1622 1453 \n",
              "Q 1275 1403 1131 1340 \n",
              "Q 988 1278 909 1158 \n",
              "Q 831 1038 831 891 \n",
              "Q 831 666 1001 516 \n",
              "Q 1172 366 1500 366 \n",
              "Q 1825 366 2078 508 \n",
              "Q 2331 650 2450 897 \n",
              "Q 2541 1088 2541 1459 \n",
              "L 2541 1666 \n",
              "z\n",
              "\" transform=\"scale(0.015625)\"/>\n",
              "      <path id=\"ArialMT-74\" d=\"M 1650 503 \n",
              "L 1731 6 \n",
              "Q 1494 -44 1306 -44 \n",
              "Q 1000 -44 831 53 \n",
              "Q 663 150 594 308 \n",
              "Q 525 466 525 972 \n",
              "L 525 2881 \n",
              "L 113 2881 \n",
              "L 113 3319 \n",
              "L 525 3319 \n",
              "L 525 4141 \n",
              "L 1084 4478 \n",
              "L 1084 3319 \n",
              "L 1650 3319 \n",
              "L 1650 2881 \n",
              "L 1084 2881 \n",
              "L 1084 941 \n",
              "Q 1084 700 1114 631 \n",
              "Q 1144 563 1211 522 \n",
              "Q 1278 481 1403 481 \n",
              "Q 1497 481 1650 503 \n",
              "z\n",
              "\" transform=\"scale(0.015625)\"/>\n",
              "      <path id=\"ArialMT-73\" d=\"M 197 991 \n",
              "L 753 1078 \n",
              "Q 800 744 1014 566 \n",
              "Q 1228 388 1613 388 \n",
              "Q 2000 388 2187 545 \n",
              "Q 2375 703 2375 916 \n",
              "Q 2375 1106 2209 1216 \n",
              "Q 2094 1291 1634 1406 \n",
              "Q 1016 1563 777 1677 \n",
              "Q 538 1791 414 1992 \n",
              "Q 291 2194 291 2438 \n",
              "Q 291 2659 392 2848 \n",
              "Q 494 3038 669 3163 \n",
              "Q 800 3259 1026 3326 \n",
              "Q 1253 3394 1513 3394 \n",
              "Q 1903 3394 2198 3281 \n",
              "Q 2494 3169 2634 2976 \n",
              "Q 2775 2784 2828 2463 \n",
              "L 2278 2388 \n",
              "Q 2241 2644 2061 2787 \n",
              "Q 1881 2931 1553 2931 \n",
              "Q 1166 2931 1000 2803 \n",
              "Q 834 2675 834 2503 \n",
              "Q 834 2394 903 2306 \n",
              "Q 972 2216 1119 2156 \n",
              "Q 1203 2125 1616 2013 \n",
              "Q 2213 1853 2448 1751 \n",
              "Q 2684 1650 2818 1456 \n",
              "Q 2953 1263 2953 975 \n",
              "Q 2953 694 2789 445 \n",
              "Q 2625 197 2315 61 \n",
              "Q 2006 -75 1616 -75 \n",
              "Q 969 -75 630 194 \n",
              "Q 291 463 197 991 \n",
              "z\n",
              "\" transform=\"scale(0.015625)\"/>\n",
              "      <path id=\"ArialMT-65\" d=\"M 2694 1069 \n",
              "L 3275 997 \n",
              "Q 3138 488 2766 206 \n",
              "Q 2394 -75 1816 -75 \n",
              "Q 1088 -75 661 373 \n",
              "Q 234 822 234 1631 \n",
              "Q 234 2469 665 2931 \n",
              "Q 1097 3394 1784 3394 \n",
              "Q 2450 3394 2872 2941 \n",
              "Q 3294 2488 3294 1666 \n",
              "Q 3294 1616 3291 1516 \n",
              "L 816 1516 \n",
              "Q 847 969 1125 678 \n",
              "Q 1403 388 1819 388 \n",
              "Q 2128 388 2347 550 \n",
              "Q 2566 713 2694 1069 \n",
              "z\n",
              "M 847 1978 \n",
              "L 2700 1978 \n",
              "Q 2663 2397 2488 2606 \n",
              "Q 2219 2931 1791 2931 \n",
              "Q 1403 2931 1139 2672 \n",
              "Q 875 2413 847 1978 \n",
              "z\n",
              "\" transform=\"scale(0.015625)\"/>\n",
              "      <path id=\"ArialMT-20\" transform=\"scale(0.015625)\"/>\n",
              "      <path id=\"ArialMT-6d\" d=\"M 422 0 \n",
              "L 422 3319 \n",
              "L 925 3319 \n",
              "L 925 2853 \n",
              "Q 1081 3097 1340 3245 \n",
              "Q 1600 3394 1931 3394 \n",
              "Q 2300 3394 2536 3241 \n",
              "Q 2772 3088 2869 2813 \n",
              "Q 3263 3394 3894 3394 \n",
              "Q 4388 3394 4653 3120 \n",
              "Q 4919 2847 4919 2278 \n",
              "L 4919 0 \n",
              "L 4359 0 \n",
              "L 4359 2091 \n",
              "Q 4359 2428 4304 2576 \n",
              "Q 4250 2725 4106 2815 \n",
              "Q 3963 2906 3769 2906 \n",
              "Q 3419 2906 3187 2673 \n",
              "Q 2956 2441 2956 1928 \n",
              "L 2956 0 \n",
              "L 2394 0 \n",
              "L 2394 2156 \n",
              "Q 2394 2531 2256 2718 \n",
              "Q 2119 2906 1806 2906 \n",
              "Q 1569 2906 1367 2781 \n",
              "Q 1166 2656 1075 2415 \n",
              "Q 984 2175 984 1722 \n",
              "L 984 0 \n",
              "L 422 0 \n",
              "z\n",
              "\" transform=\"scale(0.015625)\"/>\n",
              "      <path id=\"ArialMT-70\" d=\"M 422 -1272 \n",
              "L 422 3319 \n",
              "L 934 3319 \n",
              "L 934 2888 \n",
              "Q 1116 3141 1344 3267 \n",
              "Q 1572 3394 1897 3394 \n",
              "Q 2322 3394 2647 3175 \n",
              "Q 2972 2956 3137 2557 \n",
              "Q 3303 2159 3303 1684 \n",
              "Q 3303 1175 3120 767 \n",
              "Q 2938 359 2589 142 \n",
              "Q 2241 -75 1856 -75 \n",
              "Q 1575 -75 1351 44 \n",
              "Q 1128 163 984 344 \n",
              "L 984 -1272 \n",
              "L 422 -1272 \n",
              "z\n",
              "M 931 1641 \n",
              "Q 931 1000 1190 694 \n",
              "Q 1450 388 1819 388 \n",
              "Q 2194 388 2461 705 \n",
              "Q 2728 1022 2728 1688 \n",
              "Q 2728 2322 2467 2637 \n",
              "Q 2206 2953 1844 2953 \n",
              "Q 1484 2953 1207 2617 \n",
              "Q 931 2281 931 1641 \n",
              "z\n",
              "\" transform=\"scale(0.015625)\"/>\n",
              "      <path id=\"ArialMT-6c\" d=\"M 409 0 \n",
              "L 409 4581 \n",
              "L 972 4581 \n",
              "L 972 0 \n",
              "L 409 0 \n",
              "z\n",
              "\" transform=\"scale(0.015625)\"/>\n",
              "     </defs>\n",
              "     <use xlink:href=\"#ArialMT-44\"/>\n",
              "     <use xlink:href=\"#ArialMT-61\" x=\"72.216797\"/>\n",
              "     <use xlink:href=\"#ArialMT-74\" x=\"127.832031\"/>\n",
              "     <use xlink:href=\"#ArialMT-61\" x=\"155.615234\"/>\n",
              "     <use xlink:href=\"#ArialMT-73\" x=\"211.230469\"/>\n",
              "     <use xlink:href=\"#ArialMT-65\" x=\"261.230469\"/>\n",
              "     <use xlink:href=\"#ArialMT-74\" x=\"316.845703\"/>\n",
              "     <use xlink:href=\"#ArialMT-20\" x=\"344.628906\"/>\n",
              "     <use xlink:href=\"#ArialMT-73\" x=\"372.412109\"/>\n",
              "     <use xlink:href=\"#ArialMT-61\" x=\"422.412109\"/>\n",
              "     <use xlink:href=\"#ArialMT-6d\" x=\"478.027344\"/>\n",
              "     <use xlink:href=\"#ArialMT-70\" x=\"561.328125\"/>\n",
              "     <use xlink:href=\"#ArialMT-6c\" x=\"616.943359\"/>\n",
              "     <use xlink:href=\"#ArialMT-65\" x=\"639.160156\"/>\n",
              "     <use xlink:href=\"#ArialMT-73\" x=\"694.775391\"/>\n",
              "    </g>\n",
              "   </g>\n",
              "   <g id=\"legend_1\">\n",
              "    <g id=\"patch_7\">\n",
              "     <path d=\"M 201.687969 61.709063 \n",
              "L 273.566094 61.709063 \n",
              "Q 275.766094 61.709063 275.766094 59.509063 \n",
              "L 275.766094 29.489375 \n",
              "Q 275.766094 27.289375 273.566094 27.289375 \n",
              "L 201.687969 27.289375 \n",
              "Q 199.487969 27.289375 199.487969 29.489375 \n",
              "L 199.487969 59.509063 \n",
              "Q 199.487969 61.709063 201.687969 61.709063 \n",
              "z\n",
              "\" style=\"fill: #eaeaf2; opacity: 0.8; stroke: #cccccc; stroke-linejoin: miter\"/>\n",
              "    </g>\n",
              "    <g id=\"PathCollection_3\">\n",
              "     <g>\n",
              "      <use xlink:href=\"#m247273f05a\" x=\"214.887969\" y=\"36.675469\" style=\"fill: #4c72b0; stroke: #333333\"/>\n",
              "     </g>\n",
              "    </g>\n",
              "    <g id=\"text_18\">\n",
              "     <!-- Class 0 -->\n",
              "     <g style=\"fill: #262626\" transform=\"translate(234.687969 39.562969)scale(0.11 -0.11)\">\n",
              "      <defs>\n",
              "       <path id=\"ArialMT-43\" d=\"M 3763 1606 \n",
              "L 4369 1453 \n",
              "Q 4178 706 3683 314 \n",
              "Q 3188 -78 2472 -78 \n",
              "Q 1731 -78 1267 223 \n",
              "Q 803 525 561 1097 \n",
              "Q 319 1669 319 2325 \n",
              "Q 319 3041 592 3573 \n",
              "Q 866 4106 1370 4382 \n",
              "Q 1875 4659 2481 4659 \n",
              "Q 3169 4659 3637 4309 \n",
              "Q 4106 3959 4291 3325 \n",
              "L 3694 3184 \n",
              "Q 3534 3684 3231 3912 \n",
              "Q 2928 4141 2469 4141 \n",
              "Q 1941 4141 1586 3887 \n",
              "Q 1231 3634 1087 3207 \n",
              "Q 944 2781 944 2328 \n",
              "Q 944 1744 1114 1308 \n",
              "Q 1284 872 1643 656 \n",
              "Q 2003 441 2422 441 \n",
              "Q 2931 441 3284 734 \n",
              "Q 3638 1028 3763 1606 \n",
              "z\n",
              "\" transform=\"scale(0.015625)\"/>\n",
              "      </defs>\n",
              "      <use xlink:href=\"#ArialMT-43\"/>\n",
              "      <use xlink:href=\"#ArialMT-6c\" x=\"72.216797\"/>\n",
              "      <use xlink:href=\"#ArialMT-61\" x=\"94.433594\"/>\n",
              "      <use xlink:href=\"#ArialMT-73\" x=\"150.048828\"/>\n",
              "      <use xlink:href=\"#ArialMT-73\" x=\"200.048828\"/>\n",
              "      <use xlink:href=\"#ArialMT-20\" x=\"250.048828\"/>\n",
              "      <use xlink:href=\"#ArialMT-30\" x=\"277.832031\"/>\n",
              "     </g>\n",
              "    </g>\n",
              "    <g id=\"PathCollection_4\">\n",
              "     <g>\n",
              "      <use xlink:href=\"#m2767c80fad\" x=\"214.887969\" y=\"52.235313\" style=\"fill: #dd8452; stroke: #333333\"/>\n",
              "     </g>\n",
              "    </g>\n",
              "    <g id=\"text_19\">\n",
              "     <!-- Class 1 -->\n",
              "     <g style=\"fill: #262626\" transform=\"translate(234.687969 55.122813)scale(0.11 -0.11)\">\n",
              "      <use xlink:href=\"#ArialMT-43\"/>\n",
              "      <use xlink:href=\"#ArialMT-6c\" x=\"72.216797\"/>\n",
              "      <use xlink:href=\"#ArialMT-61\" x=\"94.433594\"/>\n",
              "      <use xlink:href=\"#ArialMT-73\" x=\"150.048828\"/>\n",
              "      <use xlink:href=\"#ArialMT-73\" x=\"200.048828\"/>\n",
              "      <use xlink:href=\"#ArialMT-20\" x=\"250.048828\"/>\n",
              "      <use xlink:href=\"#ArialMT-31\" x=\"277.832031\"/>\n",
              "     </g>\n",
              "    </g>\n",
              "   </g>\n",
              "  </g>\n",
              " </g>\n",
              " <defs>\n",
              "  <clipPath id=\"pb28a276ca2\">\n",
              "   <rect x=\"59.506094\" y=\"21.789375\" width=\"221.76\" height=\"221.76\"/>\n",
              "  </clipPath>\n",
              " </defs>\n",
              "</svg>\n"
            ],
            "text/plain": [
              "<Figure size 2000x2000 with 1 Axes>"
            ]
          },
          "metadata": {},
          "output_type": "display_data"
        }
      ],
      "source": [
        "@torch.no_grad() # Decorator, same effect as \"with torch.no_grad(): ... over the whole function.\"\n",
        "def visualize_classification(model, data, label):\n",
        "    if isinstance(data, torch.Tensor):\n",
        "        data = data.cpu().numpy()\n",
        "    if isinstance(label, torch.Tensor):\n",
        "        label = label.cpu().numpy()\n",
        "    data_0 = data[label == 0]\n",
        "    data_1 = data[label == 1]\n",
        "\n",
        "    fig = plt.figure(figsize=(4,4), dpi=500)\n",
        "    plt.scatter(data_0[:,0], data_0[:,1], edgecolor=\"#333\", label=\"Class 0\")\n",
        "    plt.scatter(data_1[:,0], data_1[:,1], edgecolor=\"#333\", label=\"Class 1\")\n",
        "    plt.title(\"Dataset samples\")\n",
        "    plt.ylabel(r\"$x_2$\")\n",
        "    plt.xlabel(r\"$x_1$\")\n",
        "    plt.legend()\n",
        "\n",
        "    # Let's make use of a lot of operations we have learned above\n",
        "    model.to(device)\n",
        "    c0 = torch.Tensor(to_rgba(\"C0\")).to(device)\n",
        "    c1 = torch.Tensor(to_rgba(\"C1\")).to(device)\n",
        "    x1 = torch.arange(-0.5, 1.5, step=0.01, device=device)\n",
        "    x2 = torch.arange(-0.5, 1.5, step=0.01, device=device)\n",
        "    xx1, xx2 = torch.meshgrid(x1, x2)  # Meshgrid function as in numpy\n",
        "    model_inputs = torch.stack([xx1, xx2], dim=-1)\n",
        "    preds = model(model_inputs)\n",
        "    preds = torch.sigmoid(preds)\n",
        "    output_image = (1 - preds) * c0[None,None] + preds * c1[None,None]  # Specifying \"None\" in a dimension creates a new one\n",
        "    output_image = output_image.cpu().numpy()  # Convert to numpy array. This only works for tensors on CPU, hence first push to CPU\n",
        "    plt.imshow(output_image, origin='lower', extent=(-0.5, 1.5, -0.5, 1.5))\n",
        "    plt.grid(False)\n",
        "    return fig\n",
        "\n",
        "_ = visualize_classification(model, dataset.data, dataset.label)\n",
        "plt.show()"
      ]
    },
    {
      "cell_type": "markdown",
      "metadata": {
        "id": "HQ5s_FLAUZR3"
      },
      "source": [
        "The decision boundaries might not look exactly as in the figure in the preamble of this section which can be caused by running it on CPU or a different GPU architecture. Nevertheless, the result on the accuracy metric should be the approximately the same."
      ]
    },
    {
      "cell_type": "markdown",
      "metadata": {
        "id": "ltgPK-8OUZR3"
      },
      "source": [
        "## Additional features we didn't get to discuss yet\n",
        "\n",
        "Finally, you are all set to start with your own PyTorch project! In summary, we have looked at how we can build neural networks in PyTorch, and train and test them on data. However, there is still much more to PyTorch we haven't discussed yet. In the coming series of Jupyter notebooks, we will discover more and more functionalities of PyTorch, so that you also get familiar to PyTorch concepts beyond the basics. If you are already interested in learning more of PyTorch, we recommend the official [tutorial website](https://pytorch.org/tutorials/) that contains many tutorials on various topics. Especially logging with Tensorboard ([official tutorial here](https://pytorch.org/tutorials/intermediate/tensorboard_tutorial.html)) is a good practice that we will explore further from Tutorial 5 on in combination with PyTorch Lightning.\n",
        "Nonetheless, let's check it shortly out how we could use TensorBoard in our small example."
      ]
    },
    {
      "cell_type": "markdown",
      "metadata": {
        "id": "l8nHvthpUZR3"
      },
      "source": [
        "### TensorBoard logging\n",
        "\n",
        "TensorBoard is a logging and visualization tool that is a popular choice for training deep learning models. Although initially published for TensorFlow, TensorBoard is also integrated in PyTorch allowing us to easily use it. First, let's import it below."
      ]
    },
    {
      "cell_type": "code",
      "execution_count": 173,
      "metadata": {
        "id": "U0pAZ6mpUZR3"
      },
      "outputs": [],
      "source": [
        "# Import tensorboard logger from PyTorch\n",
        "from torch.utils.tensorboard import SummaryWriter\n",
        "\n",
        "# Load tensorboard extension for Jupyter Notebook, only need to start TB in the notebook\n",
        "%load_ext tensorboard"
      ]
    },
    {
      "cell_type": "markdown",
      "metadata": {
        "id": "XjpIYdzzUZR3"
      },
      "source": [
        "The last line is required if you want to run TensorBoard directly in the Jupyter Notebook. Otherwise, you can start TensorBoard from the terminal.\n",
        "\n",
        "PyTorch's TensorBoard API is simple to use. We start the logging process by creating a new object, `writer = SummaryWriter(...)`, where we specify the directory in which the logging file should be saved. With this object, we can log different aspects of our model by calling functions of the style `writer.add_...`. For example, we can visualize the computation graph with the function `writer.add_graph`, or add a scalar value like the loss with `writer.add_scalar`. Let's adapt our initial training function with adding a TensorBoard logger below."
      ]
    },
    {
      "cell_type": "code",
      "execution_count": 174,
      "metadata": {
        "id": "haBA6b8JUZR3"
      },
      "outputs": [],
      "source": [
        "def train_model_with_logger(model, optimizer, data_loader, loss_module, val_dataset, num_epochs=100, logging_dir='runs/our_experiment'):\n",
        "    # Create TensorBoard logger\n",
        "    writer = SummaryWriter(logging_dir)\n",
        "    model_plotted = False\n",
        "\n",
        "    # Set model to train mode\n",
        "    model.train()\n",
        "\n",
        "    # Training loop\n",
        "    for epoch in tqdm(range(num_epochs)):\n",
        "        epoch_loss = 0.0\n",
        "        for data_inputs, data_labels in data_loader:\n",
        "\n",
        "            ## Step 1: Move input data to device (only strictly necessary if we use GPU)\n",
        "            data_inputs = data_inputs.to(device)\n",
        "            data_labels = data_labels.to(device)\n",
        "\n",
        "            # For the very first batch, we visualize the computation graph in TensorBoard\n",
        "            if not model_plotted:\n",
        "                writer.add_graph(model, data_inputs)\n",
        "                model_plotted = True\n",
        "\n",
        "            ## Step 2: Run the model on the input data\n",
        "            preds = model(data_inputs)\n",
        "            preds = preds.squeeze(dim=1) # Output is [Batch size, 1], but we want [Batch size]\n",
        "\n",
        "            ## Step 3: Calculate the loss\n",
        "            loss = loss_module(preds, data_labels.float())\n",
        "\n",
        "            ## Step 4: Perform backpropagation\n",
        "            # Before calculating the gradients, we need to ensure that they are all zero.\n",
        "            # The gradients would not be overwritten, but actually added to the existing ones.\n",
        "            optimizer.zero_grad()\n",
        "            # Perform backpropagation\n",
        "            loss.backward()\n",
        "\n",
        "            ## Step 5: Update the parameters\n",
        "            optimizer.step()\n",
        "\n",
        "            ## Step 6: Take the running average of the loss\n",
        "            epoch_loss += loss.item()\n",
        "\n",
        "        # Add average loss to TensorBoard\n",
        "        epoch_loss /= len(data_loader)\n",
        "        writer.add_scalar('training_loss',\n",
        "                          epoch_loss,\n",
        "                          global_step = epoch + 1)\n",
        "\n",
        "        # Visualize prediction and add figure to TensorBoard\n",
        "        # Since matplotlib figures can be slow in rendering, we only do it every 10th epoch\n",
        "        if (epoch + 1) % 10 == 0:\n",
        "            fig = visualize_classification(model, val_dataset.data, val_dataset.label)\n",
        "            writer.add_figure('predictions',\n",
        "                              fig,\n",
        "                              global_step = epoch + 1)\n",
        "\n",
        "    writer.close()"
      ]
    },
    {
      "cell_type": "markdown",
      "metadata": {
        "id": "-Nc3VtoZUZR3"
      },
      "source": [
        "Let's use this method to train a model as before, with a new model and optimizer."
      ]
    },
    {
      "cell_type": "code",
      "execution_count": 175,
      "metadata": {
        "colab": {
          "referenced_widgets": [
            "833e50b766e34e2ba3e97ca7b91b6703"
          ]
        },
        "id": "ol7k92vaUZR4",
        "outputId": "f338b164-74e0-43ae-c9cb-f6ef2fb652ae"
      },
      "outputs": [
        {
          "data": {
            "application/vnd.jupyter.widget-view+json": {
              "model_id": "accde1fbb5874c62b23df98828cadfe7",
              "version_major": 2,
              "version_minor": 0
            },
            "text/plain": [
              "  0%|          | 0/100 [00:00<?, ?it/s]"
            ]
          },
          "metadata": {},
          "output_type": "display_data"
        }
      ],
      "source": [
        "model = SimpleClassifier(num_inputs=2, num_hidden=4, num_outputs=1).to(device)\n",
        "optimizer = torch.optim.SGD(model.parameters(), lr=0.1)\n",
        "train_model_with_logger(model, optimizer, train_data_loader, loss_module, val_dataset=dataset)"
      ]
    },
    {
      "cell_type": "markdown",
      "metadata": {
        "id": "viaYcygCUZR4"
      },
      "source": [
        "The TensorBoard file in the folder `runs/our_experiment` now contains a loss curve, the computation graph of our network, and a visualization of the learned predictions over number of epochs. To start the TensorBoard visualizer, simply run the following statement:"
      ]
    },
    {
      "cell_type": "code",
      "execution_count": 177,
      "metadata": {
        "id": "7pvD4s_HUZR4"
      },
      "outputs": [
        {
          "data": {
            "text/plain": [
              "Reusing TensorBoard on port 6006 (pid 24172), started 0:00:49 ago. (Use '!kill 24172' to kill it.)"
            ]
          },
          "metadata": {},
          "output_type": "display_data"
        },
        {
          "data": {
            "text/html": [
              "\n",
              "      <iframe id=\"tensorboard-frame-1a43c716afc6b119\" width=\"100%\" height=\"800\" frameborder=\"0\">\n",
              "      </iframe>\n",
              "      <script>\n",
              "        (function() {\n",
              "          const frame = document.getElementById(\"tensorboard-frame-1a43c716afc6b119\");\n",
              "          const url = new URL(\"http://localhost\");\n",
              "          const port = 6006;\n",
              "          if (port) {\n",
              "            url.port = port;\n",
              "          }\n",
              "          frame.src = url;\n",
              "        })();\n",
              "      </script>\n",
              "    "
            ],
            "text/plain": [
              "<IPython.core.display.HTML object>"
            ]
          },
          "metadata": {},
          "output_type": "display_data"
        }
      ],
      "source": [
        "%tensorboard --logdir runs/our_experiment"
      ]
    },
    {
      "cell_type": "markdown",
      "metadata": {
        "id": "BFeTWQ_XUZR4"
      },
      "source": [
        "<center><img src=\"https://github.com/phlippe/uvadlc_notebooks/blob/master/docs/tutorial_notebooks/tutorial2/tensorboard_screenshot.png?raw=1\" width=\"1100px\"></center>\n",
        "\n",
        "TensorBoard visualizations can help to identify possible issues with your model, and identify situations such as overfitting. You can also track the training progress while a model is training, since the logger automatically writes everything added to it to the logging file. Feel free to explore the TensorBoard functionalities, and we will make use of TensorBoards a couple of times from Tutorial 5 on."
      ]
    },
    {
      "cell_type": "markdown",
      "metadata": {
        "id": "xIwfPWuhUZR4"
      },
      "source": [
        "---\n",
        "\n",
        "[![Star our repository](https://img.shields.io/static/v1.svg?logo=star&label=⭐&message=Star%20Our%20Repository&color=yellow)](https://github.com/phlippe/uvadlc_notebooks/)  If you found this tutorial helpful, consider ⭐-ing our repository.    \n",
        "[![Ask questions](https://img.shields.io/static/v1.svg?logo=star&label=❔&message=Ask%20Questions&color=9cf)](https://github.com/phlippe/uvadlc_notebooks/issues)  For any questions, typos, or bugs that you found, please raise an issue on GitHub.\n",
        "\n",
        "---"
      ]
    }
  ],
  "metadata": {
    "colab": {
      "provenance": []
    },
    "kernelspec": {
      "display_name": "Python 3 (ipykernel)",
      "language": "python",
      "name": "python3"
    },
    "language_info": {
      "codemirror_mode": {
        "name": "ipython",
        "version": 3
      },
      "file_extension": ".py",
      "mimetype": "text/x-python",
      "name": "python",
      "nbconvert_exporter": "python",
      "pygments_lexer": "ipython3",
      "version": "3.7.16"
    }
  },
  "nbformat": 4,
  "nbformat_minor": 0
}
